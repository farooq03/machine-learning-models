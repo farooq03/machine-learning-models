{
 "cells": [
  {
   "cell_type": "code",
   "execution_count": 110,
   "id": "60294fd4",
   "metadata": {},
   "outputs": [],
   "source": [
    "import pandas as pd\n",
    "import numpy as np\n",
    "import matplotlib.pyplot as plt\n",
    "from matplotlib import rcParams\n",
    "import seaborn as sns\n",
    "from sklearn.cluster import KMeans\n",
    "from sklearn.metrics import classification_report,confusion_matrix,accuracy_score,r2_score\n",
    "from sklearn.model_selection import train_test_split\n"
   ]
  },
  {
   "cell_type": "code",
   "execution_count": 7,
   "id": "48c24c4c",
   "metadata": {},
   "outputs": [],
   "source": [
    "df=pd.read_csv('datasets/iris.csv',index_col='Id')"
   ]
  },
  {
   "cell_type": "code",
   "execution_count": 8,
   "id": "5ba98264",
   "metadata": {},
   "outputs": [
    {
     "data": {
      "text/html": [
       "<div>\n",
       "<style scoped>\n",
       "    .dataframe tbody tr th:only-of-type {\n",
       "        vertical-align: middle;\n",
       "    }\n",
       "\n",
       "    .dataframe tbody tr th {\n",
       "        vertical-align: top;\n",
       "    }\n",
       "\n",
       "    .dataframe thead th {\n",
       "        text-align: right;\n",
       "    }\n",
       "</style>\n",
       "<table border=\"1\" class=\"dataframe\">\n",
       "  <thead>\n",
       "    <tr style=\"text-align: right;\">\n",
       "      <th></th>\n",
       "      <th>SepalLengthCm</th>\n",
       "      <th>SepalWidthCm</th>\n",
       "      <th>PetalLengthCm</th>\n",
       "      <th>PetalWidthCm</th>\n",
       "      <th>Species</th>\n",
       "    </tr>\n",
       "    <tr>\n",
       "      <th>Id</th>\n",
       "      <th></th>\n",
       "      <th></th>\n",
       "      <th></th>\n",
       "      <th></th>\n",
       "      <th></th>\n",
       "    </tr>\n",
       "  </thead>\n",
       "  <tbody>\n",
       "    <tr>\n",
       "      <th>1</th>\n",
       "      <td>5.1</td>\n",
       "      <td>3.5</td>\n",
       "      <td>1.4</td>\n",
       "      <td>0.2</td>\n",
       "      <td>0</td>\n",
       "    </tr>\n",
       "    <tr>\n",
       "      <th>2</th>\n",
       "      <td>4.9</td>\n",
       "      <td>3.0</td>\n",
       "      <td>1.4</td>\n",
       "      <td>0.2</td>\n",
       "      <td>0</td>\n",
       "    </tr>\n",
       "    <tr>\n",
       "      <th>3</th>\n",
       "      <td>4.7</td>\n",
       "      <td>3.2</td>\n",
       "      <td>1.3</td>\n",
       "      <td>0.2</td>\n",
       "      <td>0</td>\n",
       "    </tr>\n",
       "    <tr>\n",
       "      <th>4</th>\n",
       "      <td>4.6</td>\n",
       "      <td>3.1</td>\n",
       "      <td>1.5</td>\n",
       "      <td>0.2</td>\n",
       "      <td>0</td>\n",
       "    </tr>\n",
       "    <tr>\n",
       "      <th>5</th>\n",
       "      <td>5.0</td>\n",
       "      <td>3.6</td>\n",
       "      <td>1.4</td>\n",
       "      <td>0.2</td>\n",
       "      <td>0</td>\n",
       "    </tr>\n",
       "  </tbody>\n",
       "</table>\n",
       "</div>"
      ],
      "text/plain": [
       "    SepalLengthCm  SepalWidthCm  PetalLengthCm  PetalWidthCm  Species\n",
       "Id                                                                   \n",
       "1             5.1           3.5            1.4           0.2        0\n",
       "2             4.9           3.0            1.4           0.2        0\n",
       "3             4.7           3.2            1.3           0.2        0\n",
       "4             4.6           3.1            1.5           0.2        0\n",
       "5             5.0           3.6            1.4           0.2        0"
      ]
     },
     "execution_count": 8,
     "metadata": {},
     "output_type": "execute_result"
    }
   ],
   "source": [
    "df.head()"
   ]
  },
  {
   "cell_type": "code",
   "execution_count": 26,
   "id": "d83c1c96",
   "metadata": {},
   "outputs": [],
   "source": []
  },
  {
   "cell_type": "code",
   "execution_count": 30,
   "id": "fb9eb4d8",
   "metadata": {},
   "outputs": [
    {
     "data": {
      "image/png": "[encoded data removed]",
      "text/plain": [
       "<Figure size 432x288 with 1 Axes>"
      ]
     },
     "metadata": {
      "needs_background": "light"
     },
     "output_type": "display_data"
    }
   ],
   "source": [
    "plt.figure()\n",
    "x=df['SepalLengthCm']\n",
    "\n",
    "y=df['PetalLengthCm']\n",
    "plt.scatter(x,y,c='red')\n",
    "plt.show()"
   ]
  },
  {
   "cell_type": "code",
   "execution_count": 31,
   "id": "ec6bc4bc",
   "metadata": {},
   "outputs": [],
   "source": [
    "X=df.loc[:,['PetalLengthCm','PetalWidthCm']]"
   ]
  },
  {
   "cell_type": "code",
   "execution_count": 32,
   "id": "26393179",
   "metadata": {},
   "outputs": [
    {
     "data": {
      "image/png": "[encoded data removed]",
      "text/plain": [
       "<Figure size 432x288 with 1 Axes>"
      ]
     },
     "metadata": {
      "needs_background": "light"
     },
     "output_type": "display_data"
    }
   ],
   "source": [
    "plt.scatter(X.PetalLengthCm,X.PetalWidthCm,c='blue',marker='D',s=60)\n",
    "plt.show()"
   ]
  },
  {
   "cell_type": "code",
   "execution_count": 33,
   "id": "94e92144",
   "metadata": {},
   "outputs": [
    {
     "data": {
      "text/plain": [
       "KMeans(n_clusters=5)"
      ]
     },
     "execution_count": 33,
     "metadata": {},
     "output_type": "execute_result"
    }
   ],
   "source": [
    "model=KMeans(n_clusters=5)\n",
    "model.fit(X)"
   ]
  },
  {
   "cell_type": "code",
   "execution_count": 34,
   "id": "7521ef38",
   "metadata": {},
   "outputs": [
    {
     "data": {
      "text/plain": [
       "array([1, 1, 1, 1, 1, 1, 1, 1, 1, 1, 1, 1, 1, 1, 1, 1, 1, 1, 1, 1, 1, 1,\n",
       "       1, 1, 1, 1, 1, 1, 1, 1, 1, 1, 1, 1, 1, 1, 1, 1, 1, 1, 1, 1, 1, 1,\n",
       "       1, 1, 1, 1, 1, 1, 0, 0, 0, 4, 0, 0, 0, 4, 0, 4, 4, 0, 4, 0, 4, 0,\n",
       "       0, 4, 0, 4, 0, 4, 0, 0, 0, 0, 0, 0, 0, 4, 4, 4, 4, 0, 0, 0, 0, 0,\n",
       "       4, 4, 0, 0, 4, 4, 4, 4, 4, 0, 4, 4, 2, 3, 2, 3, 3, 2, 0, 2, 3, 2,\n",
       "       3, 3, 3, 3, 3, 3, 3, 2, 2, 0, 3, 3, 2, 0, 3, 2, 0, 0, 3, 3, 2, 2,\n",
       "       3, 0, 3, 2, 3, 3, 0, 3, 3, 3, 3, 2, 3, 3, 3, 3, 3, 3])"
      ]
     },
     "execution_count": 34,
     "metadata": {},
     "output_type": "execute_result"
    }
   ],
   "source": [
    "model.labels_"
   ]
  },
  {
   "cell_type": "code",
   "execution_count": 35,
   "id": "03ade924",
   "metadata": {},
   "outputs": [
    {
     "data": {
      "text/plain": [
       "array([[4.64857143, 1.5       ],\n",
       "       [1.464     , 0.244     ],\n",
       "       [6.28461538, 2.13846154],\n",
       "       [5.39666667, 2.05333333],\n",
       "       [3.83181818, 1.16818182]])"
      ]
     },
     "execution_count": 35,
     "metadata": {},
     "output_type": "execute_result"
    }
   ],
   "source": [
    "model.cluster_centers_"
   ]
  },
  {
   "cell_type": "code",
   "execution_count": 36,
   "id": "51981778",
   "metadata": {},
   "outputs": [],
   "source": [
    "cluster_colors = np.array(['red', 'blue', 'green', 'pink', 'yellow'])"
   ]
  },
  {
   "cell_type": "code",
   "execution_count": 38,
   "id": "7dc98298",
   "metadata": {},
   "outputs": [
    {
     "data": {
      "image/png": "[encoded data removed]",
      "text/plain": [
       "<Figure size 432x288 with 1 Axes>"
      ]
     },
     "metadata": {
      "needs_background": "light"
     },
     "output_type": "display_data"
    }
   ],
   "source": [
    "plt.scatter(X.PetalLengthCm,X.PetalWidthCm,marker='D',s=40,color=cluster_colors[model.labels_])\n",
    "plt.show()"
   ]
  },
  {
   "cell_type": "code",
   "execution_count": 59,
   "id": "f3d054ff",
   "metadata": {},
   "outputs": [
    {
     "name": "stderr",
     "output_type": "stream",
     "text": [
      "C:\\Users\\SA\\anaconda3\\lib\\site-packages\\sklearn\\cluster\\_kmeans.py:881: UserWarning: KMeans is known to have a memory leak on Windows with MKL, when there are less chunks than available threads. You can avoid it by setting the environment variable OMP_NUM_THREADS=1.\n",
      "  warnings.warn(\n"
     ]
    },
    {
     "data": {
      "text/plain": [
       "[256.0398605319133,\n",
       " 87.65887594972752,\n",
       " 55.388565479609625,\n",
       " 45.2313110760368,\n",
       " 39.836118964113865,\n",
       " 35.21248721042506,\n",
       " 31.953137453296694,\n",
       " 29.365888416670373,\n",
       " 27.7447871556845,\n",
       " 25.86144771767357,\n",
       " 24.840101747718993,\n",
       " 23.602493426367126,\n",
       " 22.621963450143355,\n",
       " 21.437229649846085,\n",
       " 20.97707634492835,\n",
       " 19.762224969769,\n",
       " 18.863314370548938,\n",
       " 18.16329950253692,\n",
       " 18.662183693328394]"
      ]
     },
     "execution_count": 59,
     "metadata": {},
     "output_type": "execute_result"
    }
   ],
   "source": [
    "from scipy.spatial.distance import cdist\n",
    "error = []\n",
    "\n",
    "for k in range(1,20):\n",
    "    model = KMeans(n_clusters=k)\n",
    "    model.fit(X)\n",
    "    # distance between points and cluster centres \n",
    "    dist = cdist(X, model.cluster_centers_)\n",
    "    # only keep the distances between a point and its own cluster\n",
    "    act_dist = np.min (dist, axis=1)\n",
    "    # add all the distances\n",
    "    total_distance_error = sum(act_dist)\n",
    "    error.append(total_distance_error)\n",
    "error"
   ]
  },
  {
   "cell_type": "code",
   "execution_count": 60,
   "id": "4d1976c5",
   "metadata": {},
   "outputs": [
    {
     "data": {
      "image/png": "[encoded data removed]",
      "text/plain": [
       "<Figure size 432x288 with 1 Axes>"
      ]
     },
     "metadata": {
      "needs_background": "light"
     },
     "output_type": "display_data"
    }
   ],
   "source": [
    "plt.plot(range(1,20), error,'-o')\n",
    "plt.xticks(range(1,20))\n",
    "plt.xlabel('K')\n",
    "plt.ylabel('Error')\n",
    "plt.show()"
   ]
  },
  {
   "cell_type": "code",
   "execution_count": 61,
   "id": "a3140c6a",
   "metadata": {},
   "outputs": [
    {
     "data": {
      "text/plain": [
       "2.8678470418470416"
      ]
     },
     "execution_count": 61,
     "metadata": {},
     "output_type": "execute_result"
    }
   ],
   "source": [
    "model.inertia_"
   ]
  },
  {
   "cell_type": "code",
   "execution_count": 62,
   "id": "2ba0b3ee",
   "metadata": {},
   "outputs": [],
   "source": [
    "k = range(1, 20)"
   ]
  },
  {
   "cell_type": "code",
   "execution_count": 63,
   "id": "cc9482c2",
   "metadata": {},
   "outputs": [
    {
     "name": "stderr",
     "output_type": "stream",
     "text": [
      "C:\\Users\\SA\\anaconda3\\lib\\site-packages\\sklearn\\cluster\\_kmeans.py:881: UserWarning: KMeans is known to have a memory leak on Windows with MKL, when there are less chunks than available threads. You can avoid it by setting the environment variable OMP_NUM_THREADS=1.\n",
      "  warnings.warn(\n"
     ]
    },
    {
     "data": {
      "text/plain": [
       "[550.6434666666671,\n",
       " 86.40394533570999,\n",
       " 31.38775897435898,\n",
       " 19.49352336396547,\n",
       " 13.93330875790876,\n",
       " 11.052733877751736,\n",
       " 9.205027140974968,\n",
       " 7.640593062579725,\n",
       " 6.472894541406304,\n",
       " 5.730425630067575,\n",
       " 5.124253867047985,\n",
       " 4.700009306313655,\n",
       " 4.41245381858285,\n",
       " 3.9478067768170044,\n",
       " 3.7235980226082512,\n",
       " 3.356127950006981,\n",
       " 3.177273554402586,\n",
       " 2.989744949494947,\n",
       " 2.784546536796537]"
      ]
     },
     "execution_count": 63,
     "metadata": {},
     "output_type": "execute_result"
    }
   ],
   "source": [
    "error = []\n",
    "\n",
    "for k in range(1,20):\n",
    "    model = KMeans(n_clusters=k)\n",
    "    model.fit(X)\n",
    "   \n",
    "    error.append(model.inertia_)\n",
    "error"
   ]
  },
  {
   "cell_type": "code",
   "execution_count": 64,
   "id": "14b714f9",
   "metadata": {},
   "outputs": [
    {
     "data": {
      "image/png": "[encoded data removed]",
      "text/plain": [
       "<Figure size 432x288 with 1 Axes>"
      ]
     },
     "metadata": {
      "needs_background": "light"
     },
     "output_type": "display_data"
    }
   ],
   "source": [
    "plt.plot(range(1,20), error,'-o')\n",
    "plt.xticks(range(1,20))\n",
    "plt.xlabel('K')\n",
    "plt.ylabel('Error')\n",
    "plt.show()"
   ]
  },
  {
   "cell_type": "code",
   "execution_count": 65,
   "id": "be778ab9",
   "metadata": {},
   "outputs": [
    {
     "data": {
      "text/html": [
       "<div>\n",
       "<style scoped>\n",
       "    .dataframe tbody tr th:only-of-type {\n",
       "        vertical-align: middle;\n",
       "    }\n",
       "\n",
       "    .dataframe tbody tr th {\n",
       "        vertical-align: top;\n",
       "    }\n",
       "\n",
       "    .dataframe thead th {\n",
       "        text-align: right;\n",
       "    }\n",
       "</style>\n",
       "<table border=\"1\" class=\"dataframe\">\n",
       "  <thead>\n",
       "    <tr style=\"text-align: right;\">\n",
       "      <th></th>\n",
       "      <th>PetalLengthCm</th>\n",
       "      <th>PetalWidthCm</th>\n",
       "    </tr>\n",
       "    <tr>\n",
       "      <th>Id</th>\n",
       "      <th></th>\n",
       "      <th></th>\n",
       "    </tr>\n",
       "  </thead>\n",
       "  <tbody>\n",
       "    <tr>\n",
       "      <th>1</th>\n",
       "      <td>1.4</td>\n",
       "      <td>0.2</td>\n",
       "    </tr>\n",
       "    <tr>\n",
       "      <th>2</th>\n",
       "      <td>1.4</td>\n",
       "      <td>0.2</td>\n",
       "    </tr>\n",
       "    <tr>\n",
       "      <th>3</th>\n",
       "      <td>1.3</td>\n",
       "      <td>0.2</td>\n",
       "    </tr>\n",
       "    <tr>\n",
       "      <th>4</th>\n",
       "      <td>1.5</td>\n",
       "      <td>0.2</td>\n",
       "    </tr>\n",
       "    <tr>\n",
       "      <th>5</th>\n",
       "      <td>1.4</td>\n",
       "      <td>0.2</td>\n",
       "    </tr>\n",
       "    <tr>\n",
       "      <th>...</th>\n",
       "      <td>...</td>\n",
       "      <td>...</td>\n",
       "    </tr>\n",
       "    <tr>\n",
       "      <th>146</th>\n",
       "      <td>5.2</td>\n",
       "      <td>2.3</td>\n",
       "    </tr>\n",
       "    <tr>\n",
       "      <th>147</th>\n",
       "      <td>5.0</td>\n",
       "      <td>1.9</td>\n",
       "    </tr>\n",
       "    <tr>\n",
       "      <th>148</th>\n",
       "      <td>5.2</td>\n",
       "      <td>2.0</td>\n",
       "    </tr>\n",
       "    <tr>\n",
       "      <th>149</th>\n",
       "      <td>5.4</td>\n",
       "      <td>2.3</td>\n",
       "    </tr>\n",
       "    <tr>\n",
       "      <th>150</th>\n",
       "      <td>5.1</td>\n",
       "      <td>1.8</td>\n",
       "    </tr>\n",
       "  </tbody>\n",
       "</table>\n",
       "<p>150 rows × 2 columns</p>\n",
       "</div>"
      ],
      "text/plain": [
       "     PetalLengthCm  PetalWidthCm\n",
       "Id                              \n",
       "1              1.4           0.2\n",
       "2              1.4           0.2\n",
       "3              1.3           0.2\n",
       "4              1.5           0.2\n",
       "5              1.4           0.2\n",
       "..             ...           ...\n",
       "146            5.2           2.3\n",
       "147            5.0           1.9\n",
       "148            5.2           2.0\n",
       "149            5.4           2.3\n",
       "150            5.1           1.8\n",
       "\n",
       "[150 rows x 2 columns]"
      ]
     },
     "execution_count": 65,
     "metadata": {},
     "output_type": "execute_result"
    }
   ],
   "source": [
    "X"
   ]
  },
  {
   "cell_type": "markdown",
   "id": "3ffe1991",
   "metadata": {},
   "source": [
    "# make pipeline "
   ]
  },
  {
   "cell_type": "code",
   "execution_count": 66,
   "id": "dc06ac56",
   "metadata": {},
   "outputs": [],
   "source": [
    "from sklearn.pipeline import make_pipeline\n",
    "from sklearn.preprocessing import StandardScaler"
   ]
  },
  {
   "cell_type": "code",
   "execution_count": 67,
   "id": "f15cb75e",
   "metadata": {},
   "outputs": [],
   "source": [
    "scaler=StandardScaler()\n",
    "kmeans=KMeans(n_clusters=3)"
   ]
  },
  {
   "cell_type": "code",
   "execution_count": 68,
   "id": "9a1ffa2b",
   "metadata": {},
   "outputs": [],
   "source": [
    "pipeline=make_pipeline(scaler,kmeans)"
   ]
  },
  {
   "cell_type": "code",
   "execution_count": 69,
   "id": "45d1f031",
   "metadata": {},
   "outputs": [
    {
     "data": {
      "text/plain": [
       "Pipeline(steps=[('standardscaler', StandardScaler()),\n",
       "                ('kmeans', KMeans(n_clusters=3))])"
      ]
     },
     "execution_count": 69,
     "metadata": {},
     "output_type": "execute_result"
    }
   ],
   "source": [
    "pipeline"
   ]
  },
  {
   "cell_type": "code",
   "execution_count": 70,
   "id": "1742059f",
   "metadata": {},
   "outputs": [
    {
     "data": {
      "text/plain": [
       "Pipeline(steps=[('standardscaler', StandardScaler()),\n",
       "                ('kmeans', KMeans(n_clusters=3))])"
      ]
     },
     "execution_count": 70,
     "metadata": {},
     "output_type": "execute_result"
    }
   ],
   "source": [
    "pipeline.fit(X)"
   ]
  },
  {
   "cell_type": "code",
   "execution_count": 71,
   "id": "408e558c",
   "metadata": {},
   "outputs": [],
   "source": [
    "labels=pipeline.predict(X)"
   ]
  },
  {
   "cell_type": "code",
   "execution_count": 72,
   "id": "2e45161a",
   "metadata": {},
   "outputs": [
    {
     "data": {
      "text/plain": [
       "array([0, 0, 0, 0, 0, 0, 0, 0, 0, 0, 0, 0, 0, 0, 0, 0, 0, 0, 0, 0, 0, 0,\n",
       "       0, 0, 0, 0, 0, 0, 0, 0, 0, 0, 0, 0, 0, 0, 0, 0, 0, 0, 0, 0, 0, 0,\n",
       "       0, 0, 0, 0, 0, 0, 2, 2, 2, 2, 2, 2, 2, 2, 2, 2, 2, 2, 2, 2, 2, 2,\n",
       "       2, 2, 2, 2, 1, 2, 2, 2, 2, 2, 2, 1, 2, 2, 2, 2, 2, 2, 2, 2, 2, 2,\n",
       "       2, 2, 2, 2, 2, 2, 2, 2, 2, 2, 2, 2, 1, 1, 1, 1, 1, 1, 2, 1, 1, 1,\n",
       "       1, 1, 1, 1, 1, 1, 1, 1, 1, 2, 1, 1, 1, 1, 1, 1, 1, 1, 1, 1, 1, 1,\n",
       "       1, 2, 2, 1, 1, 1, 1, 1, 1, 1, 1, 1, 1, 1, 1, 1, 1, 1])"
      ]
     },
     "execution_count": 72,
     "metadata": {},
     "output_type": "execute_result"
    }
   ],
   "source": [
    "labels"
   ]
  },
  {
   "cell_type": "markdown",
   "id": "615ad64b",
   "metadata": {},
   "source": [
    "# hierarchy"
   ]
  },
  {
   "cell_type": "code",
   "execution_count": 79,
   "id": "62b60472",
   "metadata": {},
   "outputs": [
    {
     "data": {
      "image/png": "[encoded data removed]",
      "text/plain": [
       "<Figure size 432x288 with 1 Axes>"
      ]
     },
     "metadata": {
      "needs_background": "light"
     },
     "output_type": "display_data"
    }
   ],
   "source": [
    "from scipy.cluster.hierarchy import linkage,dendrogram\n",
    "merging=linkage(X,method='complete')\n",
    "dendrogram(merging,\n",
    "           \n",
    "          leaf_rotation=90,\n",
    "          leaf_font_size=6)\n",
    "plt.show()"
   ]
  },
  {
   "cell_type": "markdown",
   "id": "b5526ab3",
   "metadata": {},
   "source": [
    "# pca"
   ]
  },
  {
   "cell_type": "code",
   "execution_count": 80,
   "id": "fbc3d2e1",
   "metadata": {},
   "outputs": [],
   "source": [
    "data=pd.read_csv('datasets/breast_cancer.csv')"
   ]
  },
  {
   "cell_type": "code",
   "execution_count": 81,
   "id": "087d8deb",
   "metadata": {},
   "outputs": [
    {
     "data": {
      "text/html": [
       "<div>\n",
       "<style scoped>\n",
       "    .dataframe tbody tr th:only-of-type {\n",
       "        vertical-align: middle;\n",
       "    }\n",
       "\n",
       "    .dataframe tbody tr th {\n",
       "        vertical-align: top;\n",
       "    }\n",
       "\n",
       "    .dataframe thead th {\n",
       "        text-align: right;\n",
       "    }\n",
       "</style>\n",
       "<table border=\"1\" class=\"dataframe\">\n",
       "  <thead>\n",
       "    <tr style=\"text-align: right;\">\n",
       "      <th></th>\n",
       "      <th>mean radius</th>\n",
       "      <th>mean texture</th>\n",
       "      <th>mean perimeter</th>\n",
       "      <th>mean area</th>\n",
       "      <th>mean smoothness</th>\n",
       "      <th>mean compactness</th>\n",
       "      <th>mean concavity</th>\n",
       "      <th>mean concave points</th>\n",
       "      <th>mean symmetry</th>\n",
       "      <th>mean fractal dimension</th>\n",
       "      <th>...</th>\n",
       "      <th>worst texture</th>\n",
       "      <th>worst perimeter</th>\n",
       "      <th>worst area</th>\n",
       "      <th>worst smoothness</th>\n",
       "      <th>worst compactness</th>\n",
       "      <th>worst concavity</th>\n",
       "      <th>worst concave points</th>\n",
       "      <th>worst symmetry</th>\n",
       "      <th>worst fractal dimension</th>\n",
       "      <th>outcome</th>\n",
       "    </tr>\n",
       "  </thead>\n",
       "  <tbody>\n",
       "    <tr>\n",
       "      <th>0</th>\n",
       "      <td>17.99</td>\n",
       "      <td>10.38</td>\n",
       "      <td>122.80</td>\n",
       "      <td>1001.0</td>\n",
       "      <td>0.11840</td>\n",
       "      <td>0.27760</td>\n",
       "      <td>0.3001</td>\n",
       "      <td>0.14710</td>\n",
       "      <td>0.2419</td>\n",
       "      <td>0.07871</td>\n",
       "      <td>...</td>\n",
       "      <td>17.33</td>\n",
       "      <td>184.60</td>\n",
       "      <td>2019.0</td>\n",
       "      <td>0.1622</td>\n",
       "      <td>0.6656</td>\n",
       "      <td>0.7119</td>\n",
       "      <td>0.2654</td>\n",
       "      <td>0.4601</td>\n",
       "      <td>0.11890</td>\n",
       "      <td>1</td>\n",
       "    </tr>\n",
       "    <tr>\n",
       "      <th>1</th>\n",
       "      <td>20.57</td>\n",
       "      <td>17.77</td>\n",
       "      <td>132.90</td>\n",
       "      <td>1326.0</td>\n",
       "      <td>0.08474</td>\n",
       "      <td>0.07864</td>\n",
       "      <td>0.0869</td>\n",
       "      <td>0.07017</td>\n",
       "      <td>0.1812</td>\n",
       "      <td>0.05667</td>\n",
       "      <td>...</td>\n",
       "      <td>23.41</td>\n",
       "      <td>158.80</td>\n",
       "      <td>1956.0</td>\n",
       "      <td>0.1238</td>\n",
       "      <td>0.1866</td>\n",
       "      <td>0.2416</td>\n",
       "      <td>0.1860</td>\n",
       "      <td>0.2750</td>\n",
       "      <td>0.08902</td>\n",
       "      <td>1</td>\n",
       "    </tr>\n",
       "    <tr>\n",
       "      <th>2</th>\n",
       "      <td>19.69</td>\n",
       "      <td>21.25</td>\n",
       "      <td>130.00</td>\n",
       "      <td>1203.0</td>\n",
       "      <td>0.10960</td>\n",
       "      <td>0.15990</td>\n",
       "      <td>0.1974</td>\n",
       "      <td>0.12790</td>\n",
       "      <td>0.2069</td>\n",
       "      <td>0.05999</td>\n",
       "      <td>...</td>\n",
       "      <td>25.53</td>\n",
       "      <td>152.50</td>\n",
       "      <td>1709.0</td>\n",
       "      <td>0.1444</td>\n",
       "      <td>0.4245</td>\n",
       "      <td>0.4504</td>\n",
       "      <td>0.2430</td>\n",
       "      <td>0.3613</td>\n",
       "      <td>0.08758</td>\n",
       "      <td>1</td>\n",
       "    </tr>\n",
       "    <tr>\n",
       "      <th>3</th>\n",
       "      <td>11.42</td>\n",
       "      <td>20.38</td>\n",
       "      <td>77.58</td>\n",
       "      <td>386.1</td>\n",
       "      <td>0.14250</td>\n",
       "      <td>0.28390</td>\n",
       "      <td>0.2414</td>\n",
       "      <td>0.10520</td>\n",
       "      <td>0.2597</td>\n",
       "      <td>0.09744</td>\n",
       "      <td>...</td>\n",
       "      <td>26.50</td>\n",
       "      <td>98.87</td>\n",
       "      <td>567.7</td>\n",
       "      <td>0.2098</td>\n",
       "      <td>0.8663</td>\n",
       "      <td>0.6869</td>\n",
       "      <td>0.2575</td>\n",
       "      <td>0.6638</td>\n",
       "      <td>0.17300</td>\n",
       "      <td>1</td>\n",
       "    </tr>\n",
       "    <tr>\n",
       "      <th>4</th>\n",
       "      <td>20.29</td>\n",
       "      <td>14.34</td>\n",
       "      <td>135.10</td>\n",
       "      <td>1297.0</td>\n",
       "      <td>0.10030</td>\n",
       "      <td>0.13280</td>\n",
       "      <td>0.1980</td>\n",
       "      <td>0.10430</td>\n",
       "      <td>0.1809</td>\n",
       "      <td>0.05883</td>\n",
       "      <td>...</td>\n",
       "      <td>16.67</td>\n",
       "      <td>152.20</td>\n",
       "      <td>1575.0</td>\n",
       "      <td>0.1374</td>\n",
       "      <td>0.2050</td>\n",
       "      <td>0.4000</td>\n",
       "      <td>0.1625</td>\n",
       "      <td>0.2364</td>\n",
       "      <td>0.07678</td>\n",
       "      <td>1</td>\n",
       "    </tr>\n",
       "  </tbody>\n",
       "</table>\n",
       "<p>5 rows × 31 columns</p>\n",
       "</div>"
      ],
      "text/plain": [
       "   mean radius  mean texture  mean perimeter  mean area  mean smoothness  \\\n",
       "0        17.99         10.38          122.80     1001.0          0.11840   \n",
       "1        20.57         17.77          132.90     1326.0          0.08474   \n",
       "2        19.69         21.25          130.00     1203.0          0.10960   \n",
       "3        11.42         20.38           77.58      386.1          0.14250   \n",
       "4        20.29         14.34          135.10     1297.0          0.10030   \n",
       "\n",
       "   mean compactness  mean concavity  mean concave points  mean symmetry  \\\n",
       "0           0.27760          0.3001              0.14710         0.2419   \n",
       "1           0.07864          0.0869              0.07017         0.1812   \n",
       "2           0.15990          0.1974              0.12790         0.2069   \n",
       "3           0.28390          0.2414              0.10520         0.2597   \n",
       "4           0.13280          0.1980              0.10430         0.1809   \n",
       "\n",
       "   mean fractal dimension  ...  worst texture  worst perimeter  worst area  \\\n",
       "0                 0.07871  ...          17.33           184.60      2019.0   \n",
       "1                 0.05667  ...          23.41           158.80      1956.0   \n",
       "2                 0.05999  ...          25.53           152.50      1709.0   \n",
       "3                 0.09744  ...          26.50            98.87       567.7   \n",
       "4                 0.05883  ...          16.67           152.20      1575.0   \n",
       "\n",
       "   worst smoothness  worst compactness  worst concavity  worst concave points  \\\n",
       "0            0.1622             0.6656           0.7119                0.2654   \n",
       "1            0.1238             0.1866           0.2416                0.1860   \n",
       "2            0.1444             0.4245           0.4504                0.2430   \n",
       "3            0.2098             0.8663           0.6869                0.2575   \n",
       "4            0.1374             0.2050           0.4000                0.1625   \n",
       "\n",
       "   worst symmetry  worst fractal dimension  outcome  \n",
       "0          0.4601                  0.11890        1  \n",
       "1          0.2750                  0.08902        1  \n",
       "2          0.3613                  0.08758        1  \n",
       "3          0.6638                  0.17300        1  \n",
       "4          0.2364                  0.07678        1  \n",
       "\n",
       "[5 rows x 31 columns]"
      ]
     },
     "execution_count": 81,
     "metadata": {},
     "output_type": "execute_result"
    }
   ],
   "source": [
    "data.head()"
   ]
  },
  {
   "cell_type": "code",
   "execution_count": 82,
   "id": "20113930",
   "metadata": {},
   "outputs": [],
   "source": [
    "\n",
    "x=data.iloc[:,:-1]\n",
    "y=data.outcome"
   ]
  },
  {
   "cell_type": "code",
   "execution_count": 83,
   "id": "9057135b",
   "metadata": {},
   "outputs": [
    {
     "data": {
      "text/plain": [
       "(569, 30)"
      ]
     },
     "execution_count": 83,
     "metadata": {},
     "output_type": "execute_result"
    }
   ],
   "source": [
    "x.shape"
   ]
  },
  {
   "cell_type": "code",
   "execution_count": 84,
   "id": "4301e965",
   "metadata": {},
   "outputs": [],
   "source": [
    "x_train,x_test,y_train,y_test=train_test_split(x,y,test_size=0.3,random_state=42)"
   ]
  },
  {
   "cell_type": "code",
   "execution_count": 87,
   "id": "0bf23350",
   "metadata": {},
   "outputs": [
    {
     "data": {
      "text/plain": [
       "(398, 30)"
      ]
     },
     "execution_count": 87,
     "metadata": {},
     "output_type": "execute_result"
    }
   ],
   "source": [
    "x_train.shape"
   ]
  },
  {
   "cell_type": "markdown",
   "id": "c8b982ea",
   "metadata": {},
   "source": [
    "# we don't want to deal with 30 predictor so,we will do dimension reduction through pca"
   ]
  },
  {
   "cell_type": "code",
   "execution_count": 85,
   "id": "a82a48ee",
   "metadata": {},
   "outputs": [
    {
     "data": {
      "text/plain": [
       "PCA()"
      ]
     },
     "execution_count": 85,
     "metadata": {},
     "output_type": "execute_result"
    }
   ],
   "source": [
    "from sklearn.decomposition import PCA\n",
    "pca=PCA()\n",
    "pca.fit(x_train)"
   ]
  },
  {
   "cell_type": "code",
   "execution_count": 86,
   "id": "4f9f8bbb",
   "metadata": {},
   "outputs": [
    {
     "data": {
      "text/plain": [
       "array([4.50158475e+05, 7.57801119e+03, 8.76411854e+02, 5.75220287e+01,\n",
       "       3.72167805e+01, 2.78935237e+00, 1.84484891e+00, 3.77521722e-01,\n",
       "       1.70288083e-01, 7.08317371e-02, 2.90398665e-02, 6.40667563e-03,\n",
       "       3.13741545e-03, 2.02934331e-03, 1.30714664e-03, 6.02474266e-04,\n",
       "       3.87163424e-04, 2.19701600e-04, 1.81817168e-04, 1.47220397e-04,\n",
       "       7.71395949e-05, 5.78859747e-05, 3.49709202e-05, 2.49971107e-05,\n",
       "       1.46681353e-05, 1.21974269e-05, 3.28589116e-06, 2.89733739e-06,\n",
       "       1.97240239e-06, 5.95905811e-07])"
      ]
     },
     "execution_count": 86,
     "metadata": {},
     "output_type": "execute_result"
    }
   ],
   "source": [
    "pca.explained_variance_"
   ]
  },
  {
   "cell_type": "code",
   "execution_count": 92,
   "id": "c1c725ea",
   "metadata": {},
   "outputs": [
    {
     "data": {
      "image/png": "[encoded data removed]",
      "text/plain": [
       "<Figure size 432x288 with 1 Axes>"
      ]
     },
     "metadata": {
      "needs_background": "light"
     },
     "output_type": "display_data"
    }
   ],
   "source": [
    "plt.bar(range(30),pca.explained_variance_ratio_)\n",
    "plt.show()"
   ]
  },
  {
   "cell_type": "code",
   "execution_count": 98,
   "id": "b1661a77",
   "metadata": {},
   "outputs": [
    {
     "data": {
      "text/plain": [
       "0.9997819216896479"
      ]
     },
     "execution_count": 98,
     "metadata": {},
     "output_type": "execute_result"
    }
   ],
   "source": [
    "sum(pca.explained_variance_ratio_[:3])"
   ]
  },
  {
   "cell_type": "code",
   "execution_count": 99,
   "id": "585efd11",
   "metadata": {},
   "outputs": [],
   "source": [
    "x_train_select=pd.DataFrame(pca.fit_transform(x_train)).iloc[:,:3]"
   ]
  },
  {
   "cell_type": "code",
   "execution_count": 105,
   "id": "3ee7edd7",
   "metadata": {},
   "outputs": [],
   "source": [
    "x_test_select=pd.DataFrame(pca.fit_transform(x_test)).iloc[:,:3]"
   ]
  },
  {
   "cell_type": "code",
   "execution_count": 106,
   "id": "6fc82789",
   "metadata": {},
   "outputs": [
    {
     "data": {
      "text/plain": [
       "(398, 3)"
      ]
     },
     "execution_count": 106,
     "metadata": {},
     "output_type": "execute_result"
    }
   ],
   "source": [
    "x_train_select.shape"
   ]
  },
  {
   "cell_type": "code",
   "execution_count": 107,
   "id": "831d66cf",
   "metadata": {},
   "outputs": [
    {
     "data": {
      "text/plain": [
       "RandomForestClassifier()"
      ]
     },
     "execution_count": 107,
     "metadata": {},
     "output_type": "execute_result"
    }
   ],
   "source": [
    "from sklearn.ensemble import RandomForestClassifier\n",
    "model=RandomForestClassifier()\n",
    "model.fit(x_train_select,y_train)"
   ]
  },
  {
   "cell_type": "code",
   "execution_count": 108,
   "id": "a72e8efd",
   "metadata": {},
   "outputs": [],
   "source": [
    "predict=model.predict(x_test_select)"
   ]
  },
  {
   "cell_type": "code",
   "execution_count": 109,
   "id": "0c483cb1",
   "metadata": {},
   "outputs": [
    {
     "data": {
      "text/plain": [
       "0.8362573099415205"
      ]
     },
     "execution_count": 109,
     "metadata": {},
     "output_type": "execute_result"
    }
   ],
   "source": [
    "accuracy_score(y_test,predict)"
   ]
  },
  {
   "cell_type": "code",
   "execution_count": 111,
   "id": "52cef551",
   "metadata": {},
   "outputs": [
    {
     "data": {
      "text/plain": [
       "0.29629629629629617"
      ]
     },
     "execution_count": 111,
     "metadata": {},
     "output_type": "execute_result"
    }
   ],
   "source": [
    "r2_score(y_test,predict)"
   ]
  },
  {
   "cell_type": "code",
   "execution_count": 115,
   "id": "5fd51c52",
   "metadata": {},
   "outputs": [
    {
     "name": "stdout",
     "output_type": "stream",
     "text": [
      "[[ 5.12672255e-03  2.67843774e-03  3.56355384e-02  5.00375176e-01\n",
      "   5.70428069e-06  5.23343976e-05  9.32133110e-05  5.28196335e-05\n",
      "   6.66835241e-06 -1.42076826e-06  2.92955004e-04 -1.25014185e-04\n",
      "   2.18410798e-03  4.97904072e-02 -1.04184300e-06  8.58009486e-06\n",
      "   1.10088253e-05  4.06770284e-06 -2.39207726e-06  1.68818127e-07\n",
      "   7.42972686e-03  3.68621796e-03  5.23418640e-02  8.61991203e-01\n",
      "   8.55492729e-06  1.42667401e-04  2.03344248e-04  8.49965239e-05\n",
      "   1.79727588e-05  5.30251807e-06]\n",
      " [-1.06593040e-02 -1.15565655e-04 -7.34193079e-02 -8.60637648e-01\n",
      "   2.40317122e-06 -5.05108202e-05 -1.27728590e-04 -8.57146107e-05\n",
      "   3.44884107e-05  1.32205724e-05  3.08416701e-04 -1.77253248e-04\n",
      "   1.00533202e-03  5.42780637e-02  1.18906145e-06 -2.33938909e-05\n",
      "  -2.56905319e-05 -1.60234735e-05 -1.84019563e-06 -1.10097088e-06\n",
      "  -1.74400888e-03  1.06587935e-02 -1.58601189e-02  5.00483054e-01\n",
      "   5.81495272e-05  1.06091208e-04  1.35900716e-05 -5.54495279e-05\n",
      "   1.83424461e-04  4.72762625e-05]\n",
      " [-1.17261692e-02 -3.47192037e-02 -5.42642119e-02  2.85834551e-02\n",
      "   1.86190971e-04  4.86661410e-04  9.14440111e-04  3.95375245e-04\n",
      "   5.19700730e-04  1.03817449e-04  8.74569657e-03  1.36642752e-02\n",
      "   5.97236546e-02  9.85731673e-01  8.83100959e-05  3.67939437e-04\n",
      "   4.67910626e-04  1.55331477e-04  3.17626108e-04  6.33783558e-05\n",
      "  -1.59899433e-02 -9.78137993e-02 -7.18864204e-02 -6.63399537e-02\n",
      "  -8.68710435e-05 -1.49525790e-03 -1.45963170e-03 -2.90393311e-04\n",
      "  -1.82748929e-04 -1.33121927e-04]\n",
      " [-1.00571282e-03  5.65146087e-01  2.86812366e-02  1.90384130e-03\n",
      "  -1.92009221e-04  7.11841811e-04  1.46647001e-03  1.84639152e-04\n",
      "   4.85678614e-05  6.51519344e-05  2.20074582e-03  4.77256825e-02\n",
      "   1.66857713e-02  1.05020313e-01  5.19388122e-05  3.17749571e-04\n",
      "   4.13966077e-04  4.25350493e-06  1.48313333e-04  5.22579598e-05\n",
      "   6.73790423e-03  8.11984885e-01  8.01999464e-02 -1.85458367e-02\n",
      "   2.15187933e-04  3.66723085e-03  5.82257557e-03  1.99650980e-04\n",
      "   8.76775855e-04  5.59304671e-04]\n",
      " [ 4.59228050e-02 -9.68694513e-02  4.50576986e-01 -7.13093935e-02\n",
      "   8.46089344e-04  4.47381946e-03  4.60480702e-03  1.78584330e-03\n",
      "   1.60437325e-03  3.82605721e-04  2.09061949e-03 -1.85567267e-02\n",
      "   3.79705965e-02  7.99181626e-02 -2.49392652e-05  1.09235606e-03\n",
      "   1.16407999e-03  2.80908722e-04  1.21861720e-04  9.93832506e-05\n",
      "   7.47205869e-02 -4.61881068e-02  8.73329989e-01 -3.54055110e-02\n",
      "   1.35541818e-03  1.45731538e-02  1.56917529e-02  4.26650968e-03\n",
      "   4.35312941e-03  1.38991095e-03]\n",
      " [-1.26001522e-01 -6.10406257e-02 -8.64924647e-01  5.40333276e-02\n",
      "  -9.89735249e-04 -2.27619759e-03 -1.15426333e-04 -9.95994551e-04\n",
      "  -4.72416861e-04  1.79756122e-05  3.21475953e-03 -1.12474777e-02\n",
      "   1.22353435e-01 -2.66307714e-02  2.61348278e-05 -8.64463550e-04\n",
      "  -5.60517105e-04 -3.84055845e-04 -1.23402145e-04 -2.15517369e-04\n",
      "  -7.54287750e-02  2.95686969e-02  4.54478206e-01 -2.05184028e-02\n",
      "  -2.29221787e-06  1.23371371e-03  4.30700307e-03 -5.41493380e-04\n",
      "   1.65094090e-03 -8.04693797e-05]\n",
      " [ 1.21700040e-03 -8.13559344e-01  3.11655908e-02  6.27849113e-03\n",
      "   2.65563255e-03  1.47053246e-03  3.57732636e-03  2.50718901e-03\n",
      "   4.06928509e-04  2.46281775e-04 -4.28466334e-03  1.14113003e-01\n",
      "  -1.39890826e-02  2.26319140e-02  1.37055948e-04  2.64081016e-05\n",
      "   3.13229676e-04  4.48284109e-04 -4.10601675e-04 -1.17719298e-04\n",
      "   1.49456747e-02  5.63141073e-01 -7.66925227e-02 -1.54923458e-03\n",
      "   4.70958222e-03  3.64603197e-03  4.99889198e-03  4.51654907e-03\n",
      "   3.93461441e-03  4.61253738e-04]\n",
      " [-9.23287910e-02  4.34288028e-02  8.71105444e-02 -5.87623040e-03\n",
      "   4.35127352e-03  1.34050082e-02  1.28890347e-02  7.51865048e-03\n",
      "   5.53391923e-03  2.84044330e-03  2.96640983e-02  7.76133063e-01\n",
      "   5.55910269e-01 -5.23875160e-02  1.23748437e-03  5.41174000e-03\n",
      "   2.43803387e-03  1.43983752e-03  6.02283605e-03  6.72482213e-04\n",
      "  -2.43502089e-01 -7.93905755e-02 -2.17312376e-02  5.70244487e-03\n",
      "  -1.78769242e-03  9.17987594e-04 -1.33784567e-02 -1.82627959e-03\n",
      "  -1.00025330e-02 -7.37850428e-04]\n",
      " [-3.93323974e-01 -2.90790356e-02  1.40319035e-01 -2.34369961e-03\n",
      "   9.86371024e-03  6.74804180e-02  8.34176919e-02  2.30461766e-02\n",
      "   2.42279279e-02  9.65244322e-03 -5.85430619e-02 -3.56819401e-01\n",
      "   9.55744535e-02 -6.31597443e-03  3.79247593e-04  2.03135490e-02\n",
      "   3.37545323e-02  2.86704361e-03  6.18834807e-03  2.23513188e-03\n",
      "  -7.48106492e-01  3.89597733e-02 -9.22155005e-03  4.80832959e-03\n",
      "   1.11098599e-02  1.92199846e-01  2.58438994e-01  3.57522828e-02\n",
      "   5.84296047e-02  2.39398716e-02]\n",
      " [ 2.93512751e-02  3.29839726e-02 -4.66025684e-02  2.06016344e-03\n",
      "  -8.33215874e-03 -1.08887454e-02  3.54212250e-04 -6.42622172e-03\n",
      "  -2.14651397e-02 -3.05631944e-03 -9.54741644e-02  4.68411512e-01\n",
      "  -7.92267561e-01  3.80228303e-02 -2.07284536e-03 -1.60847251e-03\n",
      "  -1.22005728e-03 -2.57947872e-03 -3.48086301e-03 -5.66662146e-04\n",
      "  -3.52229198e-01 -4.37188553e-02  9.56470337e-02 -2.21660395e-03\n",
      "  -1.54091328e-02 -1.29050270e-02  1.10901340e-02 -1.39256669e-02\n",
      "  -4.00690059e-02 -5.72956488e-03]\n",
      " [-3.28375083e-01  2.15517755e-02 -1.88040195e-02  3.76054464e-03\n",
      "   1.80761866e-02  9.13327305e-02  1.63226654e-01  4.53307211e-02\n",
      "   3.26403727e-02  1.40502738e-02  1.01710628e-01  1.80054663e-01\n",
      "  -1.16882620e-01  2.83303968e-03  1.56712499e-03  3.83492059e-02\n",
      "   8.42071428e-02  8.54265725e-03  3.80393547e-03  4.81323390e-03\n",
      "   4.32351690e-01 -3.21006185e-02 -2.17600975e-02 -1.92259480e-03\n",
      "   3.61406233e-02  4.06416097e-01  6.41130680e-01  1.04725033e-01\n",
      "   8.87046902e-02  5.29098555e-02]\n",
      " [ 7.50409312e-01 -5.37404851e-03 -7.28327874e-02 -2.03579609e-03\n",
      "  -3.33434362e-02 -1.14038555e-01  2.57587773e-02 -3.35425544e-02\n",
      "  -6.40495530e-02 -1.96961142e-02 -8.51117391e-02 -3.41274106e-02\n",
      "   1.21968834e-01 -3.04812107e-03 -1.66697983e-03  1.49533886e-02\n",
      "   1.16103121e-01  1.66432204e-02 -1.14481538e-02 -1.71604769e-03\n",
      "  -1.86774736e-01  5.12095654e-03 -1.12235520e-03  1.16381602e-03\n",
      "  -4.87230775e-02 -2.86287111e-03  5.68517272e-01  3.99915663e-02\n",
      "  -1.06446801e-01 -1.74109684e-02]\n",
      " [ 2.76185915e-01 -1.38377469e-04 -3.39598860e-02 -6.05018667e-05\n",
      "  -1.11338269e-02  7.46941472e-02 -1.93056002e-01 -2.90195640e-02\n",
      "  -8.03079572e-06  5.70765716e-03 -4.95676209e-03  4.52959482e-03\n",
      "   1.70406868e-02  4.87505978e-04 -1.62907251e-03  3.66295991e-02\n",
      "  -1.49432160e-01 -9.81378606e-03 -1.17944700e-02  4.03225315e-03\n",
      "  -5.48538479e-02  1.62245042e-04 -1.09585728e-03  2.20076983e-04\n",
      "  -1.93810818e-02  8.57443897e-01 -3.17704143e-01 -2.81784086e-02\n",
      "   7.91380717e-02  8.87081198e-02]\n",
      " [-1.34937807e-01 -4.89241841e-03  1.76284254e-02 -2.35776030e-07\n",
      "  -4.59698198e-02  8.13057629e-03 -1.35335635e-02 -9.11162140e-03\n",
      "  -3.69136558e-01  5.58890273e-03  9.00204687e-02 -2.88078250e-02\n",
      "   8.84893928e-03 -8.65858582e-04  3.44551518e-03  7.14700376e-02\n",
      "   2.24925118e-02  1.05635115e-02 -8.28097855e-02  1.64830539e-02\n",
      "   2.34759367e-02  4.58599945e-03 -1.82442170e-03 -2.09100702e-05\n",
      "  -3.51965097e-02  1.09631539e-01 -2.22120171e-02  8.99504532e-03\n",
      "  -8.96380519e-01  5.41642017e-02]\n",
      " [-1.51425963e-01  3.91717441e-03  1.18417843e-02  4.45513269e-04\n",
      "  -1.35193572e-01 -1.09189432e-01 -8.86103614e-02 -1.45802677e-01\n",
      "  -2.36733422e-01 -2.00043123e-02 -8.78321581e-01  1.81340480e-02\n",
      "   6.39609543e-02  4.13661242e-03 -2.07793547e-02 -5.53321045e-03\n",
      "   2.03127027e-02 -2.57329227e-02  1.48459912e-02 -1.43627150e-02\n",
      "   1.35579653e-01 -4.33665009e-03 -8.92565340e-03 -5.38900818e-04\n",
      "  -1.51879624e-01  4.34314481e-02  4.59383171e-02 -1.86549678e-01\n",
      "   4.94535906e-02 -2.28242780e-02]\n",
      " [-6.54262197e-02 -7.08092874e-03  1.25692588e-02 -7.77250788e-05\n",
      "  -2.21740524e-01 -1.10923342e-01 -1.21263545e-01 -3.01800813e-01\n",
      "  -4.26846386e-04 -2.07996503e-02  3.48422766e-01 -6.32462904e-03\n",
      "  -1.97765327e-02 -1.76783604e-03 -1.90678309e-02  1.08222025e-01\n",
      "   1.95945910e-01 -3.91945390e-02  6.90706467e-02  1.59122204e-02\n",
      "  -1.54574055e-02  4.19389096e-03  1.38602031e-03  8.72680457e-05\n",
      "  -3.66769393e-01  1.76320784e-02  8.11082923e-02 -7.07758123e-01\n",
      "   7.24029011e-02 -3.35023584e-02]\n",
      " [ 3.89875457e-02  2.42125610e-04 -7.46717205e-03  2.94148776e-05\n",
      "  -2.09343040e-01  1.44934613e-01  2.27109068e-01  1.38402297e-02\n",
      "  -2.25538535e-01  1.87178631e-02  2.41180773e-02 -1.63937032e-03\n",
      "  -7.81492597e-03 -3.36641841e-04 -1.63345416e-02  3.38395411e-01\n",
      "   5.95401783e-01  1.21029727e-01  7.95441421e-02  4.80541798e-02\n",
      "  -4.14867122e-03  5.95142556e-04  1.36853028e-03  8.26517456e-06\n",
      "  -3.28876418e-01  2.64151148e-02 -2.25527752e-01  3.88630339e-01\n",
      "   1.57663779e-01 -4.19843232e-02]\n",
      " [ 1.10612327e-01  1.97194818e-03 -1.80419431e-02  8.28970366e-06\n",
      "   2.91153897e-01  2.76679375e-01  4.52990238e-01  3.77577310e-02\n",
      "   1.57411414e-01  6.70738345e-02 -1.74485681e-01 -3.39891326e-03\n",
      "   9.55786504e-03  3.92188374e-04  5.18345559e-02  1.48375083e-01\n",
      "   3.44715825e-01  8.60302606e-03 -5.59274225e-03  2.28982292e-02\n",
      "   1.00948389e-02 -8.81822778e-04  8.98615997e-04 -6.28810787e-05\n",
      "   4.19285835e-01  5.13728498e-02 -1.22809930e-01 -4.54843216e-01\n",
      "  -1.04228104e-01  6.42656059e-02]\n",
      " [-3.94211479e-02  1.23530775e-03  7.71605315e-03  1.42534340e-05\n",
      "   2.15577244e-01 -4.46397470e-02 -4.46140004e-01 -2.71779610e-01\n",
      "  -5.14690713e-01  3.15267338e-02  1.21640977e-01  6.70307030e-03\n",
      "  -1.06530725e-02 -1.94901843e-04  5.32332270e-02  8.49609364e-02\n",
      "   2.25255369e-01  4.21954372e-02  1.19675460e-01  2.17149098e-02\n",
      "  -1.98543075e-02 -1.39716536e-03  1.31322277e-03  4.68457869e-05\n",
      "   5.17334606e-01 -4.41164711e-02  5.32660698e-02  3.50335905e-02\n",
      "   2.06263899e-01  4.69379011e-02]\n",
      " [ 5.63832291e-02 -5.47683635e-05 -4.55440009e-03 -2.41953573e-04\n",
      "  -4.78075480e-02 -7.60828849e-02  4.93277474e-01  2.66190898e-01\n",
      "  -6.51208326e-01 -4.11148077e-02  1.37902091e-01 -6.04265612e-03\n",
      "   8.71225839e-04 -1.10851012e-03  1.93193938e-02 -1.76803319e-01\n",
      "  -3.03450255e-01 -7.85043828e-02  4.51917100e-02 -2.52417796e-02\n",
      "  -2.13320259e-02 -9.19505346e-05 -8.90569927e-07  1.56141608e-04\n",
      "  -7.62658060e-03  2.81990551e-02 -3.76400140e-02 -1.81711853e-01\n",
      "   2.35415130e-01 -7.74966064e-02]\n",
      " [ 6.51459533e-02 -6.23371244e-04 -1.05860512e-02  5.69973393e-05\n",
      "   1.24287129e-01  7.62245800e-01 -2.48046622e-01  1.38762223e-01\n",
      "  -1.61726781e-01  1.78477167e-01 -2.08090074e-02  7.93952028e-04\n",
      "   3.11370759e-03  9.42574682e-05 -6.21369232e-02 -1.44303360e-01\n",
      "  -7.88018880e-02 -6.10010323e-02  3.43867335e-04  2.62148903e-02\n",
      "   1.12711734e-03  4.82688198e-04  3.11648248e-04 -3.11044083e-05\n",
      "  -2.87141031e-01 -1.57103078e-01  9.85531414e-02 -8.82448634e-02\n",
      "   5.21126008e-02  3.11915546e-01]\n",
      " [-9.76582696e-03  1.23050435e-04  2.29388046e-03 -4.08500976e-05\n",
      "   2.22346951e-03 -3.91738263e-01  3.74067893e-02  1.88663289e-01\n",
      "   8.23705781e-03  2.04641230e-01 -8.51400736e-03  1.61163497e-03\n",
      "  -1.24094097e-03  6.44294363e-05 -1.38542791e-02  2.72429760e-01\n",
      "  -4.81161530e-02 -1.34697820e-02 -1.19512886e-02  1.36236466e-01\n",
      "  -3.82983262e-03 -3.63549335e-04  6.79583655e-04 -1.02099017e-06\n",
      "  -3.07697641e-02 -6.60473503e-02 -1.22177089e-02 -2.36128297e-02\n",
      "   5.85106392e-02  8.13852305e-01]\n",
      " [-2.94658470e-02  2.40170569e-04  2.24371739e-03  7.70511730e-05\n",
      "   4.68647059e-01 -1.52050263e-01 -2.72098944e-01  5.84615299e-01\n",
      "  -2.56996459e-02 -4.75000924e-02 -3.29023649e-02 -2.43785288e-03\n",
      "  -1.98772004e-03  2.49824423e-04 -3.96740236e-02  3.88612014e-01\n",
      "   1.43930207e-02  2.57333509e-02  9.14525029e-02  4.12812310e-02\n",
      "   1.04107112e-02  1.94633094e-04  1.32801928e-04 -6.05504279e-05\n",
      "  -2.06215654e-01  1.80160277e-02  4.63853355e-02 -1.37065640e-01\n",
      "  -3.83145407e-03 -3.30323487e-01]\n",
      " [ 3.23164401e-02 -1.77587556e-04 -5.03166904e-03  9.17978657e-06\n",
      "  -4.88069219e-01  2.60771090e-01 -3.26950443e-02  3.54148581e-02\n",
      "   3.52222323e-02  4.44770315e-03 -2.51925806e-02 -3.20502151e-04\n",
      "   1.43343440e-03  4.21735286e-05  1.05414433e-01  6.04303806e-01\n",
      "  -3.92541955e-01  8.28794571e-04  2.00528782e-01  1.27350227e-01\n",
      "   7.14723231e-04 -7.17779602e-05 -1.09165422e-04  2.12426947e-06\n",
      "   2.67781703e-01 -9.28382359e-02  7.39970707e-02 -3.70942252e-02\n",
      "  -3.18358318e-03 -1.20389180e-01]\n",
      " [-1.30561498e-02  3.88159180e-04  2.61049901e-03 -3.21363475e-05\n",
      "  -4.76714972e-01 -9.02087466e-04 -2.45310604e-01  5.05931014e-01\n",
      "  -4.79774030e-03 -6.37071929e-02  8.75813433e-03  3.60469986e-03\n",
      "   2.85050968e-04 -1.85403557e-05 -9.13953922e-03 -1.77047375e-01\n",
      "   3.05102397e-01 -5.63178244e-02 -4.88725780e-01 -3.53788831e-02\n",
      "  -4.07680245e-03 -5.30459467e-04  1.47782058e-04  1.54840966e-05\n",
      "   2.53940562e-01  1.23810780e-02  2.51514465e-03 -1.29392287e-01\n",
      "   5.40954330e-02 -1.12092289e-02]\n",
      " [ 1.80780183e-04  5.43290506e-04  5.28414260e-04 -1.28457425e-05\n",
      "   2.02663837e-01  4.65040413e-02  8.71638827e-02 -2.85368309e-01\n",
      "  -9.10075505e-02  3.85333090e-03  2.25641483e-02  2.84606191e-03\n",
      "   2.24395777e-03 -2.26022099e-04 -1.43196026e-01  3.44673306e-01\n",
      "  -1.84685790e-01 -2.36583805e-02 -8.07712393e-01  4.90283513e-02\n",
      "  -3.02664977e-03 -5.19229457e-04 -2.87795915e-04  2.96419020e-05\n",
      "  -7.50560738e-02 -4.79924846e-02  1.63389461e-02  3.16969809e-02\n",
      "   1.20947036e-01 -7.93062508e-02]\n",
      " [-8.47801943e-03  1.26633705e-04  5.08764585e-04  3.18338641e-05\n",
      "   2.18648397e-02  5.34076025e-02 -1.17592499e-02  2.50221487e-02\n",
      "  -1.75919453e-02 -3.53805166e-01 -8.59077631e-03  9.38960028e-04\n",
      "  -1.34337017e-03  3.10780166e-05  3.08740284e-01 -4.63791990e-02\n",
      "  -8.52211249e-02  8.54010718e-01 -8.79022049e-02  4.40048112e-04\n",
      "   2.64632713e-03 -1.97808288e-04  1.27839886e-04 -1.32575662e-05\n",
      "  -5.11660209e-02 -1.92433429e-02  1.40038697e-02 -8.78078946e-02\n",
      "   2.46135266e-02  1.30253358e-01]\n",
      " [ 9.71099795e-04 -1.34926169e-05 -3.15625470e-04  7.69489835e-06\n",
      "   6.82808050e-02  8.63436035e-02  8.72944499e-04 -1.64124199e-02\n",
      "   2.81384549e-03 -8.81236707e-01 -2.06175428e-03  5.15170026e-04\n",
      "   1.32761902e-03 -6.01074443e-05 -3.92531972e-02  7.07591727e-02\n",
      "   3.99927201e-02 -3.75719812e-01  4.90708296e-02  8.35530168e-02\n",
      "  -4.38658402e-04 -6.24316752e-05 -1.93700749e-05  3.99848131e-06\n",
      "  -5.72269815e-03 -2.60425456e-02 -6.17257237e-03  3.81737857e-02\n",
      "   5.79237791e-04  2.23854088e-01]\n",
      " [-3.69635453e-03 -1.05993774e-04  4.85480878e-04  3.04384594e-06\n",
      "   6.66531296e-02 -1.04179234e-02 -2.03642423e-02 -1.56921131e-02\n",
      "   1.66275219e-03  8.50042241e-02 -6.05558849e-03  2.47187087e-04\n",
      "  -4.67276876e-04  7.58360435e-05  9.24652140e-01  2.32471065e-02\n",
      "   3.09814637e-02 -3.09435372e-01 -1.20178848e-01 -6.46744790e-02\n",
      "   1.16049174e-03  6.88580226e-05  7.77270947e-06 -9.08935377e-06\n",
      "  -1.20739087e-01 -2.44888258e-03  5.09498297e-04  4.14984873e-02\n",
      "   1.32936162e-02 -1.28958386e-02]\n",
      " [ 2.49037421e-03  2.71596628e-05 -2.92701469e-04 -4.02482983e-06\n",
      "  -1.10815273e-02  1.96255455e-02 -4.15993087e-03  1.23738982e-02\n",
      "  -8.43416153e-03 -4.25446404e-02  1.16004864e-02 -1.67941203e-04\n",
      "  -9.54459240e-04 -5.12764380e-05 -6.20279104e-02  1.88612647e-01\n",
      "  -2.53610084e-02 -3.73258752e-03  2.25494410e-02 -9.71230683e-01\n",
      "  -1.22316803e-03 -1.50707484e-05  1.10036672e-04  4.56774930e-06\n",
      "   1.00015984e-02 -2.15357033e-02  2.61591456e-03 -3.84248890e-03\n",
      "   2.53021026e-03  1.13262873e-01]]\n"
     ]
    }
   ],
   "source": [
    "print(pca.components_)\n"
   ]
  },
  {
   "cell_type": "code",
   "execution_count": null,
   "id": "8b4c8340",
   "metadata": {},
   "outputs": [],
   "source": []
  }
 ],
 "metadata": {
  "kernelspec": {
   "display_name": "Python 3",
   "language": "python",
   "name": "python3"
  },
  "language_info": {
   "codemirror_mode": {
    "name": "ipython",
    "version": 3
   },
   "file_extension": ".py",
   "mimetype": "text/x-python",
   "name": "python",
   "nbconvert_exporter": "python",
   "pygments_lexer": "ipython3",
   "version": "3.8.8"
  }
 },
 "nbformat": 4,
 "nbformat_minor": 5
}
