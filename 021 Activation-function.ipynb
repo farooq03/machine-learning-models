{
 "cells": [
  {
   "cell_type": "code",
   "execution_count": 9,
   "metadata": {
    "id": "mkAsLxEqZiqd"
   },
   "outputs": [],
   "source": [
    "import numpy as np\n",
    "# sigmoid function\n",
    "def sigmoid(x):\n",
    "  return 1/(1+np.exp(-x))"
   ]
  },
  {
   "cell_type": "code",
   "execution_count": 2,
   "metadata": {
    "id": "HS_R6i_paKlO"
   },
   "outputs": [],
   "source": [
    "# tanh function\n",
    "def tanh(x):\n",
    "  numerator = 1-np.exp(-2*X)\n",
    "  denominator = 1+np.exp(-2*x)\n",
    "\n",
    "  return numerator/denominator"
   ]
  },
  {
   "cell_type": "code",
   "execution_count": 3,
   "metadata": {
    "id": "nOhU5xeFabiC"
   },
   "outputs": [],
   "source": [
    "#ReLU function\n",
    "def ReLU(x):\n",
    "  if x < 0:\n",
    "    return 0\n",
    "  else:\n",
    "    return x"
   ]
  },
  {
   "cell_type": "code",
   "execution_count": 4,
   "metadata": {
    "id": "I2zZS0uuaku4"
   },
   "outputs": [],
   "source": [
    "#Leaky ReLU function\n",
    "def leakyReLu(x, alpha=0.01):\n",
    "  if x<0:\n",
    "    return(alpha*x)\n",
    "  else:\n",
    "    return x"
   ]
  },
  {
   "cell_type": "code",
   "execution_count": 5,
   "metadata": {
    "id": "tzMJqnbNa7Om"
   },
   "outputs": [],
   "source": [
    "# Exponential linear unit function\n",
    "def ELU(x, alpha=0.01):\n",
    "  if x<0:\n",
    "    return (alpha*(np.exp(x)-1))\n",
    "  else:\n",
    "    return x"
   ]
  },
  {
   "cell_type": "code",
   "execution_count": 6,
   "metadata": {
    "id": "d3_3GTrHbWUX"
   },
   "outputs": [],
   "source": [
    "#Swish function\n",
    "def swish(x,beta):\n",
    "  return x*2*sigmoid(beta*x)"
   ]
  },
  {
   "cell_type": "code",
   "execution_count": 7,
   "metadata": {
    "id": "Iok5wgfpbiG9"
   },
   "outputs": [],
   "source": [
    "#SoftMax function\n",
    "def softmax(x):\n",
    "  return np.exp(x)/np.exp(x).sum(axis=0)"
   ]
  },
  {
   "cell_type": "code",
   "execution_count": 10,
   "metadata": {},
   "outputs": [
    {
     "data": {
      "text/plain": [
       "0.7310585786300049"
      ]
     },
     "execution_count": 10,
     "metadata": {},
     "output_type": "execute_result"
    }
   ],
   "source": [
    "sigmoid(1)"
   ]
  },
  {
   "cell_type": "code",
   "execution_count": 11,
   "metadata": {},
   "outputs": [
    {
     "data": {
      "text/plain": [
       "0"
      ]
     },
     "execution_count": 11,
     "metadata": {},
     "output_type": "execute_result"
    }
   ],
   "source": [
    "ReLU(-2)"
   ]
  },
  {
   "cell_type": "code",
   "execution_count": 12,
   "metadata": {},
   "outputs": [
    {
     "data": {
      "text/plain": [
       "2"
      ]
     },
     "execution_count": 12,
     "metadata": {},
     "output_type": "execute_result"
    }
   ],
   "source": [
    "ReLU(2)"
   ]
  },
  {
   "cell_type": "code",
   "execution_count": null,
   "metadata": {},
   "outputs": [],
   "source": []
  }
 ],
 "metadata": {
  "colab": {
   "name": "Activation function.ipynb",
   "provenance": []
  },
  "kernelspec": {
   "display_name": "Python 3",
   "language": "python",
   "name": "python3"
  },
  "language_info": {
   "codemirror_mode": {
    "name": "ipython",
    "version": 3
   },
   "file_extension": ".py",
   "mimetype": "text/x-python",
   "name": "python",
   "nbconvert_exporter": "python",
   "pygments_lexer": "ipython3",
   "version": "3.8.8"
  }
 },
 "nbformat": 4,
 "nbformat_minor": 1
}
