{
 "cells": [
  {
   "cell_type": "code",
   "execution_count": 1,
   "id": "e3eabc9b",
   "metadata": {},
   "outputs": [],
   "source": [
    "import numpy as np"
   ]
  },
  {
   "cell_type": "code",
   "execution_count": 2,
   "id": "efaf970c",
   "metadata": {},
   "outputs": [],
   "source": [
    "x = [30,40,50,60,70]"
   ]
  },
  {
   "cell_type": "code",
   "execution_count": 3,
   "id": "3d8c1c2e",
   "metadata": {},
   "outputs": [
    {
     "data": {
      "text/plain": [
       "50.0"
      ]
     },
     "execution_count": 3,
     "metadata": {},
     "output_type": "execute_result"
    }
   ],
   "source": [
    "np.mean(x)"
   ]
  },
  {
   "cell_type": "code",
   "execution_count": 4,
   "id": "66ae02ad",
   "metadata": {},
   "outputs": [],
   "source": [
    "x = [25000, 35000, 27500, 50000, 200000, 150000, 75000, 80000, 55000]"
   ]
  },
  {
   "cell_type": "code",
   "execution_count": 5,
   "id": "a9ff8914",
   "metadata": {},
   "outputs": [
    {
     "data": {
      "text/plain": [
       "77500.0"
      ]
     },
     "execution_count": 5,
     "metadata": {},
     "output_type": "execute_result"
    }
   ],
   "source": [
    "np.mean(x)"
   ]
  },
  {
   "cell_type": "code",
   "execution_count": 6,
   "id": "f81dc3be",
   "metadata": {},
   "outputs": [],
   "source": [
    "x = [25000, 35000, 27500, 50000, 200000, 150000, 75000, 80000, 55000, 20000000]"
   ]
  },
  {
   "cell_type": "code",
   "execution_count": 7,
   "id": "094ebbe1",
   "metadata": {},
   "outputs": [
    {
     "data": {
      "text/plain": [
       "2069750.0"
      ]
     },
     "execution_count": 7,
     "metadata": {},
     "output_type": "execute_result"
    }
   ],
   "source": [
    "np.mean(x)"
   ]
  },
  {
   "cell_type": "code",
   "execution_count": 8,
   "id": "6224d859",
   "metadata": {},
   "outputs": [],
   "source": [
    "x = [3,5,7,9,10]"
   ]
  },
  {
   "cell_type": "code",
   "execution_count": 9,
   "id": "88f5f36b",
   "metadata": {},
   "outputs": [
    {
     "data": {
      "text/plain": [
       "7.0"
      ]
     },
     "execution_count": 9,
     "metadata": {},
     "output_type": "execute_result"
    }
   ],
   "source": [
    "np.median(x)"
   ]
  },
  {
   "cell_type": "code",
   "execution_count": 11,
   "id": "3a8ad73e",
   "metadata": {},
   "outputs": [],
   "source": [
    "x = [10, 15, 20, 30, 40, 10000000]"
   ]
  },
  {
   "cell_type": "code",
   "execution_count": 12,
   "id": "863880fd",
   "metadata": {},
   "outputs": [
    {
     "data": {
      "text/plain": [
       "25.0"
      ]
     },
     "execution_count": 12,
     "metadata": {},
     "output_type": "execute_result"
    }
   ],
   "source": [
    "np.median(x)"
   ]
  },
  {
   "cell_type": "code",
   "execution_count": 13,
   "id": "da71d55c",
   "metadata": {},
   "outputs": [],
   "source": [
    "x = [50, 20, 15, 10, 20, 50, 12, 40, 50, 10000, 100000000000000]"
   ]
  },
  {
   "cell_type": "code",
   "execution_count": 14,
   "id": "2c264324",
   "metadata": {},
   "outputs": [
    {
     "data": {
      "text/plain": [
       "9090909091842.455"
      ]
     },
     "execution_count": 14,
     "metadata": {},
     "output_type": "execute_result"
    }
   ],
   "source": [
    "np.mean(x)"
   ]
  },
  {
   "cell_type": "code",
   "execution_count": 15,
   "id": "6461a272",
   "metadata": {},
   "outputs": [
    {
     "data": {
      "text/plain": [
       "40.0"
      ]
     },
     "execution_count": 15,
     "metadata": {},
     "output_type": "execute_result"
    }
   ],
   "source": [
    "np.median(x)"
   ]
  },
  {
   "cell_type": "code",
   "execution_count": 16,
   "id": "d770cae8",
   "metadata": {},
   "outputs": [
    {
     "data": {
      "text/plain": [
       "150.0"
      ]
     },
     "execution_count": 16,
     "metadata": {},
     "output_type": "execute_result"
    }
   ],
   "source": [
    "x = [100,200,1,2,3000,40000]\n",
    "np.median(x)"
   ]
  },
  {
   "cell_type": "code",
   "execution_count": 18,
   "id": "e5c225fa",
   "metadata": {},
   "outputs": [],
   "source": [
    "x = [1,6,5,9,100, 5,5,5,5, 3,4,5,6,7,3]"
   ]
  },
  {
   "cell_type": "code",
   "execution_count": 19,
   "id": "9688aec8",
   "metadata": {},
   "outputs": [],
   "source": [
    "from scipy import stats"
   ]
  },
  {
   "cell_type": "code",
   "execution_count": 20,
   "id": "4a9bc327",
   "metadata": {},
   "outputs": [
    {
     "data": {
      "text/plain": [
       "ModeResult(mode=array([5]), count=array([6]))"
      ]
     },
     "execution_count": 20,
     "metadata": {},
     "output_type": "execute_result"
    }
   ],
   "source": [
    "stats.mode(x)"
   ]
  },
  {
   "cell_type": "code",
   "execution_count": 21,
   "id": "89fc9b1b",
   "metadata": {},
   "outputs": [],
   "source": [
    "x = [1,5,8,6,9,8,6,8]"
   ]
  },
  {
   "cell_type": "code",
   "execution_count": 22,
   "id": "7a98859a",
   "metadata": {},
   "outputs": [
    {
     "data": {
      "text/plain": [
       "6.375"
      ]
     },
     "execution_count": 22,
     "metadata": {},
     "output_type": "execute_result"
    }
   ],
   "source": [
    "np.mean(x)"
   ]
  },
  {
   "cell_type": "code",
   "execution_count": 23,
   "id": "34877cc1",
   "metadata": {},
   "outputs": [
    {
     "data": {
      "text/plain": [
       "7.0"
      ]
     },
     "execution_count": 23,
     "metadata": {},
     "output_type": "execute_result"
    }
   ],
   "source": [
    "np.median(x)"
   ]
  },
  {
   "cell_type": "code",
   "execution_count": 24,
   "id": "db1e36ad",
   "metadata": {},
   "outputs": [
    {
     "data": {
      "text/plain": [
       "ModeResult(mode=array([8]), count=array([3]))"
      ]
     },
     "execution_count": 24,
     "metadata": {},
     "output_type": "execute_result"
    }
   ],
   "source": [
    "stats.mode(x)"
   ]
  },
  {
   "cell_type": "code",
   "execution_count": null,
   "id": "8145c56a",
   "metadata": {},
   "outputs": [],
   "source": []
  }
 ],
 "metadata": {
  "kernelspec": {
   "display_name": "Python 3",
   "language": "python",
   "name": "python3"
  },
  "language_info": {
   "codemirror_mode": {
    "name": "ipython",
    "version": 3
   },
   "file_extension": ".py",
   "mimetype": "text/x-python",
   "name": "python",
   "nbconvert_exporter": "python",
   "pygments_lexer": "ipython3",
   "version": "3.8.8"
  }
 },
 "nbformat": 4,
 "nbformat_minor": 5
}
