{
 "cells": [
  {
   "cell_type": "markdown",
   "id": "9f9ca3f5",
   "metadata": {},
   "source": [
    "# Enter the command mode\n",
    "- a means add cell above\n",
    "- b means add cell below\n",
    "- d,d meand delete\n",
    "- m convert cell to markdown"
   ]
  },
  {
   "cell_type": "code",
   "execution_count": 4,
   "id": "e58cc3e4",
   "metadata": {},
   "outputs": [
    {
     "name": "stdout",
     "output_type": "stream",
     "text": [
      "hello\n"
     ]
    }
   ],
   "source": [
    "print ('hello')"
   ]
  },
  {
   "cell_type": "markdown",
   "id": "348308e0",
   "metadata": {},
   "source": [
    "# Good morning\n",
    "## Good morning\n",
    "### Good morning\n",
    "###### Good morning\n",
    "normal **normal** text\n",
    "- apples\n",
    "- oranges\n",
    "- grapes"
   ]
  },
  {
   "cell_type": "markdown",
   "id": "1cb2241e",
   "metadata": {},
   "source": [
    "# https://tinyurl.com/11oct21cds"
   ]
  },
  {
   "cell_type": "markdown",
   "id": "7285996b",
   "metadata": {},
   "source": [
    "# Mathematical Opetators"
   ]
  },
  {
   "cell_type": "code",
   "execution_count": 5,
   "id": "b1b1c9e9",
   "metadata": {},
   "outputs": [
    {
     "data": {
      "text/plain": [
       "109.0"
      ]
     },
     "execution_count": 5,
     "metadata": {},
     "output_type": "execute_result"
    }
   ],
   "source": [
    "10 + 10 * 10 - 10 / 10"
   ]
  },
  {
   "cell_type": "markdown",
   "id": "7a3b4b81",
   "metadata": {},
   "source": [
    "## Modulus Operator (remainder)"
   ]
  },
  {
   "cell_type": "code",
   "execution_count": 6,
   "id": "4a34d4e3",
   "metadata": {},
   "outputs": [
    {
     "data": {
      "text/plain": [
       "1"
      ]
     },
     "execution_count": 6,
     "metadata": {},
     "output_type": "execute_result"
    }
   ],
   "source": [
    "10 % 3"
   ]
  },
  {
   "cell_type": "code",
   "execution_count": 7,
   "id": "de21d330",
   "metadata": {},
   "outputs": [
    {
     "data": {
      "text/plain": [
       "2"
      ]
     },
     "execution_count": 7,
     "metadata": {},
     "output_type": "execute_result"
    }
   ],
   "source": [
    "12 % 10"
   ]
  },
  {
   "cell_type": "markdown",
   "id": "e5417d5e",
   "metadata": {},
   "source": [
    "# Expenetial Operator"
   ]
  },
  {
   "cell_type": "code",
   "execution_count": 8,
   "id": "4e907d9c",
   "metadata": {},
   "outputs": [
    {
     "data": {
      "text/plain": [
       "27"
      ]
     },
     "execution_count": 8,
     "metadata": {},
     "output_type": "execute_result"
    }
   ],
   "source": [
    "3 ** 3"
   ]
  },
  {
   "cell_type": "code",
   "execution_count": 9,
   "id": "5c3a1d08",
   "metadata": {},
   "outputs": [
    {
     "data": {
      "text/plain": [
       "16"
      ]
     },
     "execution_count": 9,
     "metadata": {},
     "output_type": "execute_result"
    }
   ],
   "source": [
    "2 ** 4"
   ]
  },
  {
   "cell_type": "code",
   "execution_count": 11,
   "id": "bdeae7e9",
   "metadata": {},
   "outputs": [
    {
     "data": {
      "text/plain": [
       "100000"
      ]
     },
     "execution_count": 11,
     "metadata": {},
     "output_type": "execute_result"
    }
   ],
   "source": [
    "10 ** 5"
   ]
  },
  {
   "cell_type": "markdown",
   "id": "3ad42fd2",
   "metadata": {},
   "source": [
    "# Floor Division - ignores the decimal"
   ]
  },
  {
   "cell_type": "code",
   "execution_count": 12,
   "id": "f9eff5f2",
   "metadata": {},
   "outputs": [
    {
     "data": {
      "text/plain": [
       "3.3333333333333335"
      ]
     },
     "execution_count": 12,
     "metadata": {},
     "output_type": "execute_result"
    }
   ],
   "source": [
    "10 / 3"
   ]
  },
  {
   "cell_type": "code",
   "execution_count": 13,
   "id": "e66c993f",
   "metadata": {},
   "outputs": [
    {
     "data": {
      "text/plain": [
       "5.0"
      ]
     },
     "execution_count": 13,
     "metadata": {},
     "output_type": "execute_result"
    }
   ],
   "source": [
    "15 / 3"
   ]
  },
  {
   "cell_type": "code",
   "execution_count": 14,
   "id": "17c7afda",
   "metadata": {},
   "outputs": [
    {
     "data": {
      "text/plain": [
       "3"
      ]
     },
     "execution_count": 14,
     "metadata": {},
     "output_type": "execute_result"
    }
   ],
   "source": [
    "10 // 3"
   ]
  },
  {
   "cell_type": "code",
   "execution_count": 15,
   "id": "bd05233d",
   "metadata": {},
   "outputs": [
    {
     "data": {
      "text/plain": [
       "5"
      ]
     },
     "execution_count": 15,
     "metadata": {},
     "output_type": "execute_result"
    }
   ],
   "source": [
    "15 // 3"
   ]
  },
  {
   "cell_type": "code",
   "execution_count": 19,
   "id": "62e21b35",
   "metadata": {},
   "outputs": [
    {
     "name": "stdout",
     "output_type": "stream",
     "text": [
      "Got BMI of 16.975308641975307\n"
     ]
    }
   ],
   "source": [
    "weight = 55\n",
    "height = 1.8\n",
    "\n",
    "bmi = weight / height ** 2\n",
    "print ('Got BMI of', bmi)"
   ]
  },
  {
   "cell_type": "markdown",
   "id": "5abe0318",
   "metadata": {},
   "source": [
    "# Type Casting"
   ]
  },
  {
   "cell_type": "code",
   "execution_count": 23,
   "id": "9194c4f4",
   "metadata": {
    "scrolled": true
   },
   "outputs": [
    {
     "data": {
      "text/plain": [
       "7"
      ]
     },
     "execution_count": 23,
     "metadata": {},
     "output_type": "execute_result"
    }
   ],
   "source": [
    "int( 10 / 5 + 5.5 )"
   ]
  },
  {
   "cell_type": "code",
   "execution_count": 25,
   "id": "a3b68ef8",
   "metadata": {},
   "outputs": [
    {
     "data": {
      "text/plain": [
       "0.785"
      ]
     },
     "execution_count": 25,
     "metadata": {},
     "output_type": "execute_result"
    }
   ],
   "source": [
    "mynum ='3.14'\n",
    "float(mynum) / 4"
   ]
  },
  {
   "cell_type": "code",
   "execution_count": 31,
   "id": "5ff7f787",
   "metadata": {},
   "outputs": [
    {
     "data": {
      "text/plain": [
       "True"
      ]
     },
     "execution_count": 31,
     "metadata": {},
     "output_type": "execute_result"
    }
   ],
   "source": [
    "a = 1.7\n",
    "bool(a)"
   ]
  },
  {
   "cell_type": "code",
   "execution_count": 35,
   "id": "5db321f8",
   "metadata": {},
   "outputs": [
    {
     "data": {
      "text/plain": [
       "str"
      ]
     },
     "execution_count": 35,
     "metadata": {},
     "output_type": "execute_result"
    }
   ],
   "source": [
    "result = str(10 ** 10)\n",
    "type (result)"
   ]
  },
  {
   "cell_type": "markdown",
   "id": "f4fbc6ec",
   "metadata": {},
   "source": [
    "# Comparision Operators"
   ]
  },
  {
   "cell_type": "code",
   "execution_count": 36,
   "id": "35c26f16",
   "metadata": {},
   "outputs": [
    {
     "data": {
      "text/plain": [
       "False"
      ]
     },
     "execution_count": 36,
     "metadata": {},
     "output_type": "execute_result"
    }
   ],
   "source": [
    "100 > 200"
   ]
  },
  {
   "cell_type": "code",
   "execution_count": 37,
   "id": "56fadb1b",
   "metadata": {},
   "outputs": [
    {
     "data": {
      "text/plain": [
       "True"
      ]
     },
     "execution_count": 37,
     "metadata": {},
     "output_type": "execute_result"
    }
   ],
   "source": [
    "1200 < 10000"
   ]
  },
  {
   "cell_type": "markdown",
   "id": "a33a2e3f",
   "metadata": {},
   "source": [
    "= means assingment\n",
    "\n",
    "== means equal to"
   ]
  },
  {
   "cell_type": "code",
   "execution_count": 43,
   "id": "298577e3",
   "metadata": {},
   "outputs": [
    {
     "data": {
      "text/plain": [
       "True"
      ]
     },
     "execution_count": 43,
     "metadata": {},
     "output_type": "execute_result"
    }
   ],
   "source": [
    "a = 15\n",
    "b = 15\n",
    "\n",
    "a == b"
   ]
  },
  {
   "cell_type": "markdown",
   "id": "57662e07",
   "metadata": {},
   "source": [
    "Not equal to operator"
   ]
  },
  {
   "cell_type": "code",
   "execution_count": 47,
   "id": "4c453617",
   "metadata": {},
   "outputs": [
    {
     "data": {
      "text/plain": [
       "True"
      ]
     },
     "execution_count": 47,
     "metadata": {},
     "output_type": "execute_result"
    }
   ],
   "source": [
    "a = 15\n",
    "b = 19\n",
    "\n",
    "a != b"
   ]
  },
  {
   "cell_type": "markdown",
   "id": "e9e005a1",
   "metadata": {},
   "source": [
    "    >= greater than or equal to\n",
    "\n",
    "    <= less than or equal to"
   ]
  },
  {
   "cell_type": "code",
   "execution_count": 53,
   "id": "8d51e3ab",
   "metadata": {},
   "outputs": [
    {
     "data": {
      "text/plain": [
       "True"
      ]
     },
     "execution_count": 53,
     "metadata": {},
     "output_type": "execute_result"
    }
   ],
   "source": [
    "a = 10\n",
    "b = 10\n",
    "\n",
    "a >= b"
   ]
  },
  {
   "cell_type": "code",
   "execution_count": 57,
   "id": "3d2b4d11",
   "metadata": {},
   "outputs": [
    {
     "data": {
      "text/plain": [
       "False"
      ]
     },
     "execution_count": 57,
     "metadata": {},
     "output_type": "execute_result"
    }
   ],
   "source": [
    "a = 18\n",
    "b = 10\n",
    "\n",
    "a <= b"
   ]
  },
  {
   "cell_type": "code",
   "execution_count": 61,
   "id": "04380275",
   "metadata": {},
   "outputs": [
    {
     "name": "stdout",
     "output_type": "stream",
     "text": [
      "True\n",
      "True\n",
      "True\n",
      "True\n"
     ]
    }
   ],
   "source": [
    "a = 10\n",
    "b = 20\n",
    "c = 15\n",
    "d = 20\n",
    "\n",
    "print (a < d)\n",
    "print (a == a)\n",
    "print (c >= a)\n",
    "print (d >= b)"
   ]
  },
  {
   "cell_type": "markdown",
   "id": "7889c354",
   "metadata": {},
   "source": [
    "# Logical Operators\n",
    "\n",
    "18 to 25"
   ]
  },
  {
   "cell_type": "code",
   "execution_count": 66,
   "id": "818487a2",
   "metadata": {},
   "outputs": [
    {
     "data": {
      "text/plain": [
       "True"
      ]
     },
     "execution_count": 66,
     "metadata": {},
     "output_type": "execute_result"
    }
   ],
   "source": [
    "age = 22\n",
    "\n",
    "# True        False\n",
    "age >= 18 and age <=25"
   ]
  },
  {
   "cell_type": "markdown",
   "id": "43fcc944",
   "metadata": {},
   "source": [
    "more than 90% or if they played in sports"
   ]
  },
  {
   "cell_type": "code",
   "execution_count": 72,
   "id": "735ff525",
   "metadata": {},
   "outputs": [
    {
     "data": {
      "text/plain": [
       "True"
      ]
     },
     "execution_count": 72,
     "metadata": {},
     "output_type": "execute_result"
    }
   ],
   "source": [
    "percentage = 95\n",
    "sports = True\n",
    "\n",
    "percentage > 90 or sports"
   ]
  },
  {
   "cell_type": "markdown",
   "id": "ad214c0f",
   "metadata": {},
   "source": [
    "# Conditional Operators"
   ]
  },
  {
   "cell_type": "markdown",
   "id": "7582787f",
   "metadata": {},
   "source": [
    "only take people in age group of 18 to 25"
   ]
  },
  {
   "cell_type": "code",
   "execution_count": 74,
   "id": "ea93e28b",
   "metadata": {},
   "outputs": [
    {
     "name": "stdout",
     "output_type": "stream",
     "text": [
      "Candidate age requirement not satisfied\n"
     ]
    }
   ],
   "source": [
    "age = 29\n",
    "\n",
    "if age >= 18 and age <=25:\n",
    "    print ('Candidate can take the interview')\n",
    "else:\n",
    "    print ('Candidate age requirement not satisfied')"
   ]
  },
  {
   "cell_type": "code",
   "execution_count": 76,
   "id": "2b9bc83f",
   "metadata": {},
   "outputs": [
    {
     "name": "stdout",
     "output_type": "stream",
     "text": [
      "Not friends\n"
     ]
    }
   ],
   "source": [
    "your_fav_color = 'red'\n",
    "my_fav_color = 'green'\n",
    "\n",
    "if my_fav_color == your_fav_color:\n",
    "    print ('Best Friends')\n",
    "else:\n",
    "    print ('Not friends')"
   ]
  },
  {
   "cell_type": "raw",
   "id": "ba9db5f2",
   "metadata": {},
   "source": [
    "- 0 - 40 failed\n",
    "- 40 - 70 B\n",
    "- 70 - 90 A\n",
    "- >90 A+"
   ]
  },
  {
   "cell_type": "code",
   "execution_count": 80,
   "id": "703f2221",
   "metadata": {},
   "outputs": [
    {
     "name": "stdout",
     "output_type": "stream",
     "text": [
      "A+ Grade\n"
     ]
    }
   ],
   "source": [
    "percentage = 95\n",
    "\n",
    "if percentage < 40:\n",
    "    print ('Failed')\n",
    "elif percentage >= 40 and percentage < 70:\n",
    "    print ('B Grade Achived')\n",
    "elif percentage >=70 and percentage < 90:\n",
    "    print ('A Grade Achieved')\n",
    "else:\n",
    "    print ('A+ Grade')"
   ]
  },
  {
   "cell_type": "code",
   "execution_count": null,
   "id": "9912e111",
   "metadata": {},
   "outputs": [],
   "source": []
  }
 ],
 "metadata": {
  "kernelspec": {
   "display_name": "Python 3",
   "language": "python",
   "name": "python3"
  },
  "language_info": {
   "codemirror_mode": {
    "name": "ipython",
    "version": 3
   },
   "file_extension": ".py",
   "mimetype": "text/x-python",
   "name": "python",
   "nbconvert_exporter": "python",
   "pygments_lexer": "ipython3",
   "version": "3.8.8"
  }
 },
 "nbformat": 4,
 "nbformat_minor": 5
}
