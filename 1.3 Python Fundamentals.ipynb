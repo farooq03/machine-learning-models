{
 "cells": [
  {
   "cell_type": "code",
   "execution_count": 1,
   "id": "430d42f8",
   "metadata": {},
   "outputs": [
    {
     "name": "stdout",
     "output_type": "stream",
     "text": [
      "Obesity\n"
     ]
    }
   ],
   "source": [
    "weight = 100\n",
    "height = 1.5\n",
    "\n",
    "bmi = weight / height ** 2\n",
    "\n",
    "if bmi<18.5:\n",
    "    print('Underweight')\n",
    "elif bmi>=18.5 and bmi <25:\n",
    "    print('Normal weight')\n",
    "elif bmi >=25 and bmi <30:\n",
    "    print('Over weight')\n",
    "else:\n",
    "    print('Obesity')"
   ]
  },
  {
   "cell_type": "code",
   "execution_count": 2,
   "id": "3d45f3ab",
   "metadata": {},
   "outputs": [
    {
     "name": "stdout",
     "output_type": "stream",
     "text": [
      "Underweight\n"
     ]
    }
   ],
   "source": [
    "weight = 20\n",
    "height = 1.7\n",
    "\n",
    "bmi = weight / height ** 2\n",
    "\n",
    "if bmi<18.5:\n",
    "    print('Underweight')\n",
    "elif bmi>=18.5 and bmi <25:\n",
    "    print('Normal weight')\n",
    "elif bmi >=25 and bmi <30:\n",
    "    print('Over weight')\n",
    "else:\n",
    "    print('Obesity')"
   ]
  },
  {
   "cell_type": "code",
   "execution_count": 3,
   "id": "4b77b003",
   "metadata": {},
   "outputs": [],
   "source": [
    "def calcBMI (height, weight):\n",
    "    bmi = weight / height ** 2\n",
    "    if bmi<18.5:\n",
    "        print('Underweight')\n",
    "    elif bmi>=18.5 and bmi <25:\n",
    "        print('Normal weight')\n",
    "    elif bmi >=25 and bmi <30:\n",
    "        print('Over weight')\n",
    "    else:\n",
    "        print('Obesity')\n",
    "    return bmi"
   ]
  },
  {
   "cell_type": "code",
   "execution_count": 5,
   "id": "3c4132b7",
   "metadata": {},
   "outputs": [
    {
     "name": "stdout",
     "output_type": "stream",
     "text": [
      "Normal weight\n"
     ]
    }
   ],
   "source": [
    "bmi = calcBMI(1.6, 60)"
   ]
  },
  {
   "cell_type": "code",
   "execution_count": 6,
   "id": "5485d222",
   "metadata": {},
   "outputs": [
    {
     "name": "stdout",
     "output_type": "stream",
     "text": [
      "Underweight\n"
     ]
    }
   ],
   "source": [
    "bmi2 = calcBMI(1.5, 40)"
   ]
  },
  {
   "cell_type": "code",
   "execution_count": 7,
   "id": "45847224",
   "metadata": {},
   "outputs": [
    {
     "name": "stdout",
     "output_type": "stream",
     "text": [
      "23.437499999999996\n"
     ]
    }
   ],
   "source": [
    "print (bmi)"
   ]
  },
  {
   "cell_type": "code",
   "execution_count": 8,
   "id": "25505fb1",
   "metadata": {},
   "outputs": [
    {
     "data": {
      "text/plain": [
       "2.604166666666666"
      ]
     },
     "execution_count": 8,
     "metadata": {},
     "output_type": "execute_result"
    }
   ],
   "source": [
    "bmi/9"
   ]
  },
  {
   "cell_type": "code",
   "execution_count": 9,
   "id": "e7559bc4",
   "metadata": {},
   "outputs": [
    {
     "data": {
      "text/plain": [
       "46.87499999999999"
      ]
     },
     "execution_count": 9,
     "metadata": {},
     "output_type": "execute_result"
    }
   ],
   "source": [
    "bmi*2"
   ]
  },
  {
   "cell_type": "code",
   "execution_count": 10,
   "id": "e95345e6",
   "metadata": {},
   "outputs": [
    {
     "name": "stdout",
     "output_type": "stream",
     "text": [
      "apple banana\n"
     ]
    }
   ],
   "source": [
    "print ('apple banana')"
   ]
  },
  {
   "cell_type": "markdown",
   "id": "bfc9e59d",
   "metadata": {},
   "source": [
    "# Python Data Structures"
   ]
  },
  {
   "cell_type": "code",
   "execution_count": 11,
   "id": "581459c3",
   "metadata": {},
   "outputs": [],
   "source": [
    "sub1 = 90\n",
    "sub2 = 80\n",
    "sub3 = 60\n",
    "sub4 = 99\n",
    "sub5 = 50"
   ]
  },
  {
   "cell_type": "markdown",
   "id": "7df462d6",
   "metadata": {},
   "source": [
    "# List\n",
    "\n",
    "- can store multiple values\n",
    "- are hetriogenious\n",
    "- mutable"
   ]
  },
  {
   "cell_type": "code",
   "execution_count": 12,
   "id": "1ec17cf0",
   "metadata": {},
   "outputs": [],
   "source": [
    "marks = [90, 80, 60, 99, 50]"
   ]
  },
  {
   "cell_type": "code",
   "execution_count": 14,
   "id": "9949b18a",
   "metadata": {},
   "outputs": [
    {
     "data": {
      "text/plain": [
       "[90, 80, 60, 99, 50]"
      ]
     },
     "execution_count": 14,
     "metadata": {},
     "output_type": "execute_result"
    }
   ],
   "source": [
    "marks"
   ]
  },
  {
   "cell_type": "code",
   "execution_count": 15,
   "id": "c31d8813",
   "metadata": {},
   "outputs": [],
   "source": [
    "list1 = [10, 3.14, True, 'suhail', 13, 29]"
   ]
  },
  {
   "cell_type": "code",
   "execution_count": 16,
   "id": "77acd0ea",
   "metadata": {},
   "outputs": [
    {
     "data": {
      "text/plain": [
       "[10, 3.14, True, 'suhail', 13, 29]"
      ]
     },
     "execution_count": 16,
     "metadata": {},
     "output_type": "execute_result"
    }
   ],
   "source": [
    "list1"
   ]
  },
  {
   "cell_type": "code",
   "execution_count": 17,
   "id": "efbdd1dc",
   "metadata": {},
   "outputs": [],
   "source": [
    "list1[2] = False"
   ]
  },
  {
   "cell_type": "code",
   "execution_count": 18,
   "id": "74f06ca6",
   "metadata": {},
   "outputs": [
    {
     "data": {
      "text/plain": [
       "[10, 3.14, False, 'suhail', 13, 29]"
      ]
     },
     "execution_count": 18,
     "metadata": {},
     "output_type": "execute_result"
    }
   ],
   "source": [
    "list1"
   ]
  },
  {
   "cell_type": "code",
   "execution_count": 19,
   "id": "69f70b3a",
   "metadata": {},
   "outputs": [],
   "source": [
    "list1[3] = 'paras'"
   ]
  },
  {
   "cell_type": "code",
   "execution_count": 20,
   "id": "a6801e20",
   "metadata": {},
   "outputs": [
    {
     "data": {
      "text/plain": [
       "[10, 3.14, False, 'paras', 13, 29]"
      ]
     },
     "execution_count": 20,
     "metadata": {},
     "output_type": "execute_result"
    }
   ],
   "source": [
    "list1"
   ]
  },
  {
   "cell_type": "code",
   "execution_count": 21,
   "id": "fda3109d",
   "metadata": {},
   "outputs": [],
   "source": [
    "family = ['me', 'mom', 'dad']"
   ]
  },
  {
   "cell_type": "code",
   "execution_count": 22,
   "id": "aac2746e",
   "metadata": {},
   "outputs": [
    {
     "data": {
      "text/plain": [
       "['me', 'mom', 'dad']"
      ]
     },
     "execution_count": 22,
     "metadata": {},
     "output_type": "execute_result"
    }
   ],
   "source": [
    "family"
   ]
  },
  {
   "cell_type": "code",
   "execution_count": 23,
   "id": "2b7efe65",
   "metadata": {},
   "outputs": [
    {
     "data": {
      "text/plain": [
       "['me', 'mom', 'dad', 'brother']"
      ]
     },
     "execution_count": 23,
     "metadata": {},
     "output_type": "execute_result"
    }
   ],
   "source": [
    "family.append('brother')\n",
    "family"
   ]
  },
  {
   "cell_type": "code",
   "execution_count": 24,
   "id": "8e5b46b3",
   "metadata": {},
   "outputs": [
    {
     "data": {
      "text/plain": [
       "['me', 'mom', 'dad', 'brother', 'sister']"
      ]
     },
     "execution_count": 24,
     "metadata": {},
     "output_type": "execute_result"
    }
   ],
   "source": [
    "family.append('sister')\n",
    "family"
   ]
  },
  {
   "cell_type": "code",
   "execution_count": 25,
   "id": "3debbd9b",
   "metadata": {},
   "outputs": [
    {
     "data": {
      "text/plain": [
       "['me', 'mom', 'dad', 'brother', 'sister', 'aunt', 'uncle', 'cousin']"
      ]
     },
     "execution_count": 25,
     "metadata": {},
     "output_type": "execute_result"
    }
   ],
   "source": [
    "family.extend(['aunt', 'uncle', 'cousin'])\n",
    "family"
   ]
  },
  {
   "cell_type": "code",
   "execution_count": 26,
   "id": "ad3d2b7b",
   "metadata": {},
   "outputs": [
    {
     "data": {
      "text/plain": [
       "['me', 'mom', 'dad', 'brother', 'sister', 'aunt', 'cousin']"
      ]
     },
     "execution_count": 26,
     "metadata": {},
     "output_type": "execute_result"
    }
   ],
   "source": [
    "family.remove('uncle')\n",
    "family"
   ]
  },
  {
   "cell_type": "code",
   "execution_count": 27,
   "id": "112752c6",
   "metadata": {},
   "outputs": [
    {
     "data": {
      "text/plain": [
       "['me', 'mom', 'dad', 'brother', 'sister', 'cousin']"
      ]
     },
     "execution_count": 27,
     "metadata": {},
     "output_type": "execute_result"
    }
   ],
   "source": [
    "family.pop(5)\n",
    "family"
   ]
  },
  {
   "cell_type": "markdown",
   "id": "827f873c",
   "metadata": {},
   "source": [
    "- create a list with values being yellow, green, blue\n",
    "- remove green\n",
    "- add pink\n",
    "- add purple\n",
    "- remove yellow\n",
    "- add black, white and grey"
   ]
  },
  {
   "cell_type": "code",
   "execution_count": 28,
   "id": "f8993806",
   "metadata": {},
   "outputs": [],
   "source": [
    "color = ['yellow' , 'green' , 'blue' ]\n",
    "color.remove('green')\n",
    "color.append('pink')\n",
    "color.append('purple')\n",
    "color.pop(0)\n",
    "color.extend(['black', 'white' , 'gray'])"
   ]
  },
  {
   "cell_type": "code",
   "execution_count": 30,
   "id": "7d9f475a",
   "metadata": {},
   "outputs": [
    {
     "data": {
      "text/plain": [
       "['blue', 'pink', 'purple', 'black', 'white', 'gray']"
      ]
     },
     "execution_count": 30,
     "metadata": {},
     "output_type": "execute_result"
    }
   ],
   "source": [
    "color"
   ]
  },
  {
   "cell_type": "code",
   "execution_count": 31,
   "id": "ebc05e8f",
   "metadata": {},
   "outputs": [
    {
     "data": {
      "text/plain": [
       "['blue', 'pink', 'green', 'purple', 'black', 'white', 'gray']"
      ]
     },
     "execution_count": 31,
     "metadata": {},
     "output_type": "execute_result"
    }
   ],
   "source": [
    "color.insert(2, 'green')\n",
    "color"
   ]
  },
  {
   "cell_type": "code",
   "execution_count": 32,
   "id": "60d16231",
   "metadata": {},
   "outputs": [
    {
     "data": {
      "text/plain": [
       "['blue', 'pink', 'green', 'purple', 'black', 'white', 'gray']"
      ]
     },
     "execution_count": 32,
     "metadata": {},
     "output_type": "execute_result"
    }
   ],
   "source": [
    "color"
   ]
  },
  {
   "cell_type": "code",
   "execution_count": 33,
   "id": "aa959c05",
   "metadata": {},
   "outputs": [
    {
     "data": {
      "text/plain": [
       "'black'"
      ]
     },
     "execution_count": 33,
     "metadata": {},
     "output_type": "execute_result"
    }
   ],
   "source": [
    "color[4]"
   ]
  },
  {
   "cell_type": "code",
   "execution_count": 34,
   "id": "3869171d",
   "metadata": {},
   "outputs": [
    {
     "data": {
      "text/plain": [
       "'black'"
      ]
     },
     "execution_count": 34,
     "metadata": {},
     "output_type": "execute_result"
    }
   ],
   "source": [
    "color[-3]"
   ]
  },
  {
   "cell_type": "code",
   "execution_count": 35,
   "id": "3d02f0e5",
   "metadata": {},
   "outputs": [
    {
     "data": {
      "text/plain": [
       "'green'"
      ]
     },
     "execution_count": 35,
     "metadata": {},
     "output_type": "execute_result"
    }
   ],
   "source": [
    "color[2]"
   ]
  },
  {
   "cell_type": "code",
   "execution_count": 37,
   "id": "e40e0ec1",
   "metadata": {},
   "outputs": [
    {
     "data": {
      "text/plain": [
       "'green'"
      ]
     },
     "execution_count": 37,
     "metadata": {},
     "output_type": "execute_result"
    }
   ],
   "source": [
    "color[-5]"
   ]
  },
  {
   "cell_type": "code",
   "execution_count": 38,
   "id": "3d9ba2e3",
   "metadata": {},
   "outputs": [],
   "source": [
    "color[3] = 'brown'"
   ]
  },
  {
   "cell_type": "code",
   "execution_count": 39,
   "id": "e8914e55",
   "metadata": {},
   "outputs": [
    {
     "data": {
      "text/plain": [
       "['blue', 'pink', 'green', 'brown', 'black', 'white', 'gray']"
      ]
     },
     "execution_count": 39,
     "metadata": {},
     "output_type": "execute_result"
    }
   ],
   "source": [
    "color"
   ]
  },
  {
   "cell_type": "markdown",
   "id": "b559deef",
   "metadata": {},
   "source": [
    "# Slicing Operator"
   ]
  },
  {
   "cell_type": "code",
   "execution_count": 41,
   "id": "7f6d3beb",
   "metadata": {},
   "outputs": [],
   "source": [
    "color = ['blue', 'pink', 'green', 'brown', 'black', 'white', 'gray']"
   ]
  },
  {
   "cell_type": "code",
   "execution_count": 42,
   "id": "9ddc88cd",
   "metadata": {},
   "outputs": [
    {
     "data": {
      "text/plain": [
       "['blue', 'pink', 'green', 'brown', 'black', 'white', 'gray']"
      ]
     },
     "execution_count": 42,
     "metadata": {},
     "output_type": "execute_result"
    }
   ],
   "source": [
    "color"
   ]
  },
  {
   "cell_type": "code",
   "execution_count": 43,
   "id": "93bd54dd",
   "metadata": {},
   "outputs": [
    {
     "data": {
      "text/plain": [
       "'pink'"
      ]
     },
     "execution_count": 43,
     "metadata": {},
     "output_type": "execute_result"
    }
   ],
   "source": [
    "color[1]"
   ]
  },
  {
   "cell_type": "code",
   "execution_count": 45,
   "id": "371e4a53",
   "metadata": {},
   "outputs": [
    {
     "data": {
      "text/plain": [
       "['pink', 'green', 'brown']"
      ]
     },
     "execution_count": 45,
     "metadata": {},
     "output_type": "execute_result"
    }
   ],
   "source": [
    "color[1:4]"
   ]
  },
  {
   "cell_type": "code",
   "execution_count": 46,
   "id": "61f9f3b8",
   "metadata": {},
   "outputs": [
    {
     "data": {
      "text/plain": [
       "['green', 'brown', 'black', 'white']"
      ]
     },
     "execution_count": 46,
     "metadata": {},
     "output_type": "execute_result"
    }
   ],
   "source": [
    "color[2:6]"
   ]
  },
  {
   "cell_type": "code",
   "execution_count": 48,
   "id": "8d17d5d6",
   "metadata": {},
   "outputs": [
    {
     "data": {
      "text/plain": [
       "['pink', 'green', 'brown', 'black', 'white']"
      ]
     },
     "execution_count": 48,
     "metadata": {},
     "output_type": "execute_result"
    }
   ],
   "source": [
    "color[1:-1]"
   ]
  },
  {
   "cell_type": "code",
   "execution_count": 49,
   "id": "e1af65a9",
   "metadata": {},
   "outputs": [
    {
     "data": {
      "text/plain": [
       "['blue', 'pink', 'green', 'brown', 'black']"
      ]
     },
     "execution_count": 49,
     "metadata": {},
     "output_type": "execute_result"
    }
   ],
   "source": [
    "color[:5]"
   ]
  },
  {
   "cell_type": "code",
   "execution_count": 50,
   "id": "2da0574d",
   "metadata": {},
   "outputs": [
    {
     "data": {
      "text/plain": [
       "['brown', 'black', 'white', 'gray']"
      ]
     },
     "execution_count": 50,
     "metadata": {},
     "output_type": "execute_result"
    }
   ],
   "source": [
    "color[3:]"
   ]
  },
  {
   "cell_type": "code",
   "execution_count": 51,
   "id": "71c1ff29",
   "metadata": {},
   "outputs": [
    {
     "data": {
      "text/plain": [
       "['blue', 'pink', 'green', 'brown', 'black', 'white', 'gray']"
      ]
     },
     "execution_count": 51,
     "metadata": {},
     "output_type": "execute_result"
    }
   ],
   "source": [
    "color[:]"
   ]
  },
  {
   "cell_type": "code",
   "execution_count": 52,
   "id": "9f3642cc",
   "metadata": {},
   "outputs": [
    {
     "data": {
      "text/plain": [
       "['blue', 'pink', 'green', 'brown', 'black', 'white', 'gray']"
      ]
     },
     "execution_count": 52,
     "metadata": {},
     "output_type": "execute_result"
    }
   ],
   "source": [
    "color"
   ]
  },
  {
   "cell_type": "code",
   "execution_count": 53,
   "id": "e5da50ab",
   "metadata": {},
   "outputs": [],
   "source": [
    "color.reverse()"
   ]
  },
  {
   "cell_type": "code",
   "execution_count": 54,
   "id": "551b2cbd",
   "metadata": {},
   "outputs": [
    {
     "data": {
      "text/plain": [
       "['gray', 'white', 'black', 'brown', 'green', 'pink', 'blue']"
      ]
     },
     "execution_count": 54,
     "metadata": {},
     "output_type": "execute_result"
    }
   ],
   "source": [
    "color"
   ]
  },
  {
   "cell_type": "code",
   "execution_count": 55,
   "id": "1c2d2389",
   "metadata": {},
   "outputs": [],
   "source": [
    "color.sort()"
   ]
  },
  {
   "cell_type": "code",
   "execution_count": 56,
   "id": "e9b58510",
   "metadata": {},
   "outputs": [
    {
     "data": {
      "text/plain": [
       "['black', 'blue', 'brown', 'gray', 'green', 'pink', 'white']"
      ]
     },
     "execution_count": 56,
     "metadata": {},
     "output_type": "execute_result"
    }
   ],
   "source": [
    "color"
   ]
  },
  {
   "cell_type": "markdown",
   "id": "a5e1602c",
   "metadata": {},
   "source": [
    "# Tuple\n",
    "\n",
    "- store multiple values\n",
    "- hetriogenious\n",
    "- not mutable"
   ]
  },
  {
   "cell_type": "code",
   "execution_count": 62,
   "id": "6300b32b",
   "metadata": {},
   "outputs": [],
   "source": [
    "tup1 = (3.14, 100, 'suhail', 56, 23, 45, 23, 12)"
   ]
  },
  {
   "cell_type": "code",
   "execution_count": 63,
   "id": "7a3e1e5c",
   "metadata": {},
   "outputs": [
    {
     "data": {
      "text/plain": [
       "(3.14, 100, 'suhail', 56, 23, 45, 23, 12)"
      ]
     },
     "execution_count": 63,
     "metadata": {},
     "output_type": "execute_result"
    }
   ],
   "source": [
    "tup1"
   ]
  },
  {
   "cell_type": "code",
   "execution_count": 64,
   "id": "bb613417",
   "metadata": {},
   "outputs": [
    {
     "data": {
      "text/plain": [
       "(100, 'suhail', 56)"
      ]
     },
     "execution_count": 64,
     "metadata": {},
     "output_type": "execute_result"
    }
   ],
   "source": [
    "tup1[1:4]"
   ]
  },
  {
   "cell_type": "code",
   "execution_count": 65,
   "id": "d7653c14",
   "metadata": {},
   "outputs": [
    {
     "ename": "AttributeError",
     "evalue": "'tuple' object has no attribute 'append'",
     "output_type": "error",
     "traceback": [
      "\u001b[1;31m---------------------------------------------------------------------------\u001b[0m",
      "\u001b[1;31mAttributeError\u001b[0m                            Traceback (most recent call last)",
      "\u001b[1;32m<ipython-input-65-411a8f565eee>\u001b[0m in \u001b[0;36m<module>\u001b[1;34m\u001b[0m\n\u001b[1;32m----> 1\u001b[1;33m \u001b[0mtup1\u001b[0m\u001b[1;33m.\u001b[0m\u001b[0mappend\u001b[0m\u001b[1;33m(\u001b[0m\u001b[1;34m'ghousul'\u001b[0m\u001b[1;33m)\u001b[0m\u001b[1;33m\u001b[0m\u001b[1;33m\u001b[0m\u001b[0m\n\u001b[0m",
      "\u001b[1;31mAttributeError\u001b[0m: 'tuple' object has no attribute 'append'"
     ]
    }
   ],
   "source": [
    "tup1.append('ghousul')"
   ]
  },
  {
   "cell_type": "code",
   "execution_count": 66,
   "id": "777d3daa",
   "metadata": {},
   "outputs": [
    {
     "data": {
      "text/plain": [
       "(3.14, 100, 'suhail', 56, 23, 45, 23, 12)"
      ]
     },
     "execution_count": 66,
     "metadata": {},
     "output_type": "execute_result"
    }
   ],
   "source": [
    "tup1"
   ]
  },
  {
   "cell_type": "code",
   "execution_count": 67,
   "id": "08a5790e",
   "metadata": {},
   "outputs": [
    {
     "ename": "TypeError",
     "evalue": "'tuple' object does not support item assignment",
     "output_type": "error",
     "traceback": [
      "\u001b[1;31m---------------------------------------------------------------------------\u001b[0m",
      "\u001b[1;31mTypeError\u001b[0m                                 Traceback (most recent call last)",
      "\u001b[1;32m<ipython-input-67-1d752f4ec5de>\u001b[0m in \u001b[0;36m<module>\u001b[1;34m\u001b[0m\n\u001b[1;32m----> 1\u001b[1;33m \u001b[0mtup1\u001b[0m\u001b[1;33m[\u001b[0m\u001b[1;36m1\u001b[0m\u001b[1;33m]\u001b[0m \u001b[1;33m=\u001b[0m \u001b[1;36m110\u001b[0m\u001b[1;33m\u001b[0m\u001b[1;33m\u001b[0m\u001b[0m\n\u001b[0m",
      "\u001b[1;31mTypeError\u001b[0m: 'tuple' object does not support item assignment"
     ]
    }
   ],
   "source": [
    "tup1[1] = 110"
   ]
  },
  {
   "cell_type": "markdown",
   "id": "099e0baf",
   "metadata": {},
   "source": [
    "# Dictionary"
   ]
  },
  {
   "cell_type": "code",
   "execution_count": 69,
   "id": "9ebb9b5c",
   "metadata": {},
   "outputs": [],
   "source": [
    "dict1 = {\n",
    "    'fname': 'Anick',\n",
    "    'lname': 'Khan',\n",
    "    'percentage': 90,\n",
    "    'sports': True,\n",
    "    'subjects': ['Eng', 'Maths', 'History']\n",
    "}"
   ]
  },
  {
   "cell_type": "code",
   "execution_count": 70,
   "id": "195c5e5e",
   "metadata": {
    "collapsed": true
   },
   "outputs": [
    {
     "data": {
      "text/plain": [
       "{'fname': 'Anick',\n",
       " 'lname': 'Khan',\n",
       " 'percentage': 90,\n",
       " 'sports': True,\n",
       " 'subjects': ['Eng', 'Maths', 'History']}"
      ]
     },
     "execution_count": 70,
     "metadata": {},
     "output_type": "execute_result"
    }
   ],
   "source": [
    "dict1"
   ]
  },
  {
   "cell_type": "code",
   "execution_count": 71,
   "id": "af87bc38",
   "metadata": {},
   "outputs": [
    {
     "data": {
      "text/plain": [
       "90"
      ]
     },
     "execution_count": 71,
     "metadata": {},
     "output_type": "execute_result"
    }
   ],
   "source": [
    "dict1['percentage']"
   ]
  },
  {
   "cell_type": "code",
   "execution_count": 72,
   "id": "3e0f29a1",
   "metadata": {},
   "outputs": [
    {
     "data": {
      "text/plain": [
       "['Eng', 'Maths', 'History']"
      ]
     },
     "execution_count": 72,
     "metadata": {},
     "output_type": "execute_result"
    }
   ],
   "source": [
    "dict1['subjects']"
   ]
  },
  {
   "cell_type": "markdown",
   "id": "ff8af27c",
   "metadata": {},
   "source": [
    "- name - Hydrogen\n",
    "- symbol - H\n",
    "- atomic_weight - 1\n",
    "- no_of_electrons - 1"
   ]
  },
  {
   "cell_type": "code",
   "execution_count": 73,
   "id": "8631c2bb",
   "metadata": {},
   "outputs": [],
   "source": [
    "dict2 = {\n",
    "    'name': 'Hydrogen',\n",
    "    'symbol': 'H',\n",
    "    'atomic_weight': 1,\n",
    "    'no_of_electrons': 1\n",
    "}"
   ]
  },
  {
   "cell_type": "code",
   "execution_count": 74,
   "id": "889d9fde",
   "metadata": {},
   "outputs": [
    {
     "data": {
      "text/plain": [
       "{'name': 'Hydrogen', 'symbol': 'H', 'atomic_weight': 1, 'no_of_electrons': 1}"
      ]
     },
     "execution_count": 74,
     "metadata": {},
     "output_type": "execute_result"
    }
   ],
   "source": [
    "dict2"
   ]
  },
  {
   "cell_type": "code",
   "execution_count": 76,
   "id": "fafa054f",
   "metadata": {},
   "outputs": [
    {
     "data": {
      "text/plain": [
       "'H'"
      ]
     },
     "execution_count": 76,
     "metadata": {},
     "output_type": "execute_result"
    }
   ],
   "source": [
    "dict2['symbol']"
   ]
  },
  {
   "cell_type": "markdown",
   "id": "039025d2",
   "metadata": {},
   "source": [
    "# Sets\n",
    "- unique\n",
    "- unordered"
   ]
  },
  {
   "cell_type": "code",
   "execution_count": 77,
   "id": "3226a85a",
   "metadata": {},
   "outputs": [],
   "source": [
    "set1 = {'Java', 'Python', 'JavaScript', 'Python', 'C', 'C++', 'Haskell', 'Java'}"
   ]
  },
  {
   "cell_type": "code",
   "execution_count": 78,
   "id": "569b663a",
   "metadata": {},
   "outputs": [
    {
     "data": {
      "text/plain": [
       "{'C', 'C++', 'Haskell', 'Java', 'JavaScript', 'Python'}"
      ]
     },
     "execution_count": 78,
     "metadata": {},
     "output_type": "execute_result"
    }
   ],
   "source": [
    "set1"
   ]
  },
  {
   "cell_type": "code",
   "execution_count": 79,
   "id": "eb165505",
   "metadata": {},
   "outputs": [],
   "source": [
    "set2 = {'Anaconda', 'Python', 'Viper', 'Cobra'}"
   ]
  },
  {
   "cell_type": "code",
   "execution_count": 80,
   "id": "72516c79",
   "metadata": {},
   "outputs": [
    {
     "data": {
      "text/plain": [
       "{'Anaconda', 'Cobra', 'Python', 'Viper'}"
      ]
     },
     "execution_count": 80,
     "metadata": {},
     "output_type": "execute_result"
    }
   ],
   "source": [
    "set2"
   ]
  },
  {
   "cell_type": "code",
   "execution_count": 81,
   "id": "b2af2d74",
   "metadata": {},
   "outputs": [
    {
     "data": {
      "text/plain": [
       "{'Python'}"
      ]
     },
     "execution_count": 81,
     "metadata": {},
     "output_type": "execute_result"
    }
   ],
   "source": [
    "set1.intersection(set2)"
   ]
  },
  {
   "cell_type": "code",
   "execution_count": 82,
   "id": "8d20e96e",
   "metadata": {},
   "outputs": [
    {
     "data": {
      "text/plain": [
       "{'Anaconda',\n",
       " 'C',\n",
       " 'C++',\n",
       " 'Cobra',\n",
       " 'Haskell',\n",
       " 'Java',\n",
       " 'JavaScript',\n",
       " 'Python',\n",
       " 'Viper'}"
      ]
     },
     "execution_count": 82,
     "metadata": {},
     "output_type": "execute_result"
    }
   ],
   "source": [
    "set1.union(set2)"
   ]
  },
  {
   "cell_type": "markdown",
   "id": "3eb32093",
   "metadata": {},
   "source": [
    "# String"
   ]
  },
  {
   "cell_type": "code",
   "execution_count": 85,
   "id": "1b5e23ec",
   "metadata": {},
   "outputs": [],
   "source": [
    "name = 'Suhail'"
   ]
  },
  {
   "cell_type": "code",
   "execution_count": 86,
   "id": "73f2c830",
   "metadata": {},
   "outputs": [
    {
     "data": {
      "text/plain": [
       "'Suhail'"
      ]
     },
     "execution_count": 86,
     "metadata": {},
     "output_type": "execute_result"
    }
   ],
   "source": [
    "name"
   ]
  },
  {
   "cell_type": "code",
   "execution_count": 87,
   "id": "0283f89a",
   "metadata": {},
   "outputs": [
    {
     "data": {
      "text/plain": [
       "'hail'"
      ]
     },
     "execution_count": 87,
     "metadata": {},
     "output_type": "execute_result"
    }
   ],
   "source": [
    "name[2:]"
   ]
  },
  {
   "cell_type": "code",
   "execution_count": 89,
   "id": "c057811e",
   "metadata": {},
   "outputs": [
    {
     "data": {
      "text/plain": [
       "'SUHAIL'"
      ]
     },
     "execution_count": 89,
     "metadata": {},
     "output_type": "execute_result"
    }
   ],
   "source": [
    "name.upper()"
   ]
  },
  {
   "cell_type": "code",
   "execution_count": 91,
   "id": "8537ad21",
   "metadata": {},
   "outputs": [
    {
     "data": {
      "text/plain": [
       "False"
      ]
     },
     "execution_count": 91,
     "metadata": {},
     "output_type": "execute_result"
    }
   ],
   "source": [
    "name.isdigit()"
   ]
  },
  {
   "cell_type": "code",
   "execution_count": 92,
   "id": "0fc9ec7d",
   "metadata": {},
   "outputs": [],
   "source": [
    "age = '120'"
   ]
  },
  {
   "cell_type": "code",
   "execution_count": 93,
   "id": "b8a04e84",
   "metadata": {},
   "outputs": [
    {
     "data": {
      "text/plain": [
       "True"
      ]
     },
     "execution_count": 93,
     "metadata": {},
     "output_type": "execute_result"
    }
   ],
   "source": [
    "age.isdigit()"
   ]
  },
  {
   "cell_type": "code",
   "execution_count": null,
   "id": "dfcc2b86",
   "metadata": {},
   "outputs": [],
   "source": []
  }
 ],
 "metadata": {
  "kernelspec": {
   "display_name": "Python 3",
   "language": "python",
   "name": "python3"
  },
  "language_info": {
   "codemirror_mode": {
    "name": "ipython",
    "version": 3
   },
   "file_extension": ".py",
   "mimetype": "text/x-python",
   "name": "python",
   "nbconvert_exporter": "python",
   "pygments_lexer": "ipython3",
   "version": "3.8.8"
  }
 },
 "nbformat": 4,
 "nbformat_minor": 5
}
