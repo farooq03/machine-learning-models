{
 "cells": [
  {
   "cell_type": "code",
   "execution_count": 1,
   "id": "78f95077",
   "metadata": {},
   "outputs": [],
   "source": [
    "import numpy as np"
   ]
  },
  {
   "cell_type": "code",
   "execution_count": 2,
   "id": "e26478d6",
   "metadata": {},
   "outputs": [
    {
     "data": {
      "text/plain": [
       "array([ 0,  1,  2,  3,  4,  5,  6,  7,  8,  9, 10, 11, 12, 13, 14, 15, 16,\n",
       "       17, 18, 19, 20, 21, 22, 23, 24, 25, 26, 27, 28, 29, 30, 31, 32, 33,\n",
       "       34, 35, 36, 37, 38, 39, 40, 41, 42, 43, 44, 45, 46, 47, 48, 49, 50,\n",
       "       51, 52, 53, 54, 55, 56, 57, 58, 59, 60, 61, 62, 63, 64, 65, 66, 67,\n",
       "       68, 69, 70, 71, 72, 73, 74, 75, 76, 77, 78, 79, 80, 81, 82, 83, 84,\n",
       "       85, 86, 87, 88, 89, 90, 91, 92, 93, 94, 95, 96, 97, 98, 99])"
      ]
     },
     "execution_count": 2,
     "metadata": {},
     "output_type": "execute_result"
    }
   ],
   "source": [
    "arr1 = np.arange(100)\n",
    "arr1"
   ]
  },
  {
   "cell_type": "code",
   "execution_count": 3,
   "id": "b166c8c1",
   "metadata": {},
   "outputs": [
    {
     "data": {
      "text/plain": [
       "array([[ 0,  1,  2,  3,  4,  5,  6,  7,  8,  9],\n",
       "       [10, 11, 12, 13, 14, 15, 16, 17, 18, 19],\n",
       "       [20, 21, 22, 23, 24, 25, 26, 27, 28, 29],\n",
       "       [30, 31, 32, 33, 34, 35, 36, 37, 38, 39],\n",
       "       [40, 41, 42, 43, 44, 45, 46, 47, 48, 49],\n",
       "       [50, 51, 52, 53, 54, 55, 56, 57, 58, 59],\n",
       "       [60, 61, 62, 63, 64, 65, 66, 67, 68, 69],\n",
       "       [70, 71, 72, 73, 74, 75, 76, 77, 78, 79],\n",
       "       [80, 81, 82, 83, 84, 85, 86, 87, 88, 89],\n",
       "       [90, 91, 92, 93, 94, 95, 96, 97, 98, 99]])"
      ]
     },
     "execution_count": 3,
     "metadata": {},
     "output_type": "execute_result"
    }
   ],
   "source": [
    "arr1.reshape(10,10)"
   ]
  },
  {
   "cell_type": "markdown",
   "id": "c38dd52d",
   "metadata": {},
   "source": [
    "# generate random number between 0 and 1"
   ]
  },
  {
   "cell_type": "code",
   "execution_count": 9,
   "id": "d181dd60",
   "metadata": {},
   "outputs": [
    {
     "data": {
      "text/plain": [
       "0.18566351871652698"
      ]
     },
     "execution_count": 9,
     "metadata": {},
     "output_type": "execute_result"
    }
   ],
   "source": [
    "np.random.rand()"
   ]
  },
  {
   "cell_type": "code",
   "execution_count": 27,
   "id": "6f05fa97",
   "metadata": {},
   "outputs": [
    {
     "data": {
      "text/plain": [
       "array([978, 902, 964, 999, 971, 907, 953, 937, 951, 950, 986, 999, 953,\n",
       "       943, 921, 981, 948, 986, 906, 996, 972, 968, 974, 955, 910, 931,\n",
       "       984, 941, 973, 903, 968, 932, 969, 983, 987, 909, 980, 913, 973,\n",
       "       914, 947, 951, 971, 995, 978, 907, 946, 920, 987, 978, 929, 986,\n",
       "       902, 987, 998, 994, 967, 936, 912, 930, 985, 905, 906, 982, 918,\n",
       "       907, 936, 945, 988, 927, 991, 906, 925, 936, 931, 902, 909, 905,\n",
       "       990, 967, 902, 997, 989, 906, 951, 982, 950, 957, 956, 992, 994,\n",
       "       903, 963, 985, 930, 902, 983, 900, 917, 915])"
      ]
     },
     "execution_count": 27,
     "metadata": {},
     "output_type": "execute_result"
    }
   ],
   "source": [
    "np.random.randint(900, 1000, 100)"
   ]
  },
  {
   "cell_type": "code",
   "execution_count": 29,
   "id": "af866929",
   "metadata": {},
   "outputs": [
    {
     "data": {
      "text/plain": [
       "array([[54, 46, 77, 14, 98, 58, 28, 14, 97, 20],\n",
       "       [36, 16,  3, 59, 45, 57, 56, 82, 69, 62],\n",
       "       [10, 21, 55, 61, 51, 59, 81, 69,  1, 76],\n",
       "       [ 5, 72, 33, 51, 44, 96, 53, 67, 95, 88],\n",
       "       [56, 77, 41, 20, 12, 70, 51, 77, 89, 42],\n",
       "       [77,  3, 34, 56, 93, 50, 70, 19, 66, 17],\n",
       "       [69, 20,  0, 28, 12, 28, 36, 64, 85, 44],\n",
       "       [14, 61, 58, 71, 71, 22, 51, 73, 62, 84],\n",
       "       [54,  1, 71, 10, 77,  1, 89,  3, 26, 17],\n",
       "       [60, 65, 73, 26, 55, 44, 79, 69, 27, 36]])"
      ]
     },
     "execution_count": 29,
     "metadata": {},
     "output_type": "execute_result"
    }
   ],
   "source": [
    "np.random.randint(0,100, 100).reshape(10,10)"
   ]
  },
  {
   "cell_type": "markdown",
   "id": "4c995988",
   "metadata": {},
   "source": [
    "# generate a random integer array of shape 5x5 with values inbetween 0 and 20"
   ]
  },
  {
   "cell_type": "code",
   "execution_count": 35,
   "id": "5beebb65",
   "metadata": {},
   "outputs": [
    {
     "data": {
      "text/plain": [
       "array([[15, 14,  0, 18, 18],\n",
       "       [19,  0,  0,  5,  8],\n",
       "       [11,  5,  2, 14, 19],\n",
       "       [ 8,  6, 17,  0,  6],\n",
       "       [ 9,  0,  6,  7, 16]])"
      ]
     },
     "execution_count": 35,
     "metadata": {},
     "output_type": "execute_result"
    }
   ],
   "source": [
    "np.random.randint(0,20,25).reshape(5,5)"
   ]
  },
  {
   "cell_type": "markdown",
   "id": "7c12ee5d",
   "metadata": {},
   "source": [
    "# stacking"
   ]
  },
  {
   "cell_type": "code",
   "execution_count": 36,
   "id": "7fed2fd2",
   "metadata": {},
   "outputs": [
    {
     "data": {
      "text/plain": [
       "array([[ 4, 13, 16, 14, 17],\n",
       "       [ 3,  8, 17,  1, 13],\n",
       "       [14, 13, 11, 19, 16],\n",
       "       [18,  7, 18,  2, 14],\n",
       "       [ 3, 12, 15,  7,  4]])"
      ]
     },
     "execution_count": 36,
     "metadata": {},
     "output_type": "execute_result"
    }
   ],
   "source": [
    "arr3 = np.random.randint(0,20,25).reshape(5,5)\n",
    "arr3"
   ]
  },
  {
   "cell_type": "code",
   "execution_count": 38,
   "id": "7b0fd2fe",
   "metadata": {},
   "outputs": [
    {
     "data": {
      "text/plain": [
       "array([[ 0,  1,  2,  3,  4],\n",
       "       [ 5,  6,  7,  8,  9],\n",
       "       [10, 11, 12, 13, 14],\n",
       "       [15, 16, 17, 18, 19],\n",
       "       [20, 21, 22, 23, 24]])"
      ]
     },
     "execution_count": 38,
     "metadata": {},
     "output_type": "execute_result"
    }
   ],
   "source": [
    "arr4 = np.arange(25).reshape(5,5)\n",
    "arr4"
   ]
  },
  {
   "cell_type": "code",
   "execution_count": 39,
   "id": "54b8cfe3",
   "metadata": {},
   "outputs": [
    {
     "data": {
      "text/plain": [
       "array([[ 4, 13, 16, 14, 17],\n",
       "       [ 3,  8, 17,  1, 13],\n",
       "       [14, 13, 11, 19, 16],\n",
       "       [18,  7, 18,  2, 14],\n",
       "       [ 3, 12, 15,  7,  4],\n",
       "       [ 0,  1,  2,  3,  4],\n",
       "       [ 5,  6,  7,  8,  9],\n",
       "       [10, 11, 12, 13, 14],\n",
       "       [15, 16, 17, 18, 19],\n",
       "       [20, 21, 22, 23, 24]])"
      ]
     },
     "execution_count": 39,
     "metadata": {},
     "output_type": "execute_result"
    }
   ],
   "source": [
    "np.vstack((arr3,arr4))"
   ]
  },
  {
   "cell_type": "code",
   "execution_count": 46,
   "id": "cd2d5b82",
   "metadata": {},
   "outputs": [
    {
     "data": {
      "text/plain": [
       "array([[ 4, 13, 16, 14, 17,  0,  1,  2,  3,  4],\n",
       "       [ 3,  8, 17,  1, 13,  5,  6,  7,  8,  9],\n",
       "       [14, 13, 11, 19, 16, 10, 11, 12, 13, 14],\n",
       "       [18,  7, 18,  2, 14, 15, 16, 17, 18, 19],\n",
       "       [ 3, 12, 15,  7,  4, 20, 21, 22, 23, 24]])"
      ]
     },
     "execution_count": 46,
     "metadata": {},
     "output_type": "execute_result"
    }
   ],
   "source": [
    "np.hstack((arr3, arr4))"
   ]
  },
  {
   "cell_type": "markdown",
   "id": "5a2c47b6",
   "metadata": {},
   "source": [
    "# split"
   ]
  },
  {
   "cell_type": "code",
   "execution_count": 42,
   "id": "0ae82ddb",
   "metadata": {},
   "outputs": [
    {
     "data": {
      "text/plain": [
       "array([[ 4, 13, 16, 14, 17,  0,  1,  2,  3,  4],\n",
       "       [ 3,  8, 17,  1, 13,  5,  6,  7,  8,  9],\n",
       "       [14, 13, 11, 19, 16, 10, 11, 12, 13, 14],\n",
       "       [18,  7, 18,  2, 14, 15, 16, 17, 18, 19],\n",
       "       [ 3, 12, 15,  7,  4, 20, 21, 22, 23, 24]])"
      ]
     },
     "execution_count": 42,
     "metadata": {},
     "output_type": "execute_result"
    }
   ],
   "source": [
    "arr5 = np.hstack((arr3, arr4))\n",
    "arr5"
   ]
  },
  {
   "cell_type": "code",
   "execution_count": 48,
   "id": "059a2309",
   "metadata": {},
   "outputs": [
    {
     "data": {
      "text/plain": [
       "array([[ 4, 13, 16, 14, 17,  0,  1,  2,  3,  4],\n",
       "       [ 3,  8, 17,  1, 13,  5,  6,  7,  8,  9],\n",
       "       [14, 13, 11, 19, 16, 10, 11, 12, 13, 14],\n",
       "       [18,  7, 18,  2, 14, 15, 16, 17, 18, 19],\n",
       "       [ 3, 12, 15,  7,  4, 20, 21, 22, 23, 24],\n",
       "       [ 4, 13, 16, 14, 17,  0,  1,  2,  3,  4],\n",
       "       [ 3,  8, 17,  1, 13,  5,  6,  7,  8,  9],\n",
       "       [14, 13, 11, 19, 16, 10, 11, 12, 13, 14],\n",
       "       [18,  7, 18,  2, 14, 15, 16, 17, 18, 19],\n",
       "       [ 3, 12, 15,  7,  4, 20, 21, 22, 23, 24]])"
      ]
     },
     "execution_count": 48,
     "metadata": {},
     "output_type": "execute_result"
    }
   ],
   "source": [
    "arr6 = np.vstack((arr5, arr5))\n",
    "arr6"
   ]
  },
  {
   "cell_type": "code",
   "execution_count": 53,
   "id": "c487b77d",
   "metadata": {},
   "outputs": [
    {
     "data": {
      "text/plain": [
       "[array([[ 4, 13, 16, 14, 17],\n",
       "        [ 3,  8, 17,  1, 13],\n",
       "        [14, 13, 11, 19, 16],\n",
       "        [18,  7, 18,  2, 14],\n",
       "        [ 3, 12, 15,  7,  4],\n",
       "        [ 4, 13, 16, 14, 17],\n",
       "        [ 3,  8, 17,  1, 13],\n",
       "        [14, 13, 11, 19, 16],\n",
       "        [18,  7, 18,  2, 14],\n",
       "        [ 3, 12, 15,  7,  4]]),\n",
       " array([[ 0,  1,  2,  3,  4],\n",
       "        [ 5,  6,  7,  8,  9],\n",
       "        [10, 11, 12, 13, 14],\n",
       "        [15, 16, 17, 18, 19],\n",
       "        [20, 21, 22, 23, 24],\n",
       "        [ 0,  1,  2,  3,  4],\n",
       "        [ 5,  6,  7,  8,  9],\n",
       "        [10, 11, 12, 13, 14],\n",
       "        [15, 16, 17, 18, 19],\n",
       "        [20, 21, 22, 23, 24]])]"
      ]
     },
     "execution_count": 53,
     "metadata": {},
     "output_type": "execute_result"
    }
   ],
   "source": [
    "np.hsplit(arr6, 2)"
   ]
  },
  {
   "cell_type": "code",
   "execution_count": 57,
   "id": "d027503c",
   "metadata": {},
   "outputs": [
    {
     "data": {
      "text/plain": [
       "[array([[ 4, 13, 16, 14, 17,  0,  1,  2,  3,  4],\n",
       "        [ 3,  8, 17,  1, 13,  5,  6,  7,  8,  9],\n",
       "        [14, 13, 11, 19, 16, 10, 11, 12, 13, 14],\n",
       "        [18,  7, 18,  2, 14, 15, 16, 17, 18, 19],\n",
       "        [ 3, 12, 15,  7,  4, 20, 21, 22, 23, 24]]),\n",
       " array([[ 4, 13, 16, 14, 17,  0,  1,  2,  3,  4],\n",
       "        [ 3,  8, 17,  1, 13,  5,  6,  7,  8,  9],\n",
       "        [14, 13, 11, 19, 16, 10, 11, 12, 13, 14],\n",
       "        [18,  7, 18,  2, 14, 15, 16, 17, 18, 19],\n",
       "        [ 3, 12, 15,  7,  4, 20, 21, 22, 23, 24]])]"
      ]
     },
     "execution_count": 57,
     "metadata": {},
     "output_type": "execute_result"
    }
   ],
   "source": [
    "np.vsplit(arr6, 2)"
   ]
  },
  {
   "cell_type": "code",
   "execution_count": null,
   "id": "8834de08",
   "metadata": {},
   "outputs": [],
   "source": []
  }
 ],
 "metadata": {
  "kernelspec": {
   "display_name": "Python 3",
   "language": "python",
   "name": "python3"
  },
  "language_info": {
   "codemirror_mode": {
    "name": "ipython",
    "version": 3
   },
   "file_extension": ".py",
   "mimetype": "text/x-python",
   "name": "python",
   "nbconvert_exporter": "python",
   "pygments_lexer": "ipython3",
   "version": "3.8.8"
  }
 },
 "nbformat": 4,
 "nbformat_minor": 5
}
