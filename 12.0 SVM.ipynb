{
 "cells": [
  {
   "cell_type": "code",
   "execution_count": 11,
   "id": "27637701",
   "metadata": {},
   "outputs": [],
   "source": [
    "import pandas as pd"
   ]
  },
  {
   "cell_type": "code",
   "execution_count": 12,
   "id": "36c2b106",
   "metadata": {},
   "outputs": [
    {
     "data": {
      "text/html": [
       "<div>\n",
       "<style scoped>\n",
       "    .dataframe tbody tr th:only-of-type {\n",
       "        vertical-align: middle;\n",
       "    }\n",
       "\n",
       "    .dataframe tbody tr th {\n",
       "        vertical-align: top;\n",
       "    }\n",
       "\n",
       "    .dataframe thead th {\n",
       "        text-align: right;\n",
       "    }\n",
       "</style>\n",
       "<table border=\"1\" class=\"dataframe\">\n",
       "  <thead>\n",
       "    <tr style=\"text-align: right;\">\n",
       "      <th></th>\n",
       "      <th>buying</th>\n",
       "      <th>maint</th>\n",
       "      <th>doors</th>\n",
       "      <th>persons</th>\n",
       "      <th>lug_boot</th>\n",
       "      <th>safety</th>\n",
       "      <th>outcome</th>\n",
       "    </tr>\n",
       "  </thead>\n",
       "  <tbody>\n",
       "    <tr>\n",
       "      <th>0</th>\n",
       "      <td>vhigh</td>\n",
       "      <td>vhigh</td>\n",
       "      <td>2</td>\n",
       "      <td>2</td>\n",
       "      <td>small</td>\n",
       "      <td>low</td>\n",
       "      <td>unacc</td>\n",
       "    </tr>\n",
       "    <tr>\n",
       "      <th>1</th>\n",
       "      <td>vhigh</td>\n",
       "      <td>vhigh</td>\n",
       "      <td>2</td>\n",
       "      <td>2</td>\n",
       "      <td>small</td>\n",
       "      <td>med</td>\n",
       "      <td>unacc</td>\n",
       "    </tr>\n",
       "    <tr>\n",
       "      <th>2</th>\n",
       "      <td>vhigh</td>\n",
       "      <td>vhigh</td>\n",
       "      <td>2</td>\n",
       "      <td>2</td>\n",
       "      <td>small</td>\n",
       "      <td>high</td>\n",
       "      <td>unacc</td>\n",
       "    </tr>\n",
       "    <tr>\n",
       "      <th>3</th>\n",
       "      <td>vhigh</td>\n",
       "      <td>vhigh</td>\n",
       "      <td>2</td>\n",
       "      <td>2</td>\n",
       "      <td>med</td>\n",
       "      <td>low</td>\n",
       "      <td>unacc</td>\n",
       "    </tr>\n",
       "    <tr>\n",
       "      <th>4</th>\n",
       "      <td>vhigh</td>\n",
       "      <td>vhigh</td>\n",
       "      <td>2</td>\n",
       "      <td>2</td>\n",
       "      <td>med</td>\n",
       "      <td>med</td>\n",
       "      <td>unacc</td>\n",
       "    </tr>\n",
       "  </tbody>\n",
       "</table>\n",
       "</div>"
      ],
      "text/plain": [
       "  buying  maint  doors  persons lug_boot safety outcome\n",
       "0  vhigh  vhigh      2        2    small    low   unacc\n",
       "1  vhigh  vhigh      2        2    small    med   unacc\n",
       "2  vhigh  vhigh      2        2    small   high   unacc\n",
       "3  vhigh  vhigh      2        2      med    low   unacc\n",
       "4  vhigh  vhigh      2        2      med    med   unacc"
      ]
     },
     "execution_count": 12,
     "metadata": {},
     "output_type": "execute_result"
    }
   ],
   "source": [
    "df = pd.read_csv('car_evaluation.csv')\n",
    "df.head()"
   ]
  },
  {
   "cell_type": "code",
   "execution_count": 13,
   "id": "9998483c",
   "metadata": {},
   "outputs": [
    {
     "data": {
      "text/plain": [
       "array(['vhigh', 'high', 'med', 'low'], dtype=object)"
      ]
     },
     "execution_count": 13,
     "metadata": {},
     "output_type": "execute_result"
    }
   ],
   "source": [
    "df.buying.unique()"
   ]
  },
  {
   "cell_type": "code",
   "execution_count": 14,
   "id": "7668204b",
   "metadata": {},
   "outputs": [
    {
     "data": {
      "text/html": [
       "<div>\n",
       "<style scoped>\n",
       "    .dataframe tbody tr th:only-of-type {\n",
       "        vertical-align: middle;\n",
       "    }\n",
       "\n",
       "    .dataframe tbody tr th {\n",
       "        vertical-align: top;\n",
       "    }\n",
       "\n",
       "    .dataframe thead th {\n",
       "        text-align: right;\n",
       "    }\n",
       "</style>\n",
       "<table border=\"1\" class=\"dataframe\">\n",
       "  <thead>\n",
       "    <tr style=\"text-align: right;\">\n",
       "      <th></th>\n",
       "      <th>buying</th>\n",
       "      <th>maint</th>\n",
       "      <th>doors</th>\n",
       "      <th>persons</th>\n",
       "      <th>lug_boot</th>\n",
       "      <th>safety</th>\n",
       "      <th>outcome</th>\n",
       "    </tr>\n",
       "  </thead>\n",
       "  <tbody>\n",
       "    <tr>\n",
       "      <th>0</th>\n",
       "      <td>3</td>\n",
       "      <td>vhigh</td>\n",
       "      <td>2</td>\n",
       "      <td>2</td>\n",
       "      <td>small</td>\n",
       "      <td>low</td>\n",
       "      <td>unacc</td>\n",
       "    </tr>\n",
       "    <tr>\n",
       "      <th>1</th>\n",
       "      <td>3</td>\n",
       "      <td>vhigh</td>\n",
       "      <td>2</td>\n",
       "      <td>2</td>\n",
       "      <td>small</td>\n",
       "      <td>med</td>\n",
       "      <td>unacc</td>\n",
       "    </tr>\n",
       "    <tr>\n",
       "      <th>2</th>\n",
       "      <td>3</td>\n",
       "      <td>vhigh</td>\n",
       "      <td>2</td>\n",
       "      <td>2</td>\n",
       "      <td>small</td>\n",
       "      <td>high</td>\n",
       "      <td>unacc</td>\n",
       "    </tr>\n",
       "    <tr>\n",
       "      <th>3</th>\n",
       "      <td>3</td>\n",
       "      <td>vhigh</td>\n",
       "      <td>2</td>\n",
       "      <td>2</td>\n",
       "      <td>med</td>\n",
       "      <td>low</td>\n",
       "      <td>unacc</td>\n",
       "    </tr>\n",
       "    <tr>\n",
       "      <th>4</th>\n",
       "      <td>3</td>\n",
       "      <td>vhigh</td>\n",
       "      <td>2</td>\n",
       "      <td>2</td>\n",
       "      <td>med</td>\n",
       "      <td>med</td>\n",
       "      <td>unacc</td>\n",
       "    </tr>\n",
       "  </tbody>\n",
       "</table>\n",
       "</div>"
      ],
      "text/plain": [
       "   buying  maint  doors  persons lug_boot safety outcome\n",
       "0       3  vhigh      2        2    small    low   unacc\n",
       "1       3  vhigh      2        2    small    med   unacc\n",
       "2       3  vhigh      2        2    small   high   unacc\n",
       "3       3  vhigh      2        2      med    low   unacc\n",
       "4       3  vhigh      2        2      med    med   unacc"
      ]
     },
     "execution_count": 14,
     "metadata": {},
     "output_type": "execute_result"
    }
   ],
   "source": [
    "buying_dict = {\n",
    "    'low': 0,\n",
    "    'med': 1,\n",
    "    'high': 2,\n",
    "    'vhigh': 3\n",
    "}\n",
    "df.buying = df.buying.map(buying_dict)\n",
    "df.head()"
   ]
  },
  {
   "cell_type": "code",
   "execution_count": 15,
   "id": "66ea40e2",
   "metadata": {},
   "outputs": [],
   "source": [
    "maint_dict ={\n",
    "    'low': 0,\n",
    "    'med': 1,\n",
    "    'high':2,\n",
    "    'vhigh':3\n",
    "}\n",
    "df.maint = df.maint.map(maint_dict)"
   ]
  },
  {
   "cell_type": "code",
   "execution_count": 16,
   "id": "a6c16f49",
   "metadata": {},
   "outputs": [
    {
     "data": {
      "text/plain": [
       "array(['small', 'med', 'big'], dtype=object)"
      ]
     },
     "execution_count": 16,
     "metadata": {},
     "output_type": "execute_result"
    }
   ],
   "source": [
    "df.lug_boot.unique()"
   ]
  },
  {
   "cell_type": "code",
   "execution_count": 17,
   "id": "db952b92",
   "metadata": {},
   "outputs": [],
   "source": [
    "lug_boot_dict = {\n",
    "    'small':0,\n",
    "    'med':1,\n",
    "    'big':2\n",
    "}\n",
    "df.lug_boot = df.lug_boot.map(lug_boot_dict)"
   ]
  },
  {
   "cell_type": "code",
   "execution_count": 18,
   "id": "cac9887b",
   "metadata": {},
   "outputs": [],
   "source": [
    "safety_dict = {\n",
    "    'low': 0,\n",
    "    'med': 1,\n",
    "    'high': 2,\n",
    "}\n",
    "df.safety = df.safety.map(safety_dict)"
   ]
  },
  {
   "cell_type": "code",
   "execution_count": 19,
   "id": "32c28c2f",
   "metadata": {},
   "outputs": [
    {
     "data": {
      "text/html": [
       "<div>\n",
       "<style scoped>\n",
       "    .dataframe tbody tr th:only-of-type {\n",
       "        vertical-align: middle;\n",
       "    }\n",
       "\n",
       "    .dataframe tbody tr th {\n",
       "        vertical-align: top;\n",
       "    }\n",
       "\n",
       "    .dataframe thead th {\n",
       "        text-align: right;\n",
       "    }\n",
       "</style>\n",
       "<table border=\"1\" class=\"dataframe\">\n",
       "  <thead>\n",
       "    <tr style=\"text-align: right;\">\n",
       "      <th></th>\n",
       "      <th>buying</th>\n",
       "      <th>maint</th>\n",
       "      <th>doors</th>\n",
       "      <th>persons</th>\n",
       "      <th>lug_boot</th>\n",
       "      <th>safety</th>\n",
       "      <th>outcome</th>\n",
       "    </tr>\n",
       "  </thead>\n",
       "  <tbody>\n",
       "    <tr>\n",
       "      <th>0</th>\n",
       "      <td>3</td>\n",
       "      <td>3</td>\n",
       "      <td>2</td>\n",
       "      <td>2</td>\n",
       "      <td>0</td>\n",
       "      <td>0</td>\n",
       "      <td>unacc</td>\n",
       "    </tr>\n",
       "    <tr>\n",
       "      <th>1</th>\n",
       "      <td>3</td>\n",
       "      <td>3</td>\n",
       "      <td>2</td>\n",
       "      <td>2</td>\n",
       "      <td>0</td>\n",
       "      <td>1</td>\n",
       "      <td>unacc</td>\n",
       "    </tr>\n",
       "    <tr>\n",
       "      <th>2</th>\n",
       "      <td>3</td>\n",
       "      <td>3</td>\n",
       "      <td>2</td>\n",
       "      <td>2</td>\n",
       "      <td>0</td>\n",
       "      <td>2</td>\n",
       "      <td>unacc</td>\n",
       "    </tr>\n",
       "    <tr>\n",
       "      <th>3</th>\n",
       "      <td>3</td>\n",
       "      <td>3</td>\n",
       "      <td>2</td>\n",
       "      <td>2</td>\n",
       "      <td>1</td>\n",
       "      <td>0</td>\n",
       "      <td>unacc</td>\n",
       "    </tr>\n",
       "    <tr>\n",
       "      <th>4</th>\n",
       "      <td>3</td>\n",
       "      <td>3</td>\n",
       "      <td>2</td>\n",
       "      <td>2</td>\n",
       "      <td>1</td>\n",
       "      <td>1</td>\n",
       "      <td>unacc</td>\n",
       "    </tr>\n",
       "  </tbody>\n",
       "</table>\n",
       "</div>"
      ],
      "text/plain": [
       "   buying  maint  doors  persons  lug_boot  safety outcome\n",
       "0       3      3      2        2         0       0   unacc\n",
       "1       3      3      2        2         0       1   unacc\n",
       "2       3      3      2        2         0       2   unacc\n",
       "3       3      3      2        2         1       0   unacc\n",
       "4       3      3      2        2         1       1   unacc"
      ]
     },
     "execution_count": 19,
     "metadata": {},
     "output_type": "execute_result"
    }
   ],
   "source": [
    "df.head()"
   ]
  },
  {
   "cell_type": "code",
   "execution_count": 20,
   "id": "46abbccb",
   "metadata": {},
   "outputs": [],
   "source": [
    "X = df.iloc[:, :-1]\n",
    "y = df.outcome"
   ]
  },
  {
   "cell_type": "code",
   "execution_count": 29,
   "id": "47f239c1",
   "metadata": {},
   "outputs": [],
   "source": [
    "from sklearn.model_selection import train_test_split\n",
    "X_train, X_test, y_train, y_test = train_test_split(X,y, test_size=0.2, random_state=19)"
   ]
  },
  {
   "cell_type": "code",
   "execution_count": 30,
   "id": "53c5da29",
   "metadata": {},
   "outputs": [],
   "source": [
    "from sklearn.svm import SVC"
   ]
  },
  {
   "cell_type": "code",
   "execution_count": 101,
   "id": "f4c56ffd",
   "metadata": {},
   "outputs": [
    {
     "data": {
      "text/plain": [
       "SVC(C=250, gamma=0.1)"
      ]
     },
     "execution_count": 101,
     "metadata": {},
     "output_type": "execute_result"
    }
   ],
   "source": [
    "model = SVC(kernel='rbf', C=250, gamma=0.1)\n",
    "model.fit(X_train, y_train)"
   ]
  },
  {
   "cell_type": "code",
   "execution_count": 102,
   "id": "19dd298d",
   "metadata": {},
   "outputs": [],
   "source": [
    "y_predict = model.predict(X_test)"
   ]
  },
  {
   "cell_type": "code",
   "execution_count": 103,
   "id": "c8904a28",
   "metadata": {},
   "outputs": [],
   "source": [
    "from sklearn.metrics import accuracy_score, classification_report"
   ]
  },
  {
   "cell_type": "code",
   "execution_count": 104,
   "id": "fd1a1906",
   "metadata": {},
   "outputs": [
    {
     "data": {
      "text/plain": [
       "1.0"
      ]
     },
     "execution_count": 104,
     "metadata": {},
     "output_type": "execute_result"
    }
   ],
   "source": [
    "accuracy_score(y_test, y_predict)"
   ]
  },
  {
   "cell_type": "code",
   "execution_count": 105,
   "id": "458d3635",
   "metadata": {},
   "outputs": [
    {
     "data": {
      "text/html": [
       "<div>\n",
       "<style scoped>\n",
       "    .dataframe tbody tr th:only-of-type {\n",
       "        vertical-align: middle;\n",
       "    }\n",
       "\n",
       "    .dataframe tbody tr th {\n",
       "        vertical-align: top;\n",
       "    }\n",
       "\n",
       "    .dataframe thead th {\n",
       "        text-align: right;\n",
       "    }\n",
       "</style>\n",
       "<table border=\"1\" class=\"dataframe\">\n",
       "  <thead>\n",
       "    <tr style=\"text-align: right;\">\n",
       "      <th>col_0</th>\n",
       "      <th>acc</th>\n",
       "      <th>good</th>\n",
       "      <th>unacc</th>\n",
       "      <th>vgood</th>\n",
       "    </tr>\n",
       "    <tr>\n",
       "      <th>outcome</th>\n",
       "      <th></th>\n",
       "      <th></th>\n",
       "      <th></th>\n",
       "      <th></th>\n",
       "    </tr>\n",
       "  </thead>\n",
       "  <tbody>\n",
       "    <tr>\n",
       "      <th>acc</th>\n",
       "      <td>77</td>\n",
       "      <td>0</td>\n",
       "      <td>0</td>\n",
       "      <td>0</td>\n",
       "    </tr>\n",
       "    <tr>\n",
       "      <th>good</th>\n",
       "      <td>0</td>\n",
       "      <td>19</td>\n",
       "      <td>0</td>\n",
       "      <td>0</td>\n",
       "    </tr>\n",
       "    <tr>\n",
       "      <th>unacc</th>\n",
       "      <td>0</td>\n",
       "      <td>0</td>\n",
       "      <td>237</td>\n",
       "      <td>0</td>\n",
       "    </tr>\n",
       "    <tr>\n",
       "      <th>vgood</th>\n",
       "      <td>0</td>\n",
       "      <td>0</td>\n",
       "      <td>0</td>\n",
       "      <td>13</td>\n",
       "    </tr>\n",
       "  </tbody>\n",
       "</table>\n",
       "</div>"
      ],
      "text/plain": [
       "col_0    acc  good  unacc  vgood\n",
       "outcome                         \n",
       "acc       77     0      0      0\n",
       "good       0    19      0      0\n",
       "unacc      0     0    237      0\n",
       "vgood      0     0      0     13"
      ]
     },
     "execution_count": 105,
     "metadata": {},
     "output_type": "execute_result"
    }
   ],
   "source": [
    "pd.crosstab(y_test, y_predict)"
   ]
  },
  {
   "cell_type": "code",
   "execution_count": 106,
   "id": "a26d1e7f",
   "metadata": {},
   "outputs": [
    {
     "name": "stdout",
     "output_type": "stream",
     "text": [
      "              precision    recall  f1-score   support\n",
      "\n",
      "         acc       1.00      1.00      1.00        77\n",
      "        good       1.00      1.00      1.00        19\n",
      "       unacc       1.00      1.00      1.00       237\n",
      "       vgood       1.00      1.00      1.00        13\n",
      "\n",
      "    accuracy                           1.00       346\n",
      "   macro avg       1.00      1.00      1.00       346\n",
      "weighted avg       1.00      1.00      1.00       346\n",
      "\n"
     ]
    }
   ],
   "source": [
    "print (classification_report(y_test, y_predict))"
   ]
  },
  {
   "cell_type": "markdown",
   "id": "8659d42a",
   "metadata": {},
   "source": [
    "# Hyperparameter Tuning"
   ]
  },
  {
   "cell_type": "code",
   "execution_count": 97,
   "id": "6c084761",
   "metadata": {},
   "outputs": [],
   "source": [
    "params = {\n",
    "    'kernel': ['rbf','linear'],\n",
    "    'C': [1,50,250,500,1000],\n",
    "    'gamma': [0.01, 0.1, 1.0, 5.0, 10.0]\n",
    "}"
   ]
  },
  {
   "cell_type": "code",
   "execution_count": null,
   "id": "f3218968",
   "metadata": {},
   "outputs": [
    {
     "name": "stdout",
     "output_type": "stream",
     "text": [
      "Fitting 5 folds for each of 50 candidates, totalling 250 fits\n",
      "[CV] END ........................C=1, gamma=0.01, kernel=rbf; total time=   0.0s\n",
      "[CV] END ........................C=1, gamma=0.01, kernel=rbf; total time=   0.0s\n",
      "[CV] END ........................C=1, gamma=0.01, kernel=rbf; total time=   0.0s\n",
      "[CV] END ........................C=1, gamma=0.01, kernel=rbf; total time=   0.0s\n",
      "[CV] END ........................C=1, gamma=0.01, kernel=rbf; total time=   0.0s\n",
      "[CV] END .....................C=1, gamma=0.01, kernel=linear; total time=   0.0s\n",
      "[CV] END .....................C=1, gamma=0.01, kernel=linear; total time=   0.0s\n",
      "[CV] END .....................C=1, gamma=0.01, kernel=linear; total time=   0.0s\n",
      "[CV] END .....................C=1, gamma=0.01, kernel=linear; total time=   0.0s\n",
      "[CV] END .....................C=1, gamma=0.01, kernel=linear; total time=   0.0s\n",
      "[CV] END .........................C=1, gamma=0.1, kernel=rbf; total time=   0.0s\n",
      "[CV] END .........................C=1, gamma=0.1, kernel=rbf; total time=   0.0s\n",
      "[CV] END .........................C=1, gamma=0.1, kernel=rbf; total time=   0.0s\n",
      "[CV] END .........................C=1, gamma=0.1, kernel=rbf; total time=   0.0s\n",
      "[CV] END .........................C=1, gamma=0.1, kernel=rbf; total time=   0.0s\n",
      "[CV] END ......................C=1, gamma=0.1, kernel=linear; total time=   0.0s\n",
      "[CV] END ......................C=1, gamma=0.1, kernel=linear; total time=   0.0s\n",
      "[CV] END ......................C=1, gamma=0.1, kernel=linear; total time=   0.0s\n",
      "[CV] END ......................C=1, gamma=0.1, kernel=linear; total time=   0.0s\n",
      "[CV] END ......................C=1, gamma=0.1, kernel=linear; total time=   0.0s\n",
      "[CV] END .........................C=1, gamma=1.0, kernel=rbf; total time=   0.1s\n",
      "[CV] END .........................C=1, gamma=1.0, kernel=rbf; total time=   0.1s\n",
      "[CV] END .........................C=1, gamma=1.0, kernel=rbf; total time=   0.1s\n",
      "[CV] END .........................C=1, gamma=1.0, kernel=rbf; total time=   0.1s\n",
      "[CV] END .........................C=1, gamma=1.0, kernel=rbf; total time=   0.1s\n",
      "[CV] END ......................C=1, gamma=1.0, kernel=linear; total time=   0.0s\n",
      "[CV] END ......................C=1, gamma=1.0, kernel=linear; total time=   0.0s\n",
      "[CV] END ......................C=1, gamma=1.0, kernel=linear; total time=   0.0s\n",
      "[CV] END ......................C=1, gamma=1.0, kernel=linear; total time=   0.0s\n",
      "[CV] END ......................C=1, gamma=1.0, kernel=linear; total time=   0.0s\n",
      "[CV] END .........................C=1, gamma=5.0, kernel=rbf; total time=   0.2s\n",
      "[CV] END .........................C=1, gamma=5.0, kernel=rbf; total time=   0.1s\n",
      "[CV] END .........................C=1, gamma=5.0, kernel=rbf; total time=   0.1s\n",
      "[CV] END .........................C=1, gamma=5.0, kernel=rbf; total time=   0.2s\n",
      "[CV] END .........................C=1, gamma=5.0, kernel=rbf; total time=   0.1s\n",
      "[CV] END ......................C=1, gamma=5.0, kernel=linear; total time=   0.0s\n",
      "[CV] END ......................C=1, gamma=5.0, kernel=linear; total time=   0.0s\n",
      "[CV] END ......................C=1, gamma=5.0, kernel=linear; total time=   0.0s\n",
      "[CV] END ......................C=1, gamma=5.0, kernel=linear; total time=   0.0s\n",
      "[CV] END ......................C=1, gamma=5.0, kernel=linear; total time=   0.0s\n",
      "[CV] END ........................C=1, gamma=10.0, kernel=rbf; total time=   0.1s\n",
      "[CV] END ........................C=1, gamma=10.0, kernel=rbf; total time=   0.1s\n",
      "[CV] END ........................C=1, gamma=10.0, kernel=rbf; total time=   0.1s\n",
      "[CV] END ........................C=1, gamma=10.0, kernel=rbf; total time=   0.1s\n",
      "[CV] END ........................C=1, gamma=10.0, kernel=rbf; total time=   0.1s\n",
      "[CV] END .....................C=1, gamma=10.0, kernel=linear; total time=   0.0s\n",
      "[CV] END .....................C=1, gamma=10.0, kernel=linear; total time=   0.0s\n",
      "[CV] END .....................C=1, gamma=10.0, kernel=linear; total time=   0.0s\n",
      "[CV] END .....................C=1, gamma=10.0, kernel=linear; total time=   0.0s\n",
      "[CV] END .....................C=1, gamma=10.0, kernel=linear; total time=   0.0s\n",
      "[CV] END .......................C=50, gamma=0.01, kernel=rbf; total time=   0.0s\n",
      "[CV] END .......................C=50, gamma=0.01, kernel=rbf; total time=   0.0s\n",
      "[CV] END .......................C=50, gamma=0.01, kernel=rbf; total time=   0.0s\n",
      "[CV] END .......................C=50, gamma=0.01, kernel=rbf; total time=   0.0s\n",
      "[CV] END .......................C=50, gamma=0.01, kernel=rbf; total time=   0.0s\n",
      "[CV] END ....................C=50, gamma=0.01, kernel=linear; total time=   0.0s\n",
      "[CV] END ....................C=50, gamma=0.01, kernel=linear; total time=   0.0s\n",
      "[CV] END ....................C=50, gamma=0.01, kernel=linear; total time=   0.1s\n",
      "[CV] END ....................C=50, gamma=0.01, kernel=linear; total time=   0.1s\n",
      "[CV] END ....................C=50, gamma=0.01, kernel=linear; total time=   0.1s\n",
      "[CV] END ........................C=50, gamma=0.1, kernel=rbf; total time=   0.0s\n",
      "[CV] END ........................C=50, gamma=0.1, kernel=rbf; total time=   0.0s\n",
      "[CV] END ........................C=50, gamma=0.1, kernel=rbf; total time=   0.0s\n",
      "[CV] END ........................C=50, gamma=0.1, kernel=rbf; total time=   0.0s\n",
      "[CV] END ........................C=50, gamma=0.1, kernel=rbf; total time=   0.0s\n",
      "[CV] END .....................C=50, gamma=0.1, kernel=linear; total time=   0.0s\n",
      "[CV] END .....................C=50, gamma=0.1, kernel=linear; total time=   0.0s\n",
      "[CV] END .....................C=50, gamma=0.1, kernel=linear; total time=   0.1s\n",
      "[CV] END .....................C=50, gamma=0.1, kernel=linear; total time=   0.1s\n",
      "[CV] END .....................C=50, gamma=0.1, kernel=linear; total time=   0.1s\n",
      "[CV] END ........................C=50, gamma=1.0, kernel=rbf; total time=   0.1s\n",
      "[CV] END ........................C=50, gamma=1.0, kernel=rbf; total time=   0.1s\n",
      "[CV] END ........................C=50, gamma=1.0, kernel=rbf; total time=   0.1s\n",
      "[CV] END ........................C=50, gamma=1.0, kernel=rbf; total time=   0.1s\n",
      "[CV] END ........................C=50, gamma=1.0, kernel=rbf; total time=   0.1s\n",
      "[CV] END .....................C=50, gamma=1.0, kernel=linear; total time=   0.1s\n",
      "[CV] END .....................C=50, gamma=1.0, kernel=linear; total time=   0.0s\n",
      "[CV] END .....................C=50, gamma=1.0, kernel=linear; total time=   0.0s\n",
      "[CV] END .....................C=50, gamma=1.0, kernel=linear; total time=   0.1s\n",
      "[CV] END .....................C=50, gamma=1.0, kernel=linear; total time=   0.1s\n",
      "[CV] END ........................C=50, gamma=5.0, kernel=rbf; total time=   0.1s\n",
      "[CV] END ........................C=50, gamma=5.0, kernel=rbf; total time=   0.1s\n",
      "[CV] END ........................C=50, gamma=5.0, kernel=rbf; total time=   0.1s\n",
      "[CV] END ........................C=50, gamma=5.0, kernel=rbf; total time=   0.1s\n",
      "[CV] END ........................C=50, gamma=5.0, kernel=rbf; total time=   0.1s\n",
      "[CV] END .....................C=50, gamma=5.0, kernel=linear; total time=   0.1s\n",
      "[CV] END .....................C=50, gamma=5.0, kernel=linear; total time=   0.1s\n",
      "[CV] END .....................C=50, gamma=5.0, kernel=linear; total time=   0.1s\n",
      "[CV] END .....................C=50, gamma=5.0, kernel=linear; total time=   0.1s\n",
      "[CV] END .....................C=50, gamma=5.0, kernel=linear; total time=   0.1s\n",
      "[CV] END .......................C=50, gamma=10.0, kernel=rbf; total time=   0.1s\n",
      "[CV] END .......................C=50, gamma=10.0, kernel=rbf; total time=   0.1s\n",
      "[CV] END .......................C=50, gamma=10.0, kernel=rbf; total time=   0.1s\n",
      "[CV] END .......................C=50, gamma=10.0, kernel=rbf; total time=   0.1s\n",
      "[CV] END .......................C=50, gamma=10.0, kernel=rbf; total time=   0.1s\n",
      "[CV] END ....................C=50, gamma=10.0, kernel=linear; total time=   0.1s\n",
      "[CV] END ....................C=50, gamma=10.0, kernel=linear; total time=   0.1s\n",
      "[CV] END ....................C=50, gamma=10.0, kernel=linear; total time=   0.1s\n",
      "[CV] END ....................C=50, gamma=10.0, kernel=linear; total time=   0.1s\n",
      "[CV] END ....................C=50, gamma=10.0, kernel=linear; total time=   0.1s\n",
      "[CV] END ......................C=250, gamma=0.01, kernel=rbf; total time=   0.0s\n",
      "[CV] END ......................C=250, gamma=0.01, kernel=rbf; total time=   0.0s\n",
      "[CV] END ......................C=250, gamma=0.01, kernel=rbf; total time=   0.0s\n",
      "[CV] END ......................C=250, gamma=0.01, kernel=rbf; total time=   0.0s\n"
     ]
    },
    {
     "name": "stdout",
     "output_type": "stream",
     "text": [
      "[CV] END ......................C=250, gamma=0.01, kernel=rbf; total time=   0.0s\n",
      "[CV] END ...................C=250, gamma=0.01, kernel=linear; total time=   0.5s\n",
      "[CV] END ...................C=250, gamma=0.01, kernel=linear; total time=   0.4s\n",
      "[CV] END ...................C=250, gamma=0.01, kernel=linear; total time=   0.4s\n",
      "[CV] END ...................C=250, gamma=0.01, kernel=linear; total time=   0.4s\n",
      "[CV] END ...................C=250, gamma=0.01, kernel=linear; total time=   0.4s\n",
      "[CV] END .......................C=250, gamma=0.1, kernel=rbf; total time=   0.0s\n",
      "[CV] END .......................C=250, gamma=0.1, kernel=rbf; total time=   0.0s\n",
      "[CV] END .......................C=250, gamma=0.1, kernel=rbf; total time=   0.0s\n",
      "[CV] END .......................C=250, gamma=0.1, kernel=rbf; total time=   0.0s\n",
      "[CV] END .......................C=250, gamma=0.1, kernel=rbf; total time=   0.0s\n",
      "[CV] END ....................C=250, gamma=0.1, kernel=linear; total time=   0.4s\n",
      "[CV] END ....................C=250, gamma=0.1, kernel=linear; total time=   0.4s\n",
      "[CV] END ....................C=250, gamma=0.1, kernel=linear; total time=   0.4s\n",
      "[CV] END ....................C=250, gamma=0.1, kernel=linear; total time=   0.4s\n",
      "[CV] END ....................C=250, gamma=0.1, kernel=linear; total time=   0.4s\n",
      "[CV] END .......................C=250, gamma=1.0, kernel=rbf; total time=   0.1s\n",
      "[CV] END .......................C=250, gamma=1.0, kernel=rbf; total time=   0.1s\n",
      "[CV] END .......................C=250, gamma=1.0, kernel=rbf; total time=   0.1s\n",
      "[CV] END .......................C=250, gamma=1.0, kernel=rbf; total time=   0.1s\n",
      "[CV] END .......................C=250, gamma=1.0, kernel=rbf; total time=   0.1s\n",
      "[CV] END ....................C=250, gamma=1.0, kernel=linear; total time=   0.4s\n",
      "[CV] END ....................C=250, gamma=1.0, kernel=linear; total time=   0.4s\n",
      "[CV] END ....................C=250, gamma=1.0, kernel=linear; total time=   0.4s\n",
      "[CV] END ....................C=250, gamma=1.0, kernel=linear; total time=   0.4s\n",
      "[CV] END ....................C=250, gamma=1.0, kernel=linear; total time=   0.4s\n",
      "[CV] END .......................C=250, gamma=5.0, kernel=rbf; total time=   0.1s\n",
      "[CV] END .......................C=250, gamma=5.0, kernel=rbf; total time=   0.1s\n",
      "[CV] END .......................C=250, gamma=5.0, kernel=rbf; total time=   0.1s\n",
      "[CV] END .......................C=250, gamma=5.0, kernel=rbf; total time=   0.1s\n",
      "[CV] END .......................C=250, gamma=5.0, kernel=rbf; total time=   0.1s\n",
      "[CV] END ....................C=250, gamma=5.0, kernel=linear; total time=   0.4s\n",
      "[CV] END ....................C=250, gamma=5.0, kernel=linear; total time=   0.4s\n",
      "[CV] END ....................C=250, gamma=5.0, kernel=linear; total time=   0.4s\n",
      "[CV] END ....................C=250, gamma=5.0, kernel=linear; total time=   0.4s\n",
      "[CV] END ....................C=250, gamma=5.0, kernel=linear; total time=   0.4s\n",
      "[CV] END ......................C=250, gamma=10.0, kernel=rbf; total time=   0.1s\n",
      "[CV] END ......................C=250, gamma=10.0, kernel=rbf; total time=   0.1s\n",
      "[CV] END ......................C=250, gamma=10.0, kernel=rbf; total time=   0.1s\n",
      "[CV] END ......................C=250, gamma=10.0, kernel=rbf; total time=   0.1s\n",
      "[CV] END ......................C=250, gamma=10.0, kernel=rbf; total time=   0.1s\n",
      "[CV] END ...................C=250, gamma=10.0, kernel=linear; total time=   0.4s\n",
      "[CV] END ...................C=250, gamma=10.0, kernel=linear; total time=   0.5s\n",
      "[CV] END ...................C=250, gamma=10.0, kernel=linear; total time=   0.4s\n",
      "[CV] END ...................C=250, gamma=10.0, kernel=linear; total time=   0.4s\n",
      "[CV] END ...................C=250, gamma=10.0, kernel=linear; total time=   0.4s\n",
      "[CV] END ......................C=500, gamma=0.01, kernel=rbf; total time=   0.0s\n",
      "[CV] END ......................C=500, gamma=0.01, kernel=rbf; total time=   0.0s\n",
      "[CV] END ......................C=500, gamma=0.01, kernel=rbf; total time=   0.0s\n",
      "[CV] END ......................C=500, gamma=0.01, kernel=rbf; total time=   0.0s\n",
      "[CV] END ......................C=500, gamma=0.01, kernel=rbf; total time=   0.0s\n",
      "[CV] END ...................C=500, gamma=0.01, kernel=linear; total time=   0.7s\n",
      "[CV] END ...................C=500, gamma=0.01, kernel=linear; total time=   0.8s\n",
      "[CV] END ...................C=500, gamma=0.01, kernel=linear; total time=   0.8s\n",
      "[CV] END ...................C=500, gamma=0.01, kernel=linear; total time=   0.8s\n",
      "[CV] END ...................C=500, gamma=0.01, kernel=linear; total time=   0.9s\n",
      "[CV] END .......................C=500, gamma=0.1, kernel=rbf; total time=   0.0s\n",
      "[CV] END .......................C=500, gamma=0.1, kernel=rbf; total time=   0.0s\n",
      "[CV] END .......................C=500, gamma=0.1, kernel=rbf; total time=   0.0s\n",
      "[CV] END .......................C=500, gamma=0.1, kernel=rbf; total time=   0.0s\n",
      "[CV] END .......................C=500, gamma=0.1, kernel=rbf; total time=   0.0s\n",
      "[CV] END ....................C=500, gamma=0.1, kernel=linear; total time=   0.7s\n",
      "[CV] END ....................C=500, gamma=0.1, kernel=linear; total time=   0.8s\n",
      "[CV] END ....................C=500, gamma=0.1, kernel=linear; total time=   0.9s\n",
      "[CV] END ....................C=500, gamma=0.1, kernel=linear; total time=   1.3s\n",
      "[CV] END ....................C=500, gamma=0.1, kernel=linear; total time=   1.6s\n",
      "[CV] END .......................C=500, gamma=1.0, kernel=rbf; total time=   0.2s\n",
      "[CV] END .......................C=500, gamma=1.0, kernel=rbf; total time=   0.2s\n",
      "[CV] END .......................C=500, gamma=1.0, kernel=rbf; total time=   0.2s\n",
      "[CV] END .......................C=500, gamma=1.0, kernel=rbf; total time=   0.2s\n",
      "[CV] END .......................C=500, gamma=1.0, kernel=rbf; total time=   0.4s\n",
      "[CV] END ....................C=500, gamma=1.0, kernel=linear; total time=   1.7s\n",
      "[CV] END ....................C=500, gamma=1.0, kernel=linear; total time=   2.2s\n",
      "[CV] END ....................C=500, gamma=1.0, kernel=linear; total time=   2.2s\n",
      "[CV] END ....................C=500, gamma=1.0, kernel=linear; total time=   1.6s\n",
      "[CV] END ....................C=500, gamma=1.0, kernel=linear; total time=   1.9s\n",
      "[CV] END .......................C=500, gamma=5.0, kernel=rbf; total time=   0.3s\n",
      "[CV] END .......................C=500, gamma=5.0, kernel=rbf; total time=   0.2s\n",
      "[CV] END .......................C=500, gamma=5.0, kernel=rbf; total time=   0.1s\n",
      "[CV] END .......................C=500, gamma=5.0, kernel=rbf; total time=   0.2s\n",
      "[CV] END .......................C=500, gamma=5.0, kernel=rbf; total time=   0.2s\n",
      "[CV] END ....................C=500, gamma=5.0, kernel=linear; total time=   1.1s\n"
     ]
    }
   ],
   "source": [
    "from sklearn.model_selection import GridSearchCV\n",
    "cls = GridSearchCV(SVC(), param_grid=params, verbose=2)\n",
    "cls.fit(X_train, y_train)"
   ]
  },
  {
   "cell_type": "code",
   "execution_count": 99,
   "id": "9304878a",
   "metadata": {},
   "outputs": [
    {
     "data": {
      "text/plain": [
       "0.9833437974153718"
      ]
     },
     "execution_count": 99,
     "metadata": {},
     "output_type": "execute_result"
    }
   ],
   "source": [
    "cls.best_score_"
   ]
  },
  {
   "cell_type": "code",
   "execution_count": 100,
   "id": "63705757",
   "metadata": {},
   "outputs": [
    {
     "data": {
      "text/plain": [
       "{'C': 250, 'gamma': 0.1, 'kernel': 'rbf'}"
      ]
     },
     "execution_count": 100,
     "metadata": {},
     "output_type": "execute_result"
    }
   ],
   "source": [
    "cls.best_params_"
   ]
  },
  {
   "cell_type": "code",
   "execution_count": null,
   "id": "f156767b",
   "metadata": {},
   "outputs": [],
   "source": []
  }
 ],
 "metadata": {
  "kernelspec": {
   "display_name": "Python 3",
   "language": "python",
   "name": "python3"
  },
  "language_info": {
   "codemirror_mode": {
    "name": "ipython",
    "version": 3
   },
   "file_extension": ".py",
   "mimetype": "text/x-python",
   "name": "python",
   "nbconvert_exporter": "python",
   "pygments_lexer": "ipython3",
   "version": "3.8.8"
  }
 },
 "nbformat": 4,
 "nbformat_minor": 5
}
