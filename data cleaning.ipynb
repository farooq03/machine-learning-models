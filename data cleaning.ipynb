{
 "cells": [
  {
   "cell_type": "markdown",
   "id": "68577a92",
   "metadata": {},
   "source": [
    "# import libraries"
   ]
  },
  {
   "cell_type": "code",
   "execution_count": 4,
   "id": "be4cf5da",
   "metadata": {},
   "outputs": [],
   "source": [
    "import numpy as np\n",
    "import pandas as pd\n",
    "import matplotlib.pyplot as plt\n",
    "import seaborn as sns\n",
    "from scipy import stats"
   ]
  },
  {
   "cell_type": "markdown",
   "id": "c43ea0cd",
   "metadata": {},
   "source": [
    "# import file"
   ]
  },
  {
   "cell_type": "code",
   "execution_count": 3,
   "id": "94d4abba",
   "metadata": {},
   "outputs": [
    {
     "name": "stderr",
     "output_type": "stream",
     "text": [
      "C:\\Users\\SA\\anaconda3\\lib\\site-packages\\IPython\\core\\interactiveshell.py:3165: DtypeWarning: Columns (42,166,167,168,169,174,175,178,179,182,183,188,189,190,191,194,195,203,204,205,218,219,220,231,232,233,238,240,241,249) have mixed types.Specify dtype option on import or set low_memory=False.\n",
      "  has_raised = await self.run_ast_nodes(code_ast.body, cell_name,\n"
     ]
    }
   ],
   "source": [
    "df=pd.read_csv('Datasets/NFL Play by Play 2009-2018 (v5).csv')"
   ]
  },
  {
   "cell_type": "code",
   "execution_count": 4,
   "id": "54e03bec",
   "metadata": {},
   "outputs": [
    {
     "data": {
      "text/html": [
       "<div>\n",
       "<style scoped>\n",
       "    .dataframe tbody tr th:only-of-type {\n",
       "        vertical-align: middle;\n",
       "    }\n",
       "\n",
       "    .dataframe tbody tr th {\n",
       "        vertical-align: top;\n",
       "    }\n",
       "\n",
       "    .dataframe thead th {\n",
       "        text-align: right;\n",
       "    }\n",
       "</style>\n",
       "<table border=\"1\" class=\"dataframe\">\n",
       "  <thead>\n",
       "    <tr style=\"text-align: right;\">\n",
       "      <th></th>\n",
       "      <th>play_id</th>\n",
       "      <th>game_id</th>\n",
       "      <th>home_team</th>\n",
       "      <th>away_team</th>\n",
       "      <th>posteam</th>\n",
       "      <th>posteam_type</th>\n",
       "      <th>defteam</th>\n",
       "      <th>side_of_field</th>\n",
       "      <th>yardline_100</th>\n",
       "      <th>game_date</th>\n",
       "      <th>...</th>\n",
       "      <th>penalty_player_id</th>\n",
       "      <th>penalty_player_name</th>\n",
       "      <th>penalty_yards</th>\n",
       "      <th>replay_or_challenge</th>\n",
       "      <th>replay_or_challenge_result</th>\n",
       "      <th>penalty_type</th>\n",
       "      <th>defensive_two_point_attempt</th>\n",
       "      <th>defensive_two_point_conv</th>\n",
       "      <th>defensive_extra_point_attempt</th>\n",
       "      <th>defensive_extra_point_conv</th>\n",
       "    </tr>\n",
       "  </thead>\n",
       "  <tbody>\n",
       "    <tr>\n",
       "      <th>0</th>\n",
       "      <td>46</td>\n",
       "      <td>2009091000</td>\n",
       "      <td>PIT</td>\n",
       "      <td>TEN</td>\n",
       "      <td>PIT</td>\n",
       "      <td>home</td>\n",
       "      <td>TEN</td>\n",
       "      <td>TEN</td>\n",
       "      <td>30.0</td>\n",
       "      <td>2009-09-10</td>\n",
       "      <td>...</td>\n",
       "      <td>NaN</td>\n",
       "      <td>NaN</td>\n",
       "      <td>NaN</td>\n",
       "      <td>0</td>\n",
       "      <td>NaN</td>\n",
       "      <td>NaN</td>\n",
       "      <td>0.0</td>\n",
       "      <td>0.0</td>\n",
       "      <td>0.0</td>\n",
       "      <td>0.0</td>\n",
       "    </tr>\n",
       "    <tr>\n",
       "      <th>1</th>\n",
       "      <td>68</td>\n",
       "      <td>2009091000</td>\n",
       "      <td>PIT</td>\n",
       "      <td>TEN</td>\n",
       "      <td>PIT</td>\n",
       "      <td>home</td>\n",
       "      <td>TEN</td>\n",
       "      <td>PIT</td>\n",
       "      <td>58.0</td>\n",
       "      <td>2009-09-10</td>\n",
       "      <td>...</td>\n",
       "      <td>NaN</td>\n",
       "      <td>NaN</td>\n",
       "      <td>NaN</td>\n",
       "      <td>0</td>\n",
       "      <td>NaN</td>\n",
       "      <td>NaN</td>\n",
       "      <td>0.0</td>\n",
       "      <td>0.0</td>\n",
       "      <td>0.0</td>\n",
       "      <td>0.0</td>\n",
       "    </tr>\n",
       "    <tr>\n",
       "      <th>2</th>\n",
       "      <td>92</td>\n",
       "      <td>2009091000</td>\n",
       "      <td>PIT</td>\n",
       "      <td>TEN</td>\n",
       "      <td>PIT</td>\n",
       "      <td>home</td>\n",
       "      <td>TEN</td>\n",
       "      <td>PIT</td>\n",
       "      <td>53.0</td>\n",
       "      <td>2009-09-10</td>\n",
       "      <td>...</td>\n",
       "      <td>NaN</td>\n",
       "      <td>NaN</td>\n",
       "      <td>NaN</td>\n",
       "      <td>0</td>\n",
       "      <td>NaN</td>\n",
       "      <td>NaN</td>\n",
       "      <td>0.0</td>\n",
       "      <td>0.0</td>\n",
       "      <td>0.0</td>\n",
       "      <td>0.0</td>\n",
       "    </tr>\n",
       "    <tr>\n",
       "      <th>3</th>\n",
       "      <td>113</td>\n",
       "      <td>2009091000</td>\n",
       "      <td>PIT</td>\n",
       "      <td>TEN</td>\n",
       "      <td>PIT</td>\n",
       "      <td>home</td>\n",
       "      <td>TEN</td>\n",
       "      <td>PIT</td>\n",
       "      <td>56.0</td>\n",
       "      <td>2009-09-10</td>\n",
       "      <td>...</td>\n",
       "      <td>NaN</td>\n",
       "      <td>NaN</td>\n",
       "      <td>NaN</td>\n",
       "      <td>0</td>\n",
       "      <td>NaN</td>\n",
       "      <td>NaN</td>\n",
       "      <td>0.0</td>\n",
       "      <td>0.0</td>\n",
       "      <td>0.0</td>\n",
       "      <td>0.0</td>\n",
       "    </tr>\n",
       "    <tr>\n",
       "      <th>4</th>\n",
       "      <td>139</td>\n",
       "      <td>2009091000</td>\n",
       "      <td>PIT</td>\n",
       "      <td>TEN</td>\n",
       "      <td>PIT</td>\n",
       "      <td>home</td>\n",
       "      <td>TEN</td>\n",
       "      <td>PIT</td>\n",
       "      <td>56.0</td>\n",
       "      <td>2009-09-10</td>\n",
       "      <td>...</td>\n",
       "      <td>NaN</td>\n",
       "      <td>NaN</td>\n",
       "      <td>NaN</td>\n",
       "      <td>0</td>\n",
       "      <td>NaN</td>\n",
       "      <td>NaN</td>\n",
       "      <td>0.0</td>\n",
       "      <td>0.0</td>\n",
       "      <td>0.0</td>\n",
       "      <td>0.0</td>\n",
       "    </tr>\n",
       "  </tbody>\n",
       "</table>\n",
       "<p>5 rows × 255 columns</p>\n",
       "</div>"
      ],
      "text/plain": [
       "   play_id     game_id home_team away_team posteam posteam_type defteam  \\\n",
       "0       46  2009091000       PIT       TEN     PIT         home     TEN   \n",
       "1       68  2009091000       PIT       TEN     PIT         home     TEN   \n",
       "2       92  2009091000       PIT       TEN     PIT         home     TEN   \n",
       "3      113  2009091000       PIT       TEN     PIT         home     TEN   \n",
       "4      139  2009091000       PIT       TEN     PIT         home     TEN   \n",
       "\n",
       "  side_of_field  yardline_100   game_date  ...  penalty_player_id  \\\n",
       "0           TEN          30.0  2009-09-10  ...                NaN   \n",
       "1           PIT          58.0  2009-09-10  ...                NaN   \n",
       "2           PIT          53.0  2009-09-10  ...                NaN   \n",
       "3           PIT          56.0  2009-09-10  ...                NaN   \n",
       "4           PIT          56.0  2009-09-10  ...                NaN   \n",
       "\n",
       "   penalty_player_name  penalty_yards replay_or_challenge  \\\n",
       "0                  NaN            NaN                   0   \n",
       "1                  NaN            NaN                   0   \n",
       "2                  NaN            NaN                   0   \n",
       "3                  NaN            NaN                   0   \n",
       "4                  NaN            NaN                   0   \n",
       "\n",
       "   replay_or_challenge_result  penalty_type  defensive_two_point_attempt  \\\n",
       "0                         NaN           NaN                          0.0   \n",
       "1                         NaN           NaN                          0.0   \n",
       "2                         NaN           NaN                          0.0   \n",
       "3                         NaN           NaN                          0.0   \n",
       "4                         NaN           NaN                          0.0   \n",
       "\n",
       "   defensive_two_point_conv  defensive_extra_point_attempt  \\\n",
       "0                       0.0                            0.0   \n",
       "1                       0.0                            0.0   \n",
       "2                       0.0                            0.0   \n",
       "3                       0.0                            0.0   \n",
       "4                       0.0                            0.0   \n",
       "\n",
       "   defensive_extra_point_conv  \n",
       "0                         0.0  \n",
       "1                         0.0  \n",
       "2                         0.0  \n",
       "3                         0.0  \n",
       "4                         0.0  \n",
       "\n",
       "[5 rows x 255 columns]"
      ]
     },
     "execution_count": 4,
     "metadata": {},
     "output_type": "execute_result"
    }
   ],
   "source": [
    "df.head()"
   ]
  },
  {
   "cell_type": "markdown",
   "id": "ed25ee80",
   "metadata": {},
   "source": [
    "# analyze missing values"
   ]
  },
  {
   "cell_type": "code",
   "execution_count": 5,
   "id": "1001dc98",
   "metadata": {},
   "outputs": [],
   "source": [
    "missing_value=df.isnull().sum()"
   ]
  },
  {
   "cell_type": "code",
   "execution_count": 6,
   "id": "9ae5ee07",
   "metadata": {},
   "outputs": [
    {
     "data": {
      "text/plain": [
       "play_id                               0\n",
       "game_id                               0\n",
       "home_team                             0\n",
       "away_team                             0\n",
       "posteam                           13242\n",
       "                                  ...  \n",
       "penalty_type                     418232\n",
       "defensive_two_point_attempt       12874\n",
       "defensive_two_point_conv          12874\n",
       "defensive_extra_point_attempt     12874\n",
       "defensive_extra_point_conv        12874\n",
       "Length: 255, dtype: int64"
      ]
     },
     "execution_count": 6,
     "metadata": {},
     "output_type": "execute_result"
    }
   ],
   "source": [
    "missing_value"
   ]
  },
  {
   "cell_type": "code",
   "execution_count": 7,
   "id": "2ceb7350",
   "metadata": {},
   "outputs": [],
   "source": [
    "total_missing_values=missing_value.sum()"
   ]
  },
  {
   "cell_type": "code",
   "execution_count": 8,
   "id": "931f5966",
   "metadata": {},
   "outputs": [
    {
     "data": {
      "text/plain": [
       "44121484"
      ]
     },
     "execution_count": 8,
     "metadata": {},
     "output_type": "execute_result"
    }
   ],
   "source": [
    "total_missing_values"
   ]
  },
  {
   "cell_type": "markdown",
   "id": "e3894c6c",
   "metadata": {},
   "source": [
    "# percentage of missing values"
   ]
  },
  {
   "cell_type": "code",
   "execution_count": 9,
   "id": "d4995e07",
   "metadata": {},
   "outputs": [
    {
     "data": {
      "text/plain": [
       "(449371, 255)"
      ]
     },
     "execution_count": 9,
     "metadata": {},
     "output_type": "execute_result"
    }
   ],
   "source": [
    "df.shape"
   ]
  },
  {
   "cell_type": "code",
   "execution_count": 10,
   "id": "f695ad6b",
   "metadata": {},
   "outputs": [],
   "source": [
    "total_cells=np.product(df.shape)"
   ]
  },
  {
   "cell_type": "code",
   "execution_count": 11,
   "id": "2bbe7cde",
   "metadata": {},
   "outputs": [
    {
     "data": {
      "text/plain": [
       "114589605"
      ]
     },
     "execution_count": 11,
     "metadata": {},
     "output_type": "execute_result"
    }
   ],
   "source": [
    "total_cells"
   ]
  },
  {
   "cell_type": "code",
   "execution_count": 12,
   "id": "329fd290",
   "metadata": {},
   "outputs": [],
   "source": [
    "percentage_missing_values=total_missing_values/total_cells*100"
   ]
  },
  {
   "cell_type": "code",
   "execution_count": 13,
   "id": "d6bdebe2",
   "metadata": {},
   "outputs": [
    {
     "data": {
      "text/plain": [
       "38.50391490571942"
      ]
     },
     "execution_count": 13,
     "metadata": {},
     "output_type": "execute_result"
    }
   ],
   "source": [
    "percentage_missing_values"
   ]
  },
  {
   "cell_type": "markdown",
   "id": "5f08b970",
   "metadata": {},
   "source": [
    "# drop missing values in row"
   ]
  },
  {
   "cell_type": "code",
   "execution_count": 14,
   "id": "c67aa4cb",
   "metadata": {},
   "outputs": [],
   "source": [
    "drop_missing_values_in_row=df.dropna(axis=0)"
   ]
  },
  {
   "cell_type": "code",
   "execution_count": 15,
   "id": "8384142d",
   "metadata": {},
   "outputs": [
    {
     "data": {
      "text/html": [
       "<div>\n",
       "<style scoped>\n",
       "    .dataframe tbody tr th:only-of-type {\n",
       "        vertical-align: middle;\n",
       "    }\n",
       "\n",
       "    .dataframe tbody tr th {\n",
       "        vertical-align: top;\n",
       "    }\n",
       "\n",
       "    .dataframe thead th {\n",
       "        text-align: right;\n",
       "    }\n",
       "</style>\n",
       "<table border=\"1\" class=\"dataframe\">\n",
       "  <thead>\n",
       "    <tr style=\"text-align: right;\">\n",
       "      <th></th>\n",
       "      <th>play_id</th>\n",
       "      <th>game_id</th>\n",
       "      <th>home_team</th>\n",
       "      <th>away_team</th>\n",
       "      <th>posteam</th>\n",
       "      <th>posteam_type</th>\n",
       "      <th>defteam</th>\n",
       "      <th>side_of_field</th>\n",
       "      <th>yardline_100</th>\n",
       "      <th>game_date</th>\n",
       "      <th>...</th>\n",
       "      <th>penalty_player_id</th>\n",
       "      <th>penalty_player_name</th>\n",
       "      <th>penalty_yards</th>\n",
       "      <th>replay_or_challenge</th>\n",
       "      <th>replay_or_challenge_result</th>\n",
       "      <th>penalty_type</th>\n",
       "      <th>defensive_two_point_attempt</th>\n",
       "      <th>defensive_two_point_conv</th>\n",
       "      <th>defensive_extra_point_attempt</th>\n",
       "      <th>defensive_extra_point_conv</th>\n",
       "    </tr>\n",
       "  </thead>\n",
       "  <tbody>\n",
       "  </tbody>\n",
       "</table>\n",
       "<p>0 rows × 255 columns</p>\n",
       "</div>"
      ],
      "text/plain": [
       "Empty DataFrame\n",
       "Columns: [play_id, game_id, home_team, away_team, posteam, posteam_type, defteam, side_of_field, yardline_100, game_date, quarter_seconds_remaining, half_seconds_remaining, game_seconds_remaining, game_half, quarter_end, drive, sp, qtr, down, goal_to_go, time, yrdln, ydstogo, ydsnet, desc, play_type, yards_gained, shotgun, no_huddle, qb_dropback, qb_kneel, qb_spike, qb_scramble, pass_length, pass_location, air_yards, yards_after_catch, run_location, run_gap, field_goal_result, kick_distance, extra_point_result, two_point_conv_result, home_timeouts_remaining, away_timeouts_remaining, timeout, timeout_team, td_team, posteam_timeouts_remaining, defteam_timeouts_remaining, total_home_score, total_away_score, posteam_score, defteam_score, score_differential, posteam_score_post, defteam_score_post, score_differential_post, no_score_prob, opp_fg_prob, opp_safety_prob, opp_td_prob, fg_prob, safety_prob, td_prob, extra_point_prob, two_point_conversion_prob, ep, epa, total_home_epa, total_away_epa, total_home_rush_epa, total_away_rush_epa, total_home_pass_epa, total_away_pass_epa, air_epa, yac_epa, comp_air_epa, comp_yac_epa, total_home_comp_air_epa, total_away_comp_air_epa, total_home_comp_yac_epa, total_away_comp_yac_epa, total_home_raw_air_epa, total_away_raw_air_epa, total_home_raw_yac_epa, total_away_raw_yac_epa, wp, def_wp, home_wp, away_wp, wpa, home_wp_post, away_wp_post, total_home_rush_wpa, total_away_rush_wpa, total_home_pass_wpa, total_away_pass_wpa, air_wpa, yac_wpa, ...]\n",
       "Index: []\n",
       "\n",
       "[0 rows x 255 columns]"
      ]
     },
     "execution_count": 15,
     "metadata": {},
     "output_type": "execute_result"
    }
   ],
   "source": [
    "drop_missing_values_in_row"
   ]
  },
  {
   "cell_type": "markdown",
   "id": "ff5a74b8",
   "metadata": {},
   "source": [
    "# drop missing values in cols"
   ]
  },
  {
   "cell_type": "code",
   "execution_count": 16,
   "id": "d4493964",
   "metadata": {},
   "outputs": [],
   "source": [
    "drop_missing_val_col=df.dropna(axis=1)"
   ]
  },
  {
   "cell_type": "code",
   "execution_count": 17,
   "id": "142e0f12",
   "metadata": {},
   "outputs": [
    {
     "data": {
      "text/html": [
       "<div>\n",
       "<style scoped>\n",
       "    .dataframe tbody tr th:only-of-type {\n",
       "        vertical-align: middle;\n",
       "    }\n",
       "\n",
       "    .dataframe tbody tr th {\n",
       "        vertical-align: top;\n",
       "    }\n",
       "\n",
       "    .dataframe thead th {\n",
       "        text-align: right;\n",
       "    }\n",
       "</style>\n",
       "<table border=\"1\" class=\"dataframe\">\n",
       "  <thead>\n",
       "    <tr style=\"text-align: right;\">\n",
       "      <th></th>\n",
       "      <th>play_id</th>\n",
       "      <th>game_id</th>\n",
       "      <th>home_team</th>\n",
       "      <th>away_team</th>\n",
       "      <th>game_date</th>\n",
       "      <th>game_half</th>\n",
       "      <th>quarter_end</th>\n",
       "      <th>drive</th>\n",
       "      <th>sp</th>\n",
       "      <th>qtr</th>\n",
       "      <th>...</th>\n",
       "      <th>total_away_pass_wpa</th>\n",
       "      <th>total_home_comp_air_wpa</th>\n",
       "      <th>total_away_comp_air_wpa</th>\n",
       "      <th>total_home_comp_yac_wpa</th>\n",
       "      <th>total_away_comp_yac_wpa</th>\n",
       "      <th>total_home_raw_air_wpa</th>\n",
       "      <th>total_away_raw_air_wpa</th>\n",
       "      <th>total_home_raw_yac_wpa</th>\n",
       "      <th>total_away_raw_yac_wpa</th>\n",
       "      <th>replay_or_challenge</th>\n",
       "    </tr>\n",
       "  </thead>\n",
       "  <tbody>\n",
       "    <tr>\n",
       "      <th>0</th>\n",
       "      <td>46</td>\n",
       "      <td>2009091000</td>\n",
       "      <td>PIT</td>\n",
       "      <td>TEN</td>\n",
       "      <td>2009-09-10</td>\n",
       "      <td>Half1</td>\n",
       "      <td>0</td>\n",
       "      <td>1</td>\n",
       "      <td>0</td>\n",
       "      <td>1</td>\n",
       "      <td>...</td>\n",
       "      <td>0.000000</td>\n",
       "      <td>0.000000</td>\n",
       "      <td>0.000000</td>\n",
       "      <td>0.000000</td>\n",
       "      <td>0.000000</td>\n",
       "      <td>0.000000</td>\n",
       "      <td>0.000000</td>\n",
       "      <td>0.000000</td>\n",
       "      <td>0.000000</td>\n",
       "      <td>0</td>\n",
       "    </tr>\n",
       "    <tr>\n",
       "      <th>1</th>\n",
       "      <td>68</td>\n",
       "      <td>2009091000</td>\n",
       "      <td>PIT</td>\n",
       "      <td>TEN</td>\n",
       "      <td>2009-09-10</td>\n",
       "      <td>Half1</td>\n",
       "      <td>0</td>\n",
       "      <td>1</td>\n",
       "      <td>0</td>\n",
       "      <td>1</td>\n",
       "      <td>...</td>\n",
       "      <td>-0.004655</td>\n",
       "      <td>-0.028383</td>\n",
       "      <td>0.028383</td>\n",
       "      <td>0.033038</td>\n",
       "      <td>-0.033038</td>\n",
       "      <td>-0.028383</td>\n",
       "      <td>0.028383</td>\n",
       "      <td>0.033038</td>\n",
       "      <td>-0.033038</td>\n",
       "      <td>0</td>\n",
       "    </tr>\n",
       "    <tr>\n",
       "      <th>2</th>\n",
       "      <td>92</td>\n",
       "      <td>2009091000</td>\n",
       "      <td>PIT</td>\n",
       "      <td>TEN</td>\n",
       "      <td>2009-09-10</td>\n",
       "      <td>Half1</td>\n",
       "      <td>0</td>\n",
       "      <td>1</td>\n",
       "      <td>0</td>\n",
       "      <td>1</td>\n",
       "      <td>...</td>\n",
       "      <td>-0.004655</td>\n",
       "      <td>-0.028383</td>\n",
       "      <td>0.028383</td>\n",
       "      <td>0.033038</td>\n",
       "      <td>-0.033038</td>\n",
       "      <td>-0.028383</td>\n",
       "      <td>0.028383</td>\n",
       "      <td>0.033038</td>\n",
       "      <td>-0.033038</td>\n",
       "      <td>0</td>\n",
       "    </tr>\n",
       "    <tr>\n",
       "      <th>3</th>\n",
       "      <td>113</td>\n",
       "      <td>2009091000</td>\n",
       "      <td>PIT</td>\n",
       "      <td>TEN</td>\n",
       "      <td>2009-09-10</td>\n",
       "      <td>Half1</td>\n",
       "      <td>0</td>\n",
       "      <td>1</td>\n",
       "      <td>0</td>\n",
       "      <td>1</td>\n",
       "      <td>...</td>\n",
       "      <td>0.044921</td>\n",
       "      <td>-0.028383</td>\n",
       "      <td>0.028383</td>\n",
       "      <td>0.033038</td>\n",
       "      <td>-0.033038</td>\n",
       "      <td>0.081542</td>\n",
       "      <td>-0.081542</td>\n",
       "      <td>-0.126463</td>\n",
       "      <td>0.126463</td>\n",
       "      <td>0</td>\n",
       "    </tr>\n",
       "    <tr>\n",
       "      <th>4</th>\n",
       "      <td>139</td>\n",
       "      <td>2009091000</td>\n",
       "      <td>PIT</td>\n",
       "      <td>TEN</td>\n",
       "      <td>2009-09-10</td>\n",
       "      <td>Half1</td>\n",
       "      <td>0</td>\n",
       "      <td>1</td>\n",
       "      <td>0</td>\n",
       "      <td>1</td>\n",
       "      <td>...</td>\n",
       "      <td>0.044921</td>\n",
       "      <td>-0.028383</td>\n",
       "      <td>0.028383</td>\n",
       "      <td>0.033038</td>\n",
       "      <td>-0.033038</td>\n",
       "      <td>0.081542</td>\n",
       "      <td>-0.081542</td>\n",
       "      <td>-0.126463</td>\n",
       "      <td>0.126463</td>\n",
       "      <td>0</td>\n",
       "    </tr>\n",
       "    <tr>\n",
       "      <th>...</th>\n",
       "      <td>...</td>\n",
       "      <td>...</td>\n",
       "      <td>...</td>\n",
       "      <td>...</td>\n",
       "      <td>...</td>\n",
       "      <td>...</td>\n",
       "      <td>...</td>\n",
       "      <td>...</td>\n",
       "      <td>...</td>\n",
       "      <td>...</td>\n",
       "      <td>...</td>\n",
       "      <td>...</td>\n",
       "      <td>...</td>\n",
       "      <td>...</td>\n",
       "      <td>...</td>\n",
       "      <td>...</td>\n",
       "      <td>...</td>\n",
       "      <td>...</td>\n",
       "      <td>...</td>\n",
       "      <td>...</td>\n",
       "      <td>...</td>\n",
       "    </tr>\n",
       "    <tr>\n",
       "      <th>449366</th>\n",
       "      <td>4059</td>\n",
       "      <td>2018121700</td>\n",
       "      <td>CAR</td>\n",
       "      <td>NO</td>\n",
       "      <td>2018-12-17</td>\n",
       "      <td>Half2</td>\n",
       "      <td>0</td>\n",
       "      <td>20</td>\n",
       "      <td>0</td>\n",
       "      <td>4</td>\n",
       "      <td>...</td>\n",
       "      <td>-0.002008</td>\n",
       "      <td>0.160273</td>\n",
       "      <td>-0.160273</td>\n",
       "      <td>-0.031557</td>\n",
       "      <td>0.031557</td>\n",
       "      <td>0.166989</td>\n",
       "      <td>-0.166989</td>\n",
       "      <td>-0.076056</td>\n",
       "      <td>0.076056</td>\n",
       "      <td>0</td>\n",
       "    </tr>\n",
       "    <tr>\n",
       "      <th>449367</th>\n",
       "      <td>4081</td>\n",
       "      <td>2018121700</td>\n",
       "      <td>CAR</td>\n",
       "      <td>NO</td>\n",
       "      <td>2018-12-17</td>\n",
       "      <td>Half2</td>\n",
       "      <td>0</td>\n",
       "      <td>20</td>\n",
       "      <td>0</td>\n",
       "      <td>4</td>\n",
       "      <td>...</td>\n",
       "      <td>0.040273</td>\n",
       "      <td>0.136973</td>\n",
       "      <td>-0.136973</td>\n",
       "      <td>-0.050537</td>\n",
       "      <td>0.050537</td>\n",
       "      <td>0.143688</td>\n",
       "      <td>-0.143688</td>\n",
       "      <td>-0.095037</td>\n",
       "      <td>0.095037</td>\n",
       "      <td>0</td>\n",
       "    </tr>\n",
       "    <tr>\n",
       "      <th>449368</th>\n",
       "      <td>4106</td>\n",
       "      <td>2018121700</td>\n",
       "      <td>CAR</td>\n",
       "      <td>NO</td>\n",
       "      <td>2018-12-17</td>\n",
       "      <td>Half2</td>\n",
       "      <td>0</td>\n",
       "      <td>20</td>\n",
       "      <td>0</td>\n",
       "      <td>4</td>\n",
       "      <td>...</td>\n",
       "      <td>0.045730</td>\n",
       "      <td>0.136973</td>\n",
       "      <td>-0.136973</td>\n",
       "      <td>-0.050537</td>\n",
       "      <td>0.050537</td>\n",
       "      <td>0.123381</td>\n",
       "      <td>-0.123381</td>\n",
       "      <td>-0.080187</td>\n",
       "      <td>0.080187</td>\n",
       "      <td>0</td>\n",
       "    </tr>\n",
       "    <tr>\n",
       "      <th>449369</th>\n",
       "      <td>4128</td>\n",
       "      <td>2018121700</td>\n",
       "      <td>CAR</td>\n",
       "      <td>NO</td>\n",
       "      <td>2018-12-17</td>\n",
       "      <td>Half2</td>\n",
       "      <td>0</td>\n",
       "      <td>21</td>\n",
       "      <td>0</td>\n",
       "      <td>4</td>\n",
       "      <td>...</td>\n",
       "      <td>0.045730</td>\n",
       "      <td>0.136973</td>\n",
       "      <td>-0.136973</td>\n",
       "      <td>-0.050537</td>\n",
       "      <td>0.050537</td>\n",
       "      <td>0.123381</td>\n",
       "      <td>-0.123381</td>\n",
       "      <td>-0.080187</td>\n",
       "      <td>0.080187</td>\n",
       "      <td>0</td>\n",
       "    </tr>\n",
       "    <tr>\n",
       "      <th>449370</th>\n",
       "      <td>4150</td>\n",
       "      <td>2018121700</td>\n",
       "      <td>CAR</td>\n",
       "      <td>NO</td>\n",
       "      <td>2018-12-17</td>\n",
       "      <td>Half2</td>\n",
       "      <td>1</td>\n",
       "      <td>21</td>\n",
       "      <td>0</td>\n",
       "      <td>4</td>\n",
       "      <td>...</td>\n",
       "      <td>0.045730</td>\n",
       "      <td>0.136973</td>\n",
       "      <td>-0.136973</td>\n",
       "      <td>-0.050537</td>\n",
       "      <td>0.050537</td>\n",
       "      <td>0.123381</td>\n",
       "      <td>-0.123381</td>\n",
       "      <td>-0.080187</td>\n",
       "      <td>0.080187</td>\n",
       "      <td>0</td>\n",
       "    </tr>\n",
       "  </tbody>\n",
       "</table>\n",
       "<p>449371 rows × 50 columns</p>\n",
       "</div>"
      ],
      "text/plain": [
       "        play_id     game_id home_team away_team   game_date game_half  \\\n",
       "0            46  2009091000       PIT       TEN  2009-09-10     Half1   \n",
       "1            68  2009091000       PIT       TEN  2009-09-10     Half1   \n",
       "2            92  2009091000       PIT       TEN  2009-09-10     Half1   \n",
       "3           113  2009091000       PIT       TEN  2009-09-10     Half1   \n",
       "4           139  2009091000       PIT       TEN  2009-09-10     Half1   \n",
       "...         ...         ...       ...       ...         ...       ...   \n",
       "449366     4059  2018121700       CAR        NO  2018-12-17     Half2   \n",
       "449367     4081  2018121700       CAR        NO  2018-12-17     Half2   \n",
       "449368     4106  2018121700       CAR        NO  2018-12-17     Half2   \n",
       "449369     4128  2018121700       CAR        NO  2018-12-17     Half2   \n",
       "449370     4150  2018121700       CAR        NO  2018-12-17     Half2   \n",
       "\n",
       "        quarter_end  drive  sp  qtr  ...  total_away_pass_wpa  \\\n",
       "0                 0      1   0    1  ...             0.000000   \n",
       "1                 0      1   0    1  ...            -0.004655   \n",
       "2                 0      1   0    1  ...            -0.004655   \n",
       "3                 0      1   0    1  ...             0.044921   \n",
       "4                 0      1   0    1  ...             0.044921   \n",
       "...             ...    ...  ..  ...  ...                  ...   \n",
       "449366            0     20   0    4  ...            -0.002008   \n",
       "449367            0     20   0    4  ...             0.040273   \n",
       "449368            0     20   0    4  ...             0.045730   \n",
       "449369            0     21   0    4  ...             0.045730   \n",
       "449370            1     21   0    4  ...             0.045730   \n",
       "\n",
       "        total_home_comp_air_wpa  total_away_comp_air_wpa  \\\n",
       "0                      0.000000                 0.000000   \n",
       "1                     -0.028383                 0.028383   \n",
       "2                     -0.028383                 0.028383   \n",
       "3                     -0.028383                 0.028383   \n",
       "4                     -0.028383                 0.028383   \n",
       "...                         ...                      ...   \n",
       "449366                 0.160273                -0.160273   \n",
       "449367                 0.136973                -0.136973   \n",
       "449368                 0.136973                -0.136973   \n",
       "449369                 0.136973                -0.136973   \n",
       "449370                 0.136973                -0.136973   \n",
       "\n",
       "        total_home_comp_yac_wpa  total_away_comp_yac_wpa  \\\n",
       "0                      0.000000                 0.000000   \n",
       "1                      0.033038                -0.033038   \n",
       "2                      0.033038                -0.033038   \n",
       "3                      0.033038                -0.033038   \n",
       "4                      0.033038                -0.033038   \n",
       "...                         ...                      ...   \n",
       "449366                -0.031557                 0.031557   \n",
       "449367                -0.050537                 0.050537   \n",
       "449368                -0.050537                 0.050537   \n",
       "449369                -0.050537                 0.050537   \n",
       "449370                -0.050537                 0.050537   \n",
       "\n",
       "        total_home_raw_air_wpa  total_away_raw_air_wpa  \\\n",
       "0                     0.000000                0.000000   \n",
       "1                    -0.028383                0.028383   \n",
       "2                    -0.028383                0.028383   \n",
       "3                     0.081542               -0.081542   \n",
       "4                     0.081542               -0.081542   \n",
       "...                        ...                     ...   \n",
       "449366                0.166989               -0.166989   \n",
       "449367                0.143688               -0.143688   \n",
       "449368                0.123381               -0.123381   \n",
       "449369                0.123381               -0.123381   \n",
       "449370                0.123381               -0.123381   \n",
       "\n",
       "        total_home_raw_yac_wpa  total_away_raw_yac_wpa  replay_or_challenge  \n",
       "0                     0.000000                0.000000                    0  \n",
       "1                     0.033038               -0.033038                    0  \n",
       "2                     0.033038               -0.033038                    0  \n",
       "3                    -0.126463                0.126463                    0  \n",
       "4                    -0.126463                0.126463                    0  \n",
       "...                        ...                     ...                  ...  \n",
       "449366               -0.076056                0.076056                    0  \n",
       "449367               -0.095037                0.095037                    0  \n",
       "449368               -0.080187                0.080187                    0  \n",
       "449369               -0.080187                0.080187                    0  \n",
       "449370               -0.080187                0.080187                    0  \n",
       "\n",
       "[449371 rows x 50 columns]"
      ]
     },
     "execution_count": 17,
     "metadata": {},
     "output_type": "execute_result"
    }
   ],
   "source": [
    "drop_missing_val_col"
   ]
  },
  {
   "cell_type": "code",
   "execution_count": 18,
   "id": "879d0336",
   "metadata": {},
   "outputs": [
    {
     "data": {
      "text/plain": [
       "play_id                      0\n",
       "game_id                      0\n",
       "home_team                    0\n",
       "away_team                    0\n",
       "game_date                    0\n",
       "game_half                    0\n",
       "quarter_end                  0\n",
       "drive                        0\n",
       "sp                           0\n",
       "qtr                          0\n",
       "ydstogo                      0\n",
       "ydsnet                       0\n",
       "shotgun                      0\n",
       "no_huddle                    0\n",
       "qb_kneel                     0\n",
       "qb_spike                     0\n",
       "qb_scramble                  0\n",
       "home_timeouts_remaining      0\n",
       "away_timeouts_remaining      0\n",
       "total_home_score             0\n",
       "total_away_score             0\n",
       "extra_point_prob             0\n",
       "two_point_conversion_prob    0\n",
       "total_home_epa               0\n",
       "total_away_epa               0\n",
       "total_home_rush_epa          0\n",
       "total_away_rush_epa          0\n",
       "total_home_pass_epa          0\n",
       "total_away_pass_epa          0\n",
       "total_home_comp_air_epa      0\n",
       "total_away_comp_air_epa      0\n",
       "total_home_comp_yac_epa      0\n",
       "total_away_comp_yac_epa      0\n",
       "total_home_raw_air_epa       0\n",
       "total_away_raw_air_epa       0\n",
       "total_home_raw_yac_epa       0\n",
       "total_away_raw_yac_epa       0\n",
       "total_home_rush_wpa          0\n",
       "total_away_rush_wpa          0\n",
       "total_home_pass_wpa          0\n",
       "total_away_pass_wpa          0\n",
       "total_home_comp_air_wpa      0\n",
       "total_away_comp_air_wpa      0\n",
       "total_home_comp_yac_wpa      0\n",
       "total_away_comp_yac_wpa      0\n",
       "total_home_raw_air_wpa       0\n",
       "total_away_raw_air_wpa       0\n",
       "total_home_raw_yac_wpa       0\n",
       "total_away_raw_yac_wpa       0\n",
       "replay_or_challenge          0\n",
       "dtype: int64"
      ]
     },
     "execution_count": 18,
     "metadata": {},
     "output_type": "execute_result"
    }
   ],
   "source": [
    "drop_missing_val_col.isnull().sum()"
   ]
  },
  {
   "cell_type": "markdown",
   "id": "599e413a",
   "metadata": {},
   "source": [
    "# fill missing values"
   ]
  },
  {
   "cell_type": "code",
   "execution_count": 19,
   "id": "c64cb480",
   "metadata": {},
   "outputs": [
    {
     "data": {
      "text/html": [
       "<div>\n",
       "<style scoped>\n",
       "    .dataframe tbody tr th:only-of-type {\n",
       "        vertical-align: middle;\n",
       "    }\n",
       "\n",
       "    .dataframe tbody tr th {\n",
       "        vertical-align: top;\n",
       "    }\n",
       "\n",
       "    .dataframe thead th {\n",
       "        text-align: right;\n",
       "    }\n",
       "</style>\n",
       "<table border=\"1\" class=\"dataframe\">\n",
       "  <thead>\n",
       "    <tr style=\"text-align: right;\">\n",
       "      <th></th>\n",
       "      <th>play_id</th>\n",
       "      <th>game_id</th>\n",
       "      <th>home_team</th>\n",
       "      <th>away_team</th>\n",
       "      <th>posteam</th>\n",
       "      <th>posteam_type</th>\n",
       "      <th>defteam</th>\n",
       "      <th>side_of_field</th>\n",
       "      <th>yardline_100</th>\n",
       "      <th>game_date</th>\n",
       "      <th>...</th>\n",
       "      <th>penalty_player_id</th>\n",
       "      <th>penalty_player_name</th>\n",
       "      <th>penalty_yards</th>\n",
       "      <th>replay_or_challenge</th>\n",
       "      <th>replay_or_challenge_result</th>\n",
       "      <th>penalty_type</th>\n",
       "      <th>defensive_two_point_attempt</th>\n",
       "      <th>defensive_two_point_conv</th>\n",
       "      <th>defensive_extra_point_attempt</th>\n",
       "      <th>defensive_extra_point_conv</th>\n",
       "    </tr>\n",
       "  </thead>\n",
       "  <tbody>\n",
       "    <tr>\n",
       "      <th>0</th>\n",
       "      <td>46</td>\n",
       "      <td>2009091000</td>\n",
       "      <td>PIT</td>\n",
       "      <td>TEN</td>\n",
       "      <td>PIT</td>\n",
       "      <td>home</td>\n",
       "      <td>TEN</td>\n",
       "      <td>TEN</td>\n",
       "      <td>30.0</td>\n",
       "      <td>2009-09-10</td>\n",
       "      <td>...</td>\n",
       "      <td>NaN</td>\n",
       "      <td>NaN</td>\n",
       "      <td>NaN</td>\n",
       "      <td>0</td>\n",
       "      <td>NaN</td>\n",
       "      <td>NaN</td>\n",
       "      <td>0.0</td>\n",
       "      <td>0.0</td>\n",
       "      <td>0.0</td>\n",
       "      <td>0.0</td>\n",
       "    </tr>\n",
       "    <tr>\n",
       "      <th>1</th>\n",
       "      <td>68</td>\n",
       "      <td>2009091000</td>\n",
       "      <td>PIT</td>\n",
       "      <td>TEN</td>\n",
       "      <td>PIT</td>\n",
       "      <td>home</td>\n",
       "      <td>TEN</td>\n",
       "      <td>PIT</td>\n",
       "      <td>58.0</td>\n",
       "      <td>2009-09-10</td>\n",
       "      <td>...</td>\n",
       "      <td>NaN</td>\n",
       "      <td>NaN</td>\n",
       "      <td>NaN</td>\n",
       "      <td>0</td>\n",
       "      <td>NaN</td>\n",
       "      <td>NaN</td>\n",
       "      <td>0.0</td>\n",
       "      <td>0.0</td>\n",
       "      <td>0.0</td>\n",
       "      <td>0.0</td>\n",
       "    </tr>\n",
       "    <tr>\n",
       "      <th>2</th>\n",
       "      <td>92</td>\n",
       "      <td>2009091000</td>\n",
       "      <td>PIT</td>\n",
       "      <td>TEN</td>\n",
       "      <td>PIT</td>\n",
       "      <td>home</td>\n",
       "      <td>TEN</td>\n",
       "      <td>PIT</td>\n",
       "      <td>53.0</td>\n",
       "      <td>2009-09-10</td>\n",
       "      <td>...</td>\n",
       "      <td>NaN</td>\n",
       "      <td>NaN</td>\n",
       "      <td>NaN</td>\n",
       "      <td>0</td>\n",
       "      <td>NaN</td>\n",
       "      <td>NaN</td>\n",
       "      <td>0.0</td>\n",
       "      <td>0.0</td>\n",
       "      <td>0.0</td>\n",
       "      <td>0.0</td>\n",
       "    </tr>\n",
       "    <tr>\n",
       "      <th>3</th>\n",
       "      <td>113</td>\n",
       "      <td>2009091000</td>\n",
       "      <td>PIT</td>\n",
       "      <td>TEN</td>\n",
       "      <td>PIT</td>\n",
       "      <td>home</td>\n",
       "      <td>TEN</td>\n",
       "      <td>PIT</td>\n",
       "      <td>56.0</td>\n",
       "      <td>2009-09-10</td>\n",
       "      <td>...</td>\n",
       "      <td>NaN</td>\n",
       "      <td>NaN</td>\n",
       "      <td>NaN</td>\n",
       "      <td>0</td>\n",
       "      <td>NaN</td>\n",
       "      <td>NaN</td>\n",
       "      <td>0.0</td>\n",
       "      <td>0.0</td>\n",
       "      <td>0.0</td>\n",
       "      <td>0.0</td>\n",
       "    </tr>\n",
       "    <tr>\n",
       "      <th>4</th>\n",
       "      <td>139</td>\n",
       "      <td>2009091000</td>\n",
       "      <td>PIT</td>\n",
       "      <td>TEN</td>\n",
       "      <td>PIT</td>\n",
       "      <td>home</td>\n",
       "      <td>TEN</td>\n",
       "      <td>PIT</td>\n",
       "      <td>56.0</td>\n",
       "      <td>2009-09-10</td>\n",
       "      <td>...</td>\n",
       "      <td>NaN</td>\n",
       "      <td>NaN</td>\n",
       "      <td>NaN</td>\n",
       "      <td>0</td>\n",
       "      <td>NaN</td>\n",
       "      <td>NaN</td>\n",
       "      <td>0.0</td>\n",
       "      <td>0.0</td>\n",
       "      <td>0.0</td>\n",
       "      <td>0.0</td>\n",
       "    </tr>\n",
       "    <tr>\n",
       "      <th>...</th>\n",
       "      <td>...</td>\n",
       "      <td>...</td>\n",
       "      <td>...</td>\n",
       "      <td>...</td>\n",
       "      <td>...</td>\n",
       "      <td>...</td>\n",
       "      <td>...</td>\n",
       "      <td>...</td>\n",
       "      <td>...</td>\n",
       "      <td>...</td>\n",
       "      <td>...</td>\n",
       "      <td>...</td>\n",
       "      <td>...</td>\n",
       "      <td>...</td>\n",
       "      <td>...</td>\n",
       "      <td>...</td>\n",
       "      <td>...</td>\n",
       "      <td>...</td>\n",
       "      <td>...</td>\n",
       "      <td>...</td>\n",
       "      <td>...</td>\n",
       "    </tr>\n",
       "    <tr>\n",
       "      <th>449366</th>\n",
       "      <td>4059</td>\n",
       "      <td>2018121700</td>\n",
       "      <td>CAR</td>\n",
       "      <td>NO</td>\n",
       "      <td>CAR</td>\n",
       "      <td>home</td>\n",
       "      <td>NO</td>\n",
       "      <td>CAR</td>\n",
       "      <td>66.0</td>\n",
       "      <td>2018-12-17</td>\n",
       "      <td>...</td>\n",
       "      <td>00-0033357</td>\n",
       "      <td>T.Hill</td>\n",
       "      <td>10.0</td>\n",
       "      <td>0</td>\n",
       "      <td>upheld</td>\n",
       "      <td>Offensive Holding</td>\n",
       "      <td>0.0</td>\n",
       "      <td>0.0</td>\n",
       "      <td>0.0</td>\n",
       "      <td>0.0</td>\n",
       "    </tr>\n",
       "    <tr>\n",
       "      <th>449367</th>\n",
       "      <td>4081</td>\n",
       "      <td>2018121700</td>\n",
       "      <td>CAR</td>\n",
       "      <td>NO</td>\n",
       "      <td>CAR</td>\n",
       "      <td>home</td>\n",
       "      <td>NO</td>\n",
       "      <td>CAR</td>\n",
       "      <td>66.0</td>\n",
       "      <td>2018-12-17</td>\n",
       "      <td>...</td>\n",
       "      <td>00-0033357</td>\n",
       "      <td>T.Hill</td>\n",
       "      <td>10.0</td>\n",
       "      <td>0</td>\n",
       "      <td>upheld</td>\n",
       "      <td>Offensive Holding</td>\n",
       "      <td>0.0</td>\n",
       "      <td>0.0</td>\n",
       "      <td>0.0</td>\n",
       "      <td>0.0</td>\n",
       "    </tr>\n",
       "    <tr>\n",
       "      <th>449368</th>\n",
       "      <td>4106</td>\n",
       "      <td>2018121700</td>\n",
       "      <td>CAR</td>\n",
       "      <td>NO</td>\n",
       "      <td>CAR</td>\n",
       "      <td>home</td>\n",
       "      <td>NO</td>\n",
       "      <td>CAR</td>\n",
       "      <td>61.0</td>\n",
       "      <td>2018-12-17</td>\n",
       "      <td>...</td>\n",
       "      <td>00-0033357</td>\n",
       "      <td>T.Hill</td>\n",
       "      <td>10.0</td>\n",
       "      <td>0</td>\n",
       "      <td>upheld</td>\n",
       "      <td>Offensive Holding</td>\n",
       "      <td>0.0</td>\n",
       "      <td>0.0</td>\n",
       "      <td>0.0</td>\n",
       "      <td>0.0</td>\n",
       "    </tr>\n",
       "    <tr>\n",
       "      <th>449369</th>\n",
       "      <td>4128</td>\n",
       "      <td>2018121700</td>\n",
       "      <td>CAR</td>\n",
       "      <td>NO</td>\n",
       "      <td>NO</td>\n",
       "      <td>away</td>\n",
       "      <td>CAR</td>\n",
       "      <td>CAR</td>\n",
       "      <td>39.0</td>\n",
       "      <td>2018-12-17</td>\n",
       "      <td>...</td>\n",
       "      <td>00-0033357</td>\n",
       "      <td>T.Hill</td>\n",
       "      <td>10.0</td>\n",
       "      <td>0</td>\n",
       "      <td>upheld</td>\n",
       "      <td>Offensive Holding</td>\n",
       "      <td>0.0</td>\n",
       "      <td>0.0</td>\n",
       "      <td>0.0</td>\n",
       "      <td>0.0</td>\n",
       "    </tr>\n",
       "    <tr>\n",
       "      <th>449370</th>\n",
       "      <td>4150</td>\n",
       "      <td>2018121700</td>\n",
       "      <td>CAR</td>\n",
       "      <td>NO</td>\n",
       "      <td>NO</td>\n",
       "      <td>away</td>\n",
       "      <td>CAR</td>\n",
       "      <td>CAR</td>\n",
       "      <td>39.0</td>\n",
       "      <td>2018-12-17</td>\n",
       "      <td>...</td>\n",
       "      <td>00-0033357</td>\n",
       "      <td>T.Hill</td>\n",
       "      <td>10.0</td>\n",
       "      <td>0</td>\n",
       "      <td>upheld</td>\n",
       "      <td>Offensive Holding</td>\n",
       "      <td>0.0</td>\n",
       "      <td>0.0</td>\n",
       "      <td>0.0</td>\n",
       "      <td>0.0</td>\n",
       "    </tr>\n",
       "  </tbody>\n",
       "</table>\n",
       "<p>449371 rows × 255 columns</p>\n",
       "</div>"
      ],
      "text/plain": [
       "        play_id     game_id home_team away_team posteam posteam_type defteam  \\\n",
       "0            46  2009091000       PIT       TEN     PIT         home     TEN   \n",
       "1            68  2009091000       PIT       TEN     PIT         home     TEN   \n",
       "2            92  2009091000       PIT       TEN     PIT         home     TEN   \n",
       "3           113  2009091000       PIT       TEN     PIT         home     TEN   \n",
       "4           139  2009091000       PIT       TEN     PIT         home     TEN   \n",
       "...         ...         ...       ...       ...     ...          ...     ...   \n",
       "449366     4059  2018121700       CAR        NO     CAR         home      NO   \n",
       "449367     4081  2018121700       CAR        NO     CAR         home      NO   \n",
       "449368     4106  2018121700       CAR        NO     CAR         home      NO   \n",
       "449369     4128  2018121700       CAR        NO      NO         away     CAR   \n",
       "449370     4150  2018121700       CAR        NO      NO         away     CAR   \n",
       "\n",
       "       side_of_field  yardline_100   game_date  ...  penalty_player_id  \\\n",
       "0                TEN          30.0  2009-09-10  ...                NaN   \n",
       "1                PIT          58.0  2009-09-10  ...                NaN   \n",
       "2                PIT          53.0  2009-09-10  ...                NaN   \n",
       "3                PIT          56.0  2009-09-10  ...                NaN   \n",
       "4                PIT          56.0  2009-09-10  ...                NaN   \n",
       "...              ...           ...         ...  ...                ...   \n",
       "449366           CAR          66.0  2018-12-17  ...         00-0033357   \n",
       "449367           CAR          66.0  2018-12-17  ...         00-0033357   \n",
       "449368           CAR          61.0  2018-12-17  ...         00-0033357   \n",
       "449369           CAR          39.0  2018-12-17  ...         00-0033357   \n",
       "449370           CAR          39.0  2018-12-17  ...         00-0033357   \n",
       "\n",
       "        penalty_player_name  penalty_yards replay_or_challenge  \\\n",
       "0                       NaN            NaN                   0   \n",
       "1                       NaN            NaN                   0   \n",
       "2                       NaN            NaN                   0   \n",
       "3                       NaN            NaN                   0   \n",
       "4                       NaN            NaN                   0   \n",
       "...                     ...            ...                 ...   \n",
       "449366               T.Hill           10.0                   0   \n",
       "449367               T.Hill           10.0                   0   \n",
       "449368               T.Hill           10.0                   0   \n",
       "449369               T.Hill           10.0                   0   \n",
       "449370               T.Hill           10.0                   0   \n",
       "\n",
       "        replay_or_challenge_result       penalty_type  \\\n",
       "0                              NaN                NaN   \n",
       "1                              NaN                NaN   \n",
       "2                              NaN                NaN   \n",
       "3                              NaN                NaN   \n",
       "4                              NaN                NaN   \n",
       "...                            ...                ...   \n",
       "449366                      upheld  Offensive Holding   \n",
       "449367                      upheld  Offensive Holding   \n",
       "449368                      upheld  Offensive Holding   \n",
       "449369                      upheld  Offensive Holding   \n",
       "449370                      upheld  Offensive Holding   \n",
       "\n",
       "        defensive_two_point_attempt  defensive_two_point_conv  \\\n",
       "0                               0.0                       0.0   \n",
       "1                               0.0                       0.0   \n",
       "2                               0.0                       0.0   \n",
       "3                               0.0                       0.0   \n",
       "4                               0.0                       0.0   \n",
       "...                             ...                       ...   \n",
       "449366                          0.0                       0.0   \n",
       "449367                          0.0                       0.0   \n",
       "449368                          0.0                       0.0   \n",
       "449369                          0.0                       0.0   \n",
       "449370                          0.0                       0.0   \n",
       "\n",
       "        defensive_extra_point_attempt  defensive_extra_point_conv  \n",
       "0                                 0.0                         0.0  \n",
       "1                                 0.0                         0.0  \n",
       "2                                 0.0                         0.0  \n",
       "3                                 0.0                         0.0  \n",
       "4                                 0.0                         0.0  \n",
       "...                               ...                         ...  \n",
       "449366                            0.0                         0.0  \n",
       "449367                            0.0                         0.0  \n",
       "449368                            0.0                         0.0  \n",
       "449369                            0.0                         0.0  \n",
       "449370                            0.0                         0.0  \n",
       "\n",
       "[449371 rows x 255 columns]"
      ]
     },
     "execution_count": 19,
     "metadata": {},
     "output_type": "execute_result"
    }
   ],
   "source": [
    "df.fillna(method='ffill',axis=0)"
   ]
  },
  {
   "cell_type": "markdown",
   "id": "9616f4c0",
   "metadata": {},
   "source": [
    "\n",
    "# scaling vs normalization"
   ]
  },
  {
   "cell_type": "markdown",
   "id": "5bdcd171",
   "metadata": {},
   "source": [
    "# minmax scaling through scikit library"
   ]
  },
  {
   "cell_type": "code",
   "execution_count": 28,
   "id": "7f4c81b2",
   "metadata": {},
   "outputs": [],
   "source": [
    "from sklearn.preprocessing import MinMaxScaler\n",
    "scaler=MinMaxScaler(feature_range=(0,1))\n"
   ]
  },
  {
   "cell_type": "code",
   "execution_count": 18,
   "id": "266b0ed1",
   "metadata": {},
   "outputs": [],
   "source": [
    "data=np.random.exponential(size=200)"
   ]
  },
  {
   "cell_type": "code",
   "execution_count": 19,
   "id": "20992176",
   "metadata": {},
   "outputs": [
    {
     "data": {
      "text/plain": [
       "array([1.02834871e+00, 3.47777827e-01, 6.01322347e-01, 6.46180148e-01,\n",
       "       1.16584535e+00, 5.31294543e-01, 4.25450798e-01, 2.54934713e+00,\n",
       "       9.23520633e-01, 2.81576441e-01, 1.10180185e+00, 2.53054288e+00,\n",
       "       1.69165386e+00, 2.50917385e-02, 4.15662635e-02, 1.48573734e+00,\n",
       "       1.48107643e+00, 9.19763963e-01, 3.82844646e-02, 8.76890119e-01,\n",
       "       8.70526992e-01, 1.88838462e+00, 2.27202435e+00, 1.55156247e+00,\n",
       "       3.99229618e-02, 1.04268603e+00, 2.23188507e+00, 3.06418558e-01,\n",
       "       9.37133967e-01, 3.12663905e+00, 6.62421438e-01, 3.26268898e-01,\n",
       "       6.54220371e-01, 2.72462487e+00, 2.68580650e+00, 7.82108341e-01,\n",
       "       1.65693254e+00, 6.93450161e-01, 4.42489002e-01, 8.33706118e-01,\n",
       "       1.01411024e-01, 2.12363794e-01, 1.78540288e+00, 1.39780246e+00,\n",
       "       1.62081491e+00, 2.62587949e-01, 1.38976674e+00, 1.12243102e+00,\n",
       "       1.46627391e-01, 6.16976258e-02, 6.88986757e-01, 6.54959741e-01,\n",
       "       1.98819904e+00, 4.19156019e-03, 6.53919672e-01, 1.40222057e+00,\n",
       "       6.85058914e-01, 2.91222861e-01, 3.15604107e+00, 5.33807241e-01,\n",
       "       1.87162685e+00, 1.71444082e+00, 9.75377557e-01, 1.25932606e+00,\n",
       "       7.36986167e-01, 8.91655400e-01, 5.36776041e-01, 1.27853296e+00,\n",
       "       5.04659237e-01, 1.12282965e+00, 5.84091457e-01, 1.97691807e-01,\n",
       "       1.94642498e+00, 3.49692916e+00, 1.29618244e-01, 7.03103287e-01,\n",
       "       1.79695829e+00, 1.61408309e-01, 4.49426844e+00, 1.56287642e-02,\n",
       "       1.18466571e+00, 5.72552188e-01, 1.25301762e+00, 3.34597928e-01,\n",
       "       1.18525274e+00, 1.24732714e+00, 7.16012935e-01, 8.48118091e-01,\n",
       "       4.91571444e-01, 2.24817291e+00, 2.48286908e-02, 7.62931244e-01,\n",
       "       2.57650554e+00, 3.60405514e-01, 1.18374215e+00, 2.91371953e-01,\n",
       "       2.15794314e+00, 1.64850280e+00, 7.99984715e-01, 1.38708693e-01,\n",
       "       5.01548257e-01, 9.54711313e-01, 1.27184308e+00, 2.41991594e-01,\n",
       "       5.97697111e-02, 4.68862679e-01, 9.88024285e-01, 1.64048485e-01,\n",
       "       7.36095774e-01, 2.20056565e+00, 1.43077361e+00, 2.09439497e+00,\n",
       "       3.13944424e-01, 8.21889808e-01, 3.74355343e+00, 5.98745135e-02,\n",
       "       1.26975648e+00, 7.74962860e-01, 1.17256626e-01, 8.23055265e-01,\n",
       "       7.15224608e-01, 3.25351369e-01, 3.23430165e+00, 7.21999828e-01,\n",
       "       3.14737918e-01, 4.48196943e-01, 1.29114765e+00, 1.99210921e-01,\n",
       "       3.48459616e-01, 1.27729199e+00, 5.40449156e-01, 4.61621119e-01,\n",
       "       7.47507285e-01, 4.66123709e-01, 4.81236105e-02, 2.72839051e-01,\n",
       "       4.04975009e-02, 1.52260883e+00, 1.60117348e+00, 2.97856458e-01,\n",
       "       1.36212305e+00, 2.60448660e+00, 2.04680773e+00, 2.67072635e-01,\n",
       "       1.62811582e+00, 7.71529396e-01, 9.81505241e-01, 6.55093814e-01,\n",
       "       1.64163564e+00, 2.35889891e-01, 3.81898064e-01, 1.00414815e+00,\n",
       "       4.72978854e-01, 1.00171424e+00, 2.75980141e-01, 1.32564852e+00,\n",
       "       1.38648140e+00, 1.49242206e+00, 8.97419162e-01, 6.52546035e-01,\n",
       "       2.12415825e+00, 1.60258932e-01, 1.49748943e-01, 6.42527488e-01,\n",
       "       4.94011813e+00, 2.35882346e-01, 3.51294878e-01, 1.16063151e+00,\n",
       "       6.89907371e-01, 1.96320693e+00, 1.42780689e+00, 1.24249491e+00,\n",
       "       4.20957955e-01, 1.44267308e+00, 6.01023993e-01, 8.06389217e-02,\n",
       "       1.06974231e+00, 1.94623422e-01, 1.34733516e+00, 1.23301231e+00,\n",
       "       1.37591945e+00, 5.18658678e-01, 1.22595867e+00, 3.58698584e-01,\n",
       "       8.16370328e-01, 5.75694830e-01, 9.95134430e-01, 1.32414247e+00,\n",
       "       8.75828799e-01, 3.19404818e-01, 1.93054700e+00, 1.07871379e+00,\n",
       "       2.11586968e+00, 1.26578189e+00, 1.07562087e+00, 1.05611981e-02,\n",
       "       8.58238383e-02, 7.76475482e-01, 2.42390940e+00, 1.37005940e-01])"
      ]
     },
     "execution_count": 19,
     "metadata": {},
     "output_type": "execute_result"
    }
   ],
   "source": [
    "data"
   ]
  },
  {
   "cell_type": "code",
   "execution_count": 20,
   "id": "1418ec56",
   "metadata": {},
   "outputs": [
    {
     "data": {
      "text/plain": [
       "(200,)"
      ]
     },
     "execution_count": 20,
     "metadata": {},
     "output_type": "execute_result"
    }
   ],
   "source": [
    "data.shape"
   ]
  },
  {
   "cell_type": "code",
   "execution_count": 21,
   "id": "70594eb5",
   "metadata": {},
   "outputs": [],
   "source": [
    "data=data.reshape(-1,1)"
   ]
  },
  {
   "cell_type": "code",
   "execution_count": 22,
   "id": "cca868d6",
   "metadata": {},
   "outputs": [
    {
     "data": {
      "text/plain": [
       "(200, 1)"
      ]
     },
     "execution_count": 22,
     "metadata": {},
     "output_type": "execute_result"
    }
   ],
   "source": [
    "\n",
    "data.shape"
   ]
  },
  {
   "cell_type": "code",
   "execution_count": 23,
   "id": "3291eee1",
   "metadata": {},
   "outputs": [
    {
     "data": {
      "text/html": [
       "<style>#sk-container-id-2 {color: black;background-color: white;}#sk-container-id-2 pre{padding: 0;}#sk-container-id-2 div.sk-toggleable {background-color: white;}#sk-container-id-2 label.sk-toggleable__label {cursor: pointer;display: block;width: 100%;margin-bottom: 0;padding: 0.3em;box-sizing: border-box;text-align: center;}#sk-container-id-2 label.sk-toggleable__label-arrow:before {content: \"▸\";float: left;margin-right: 0.25em;color: #696969;}#sk-container-id-2 label.sk-toggleable__label-arrow:hover:before {color: black;}#sk-container-id-2 div.sk-estimator:hover label.sk-toggleable__label-arrow:before {color: black;}#sk-container-id-2 div.sk-toggleable__content {max-height: 0;max-width: 0;overflow: hidden;text-align: left;background-color: #f0f8ff;}#sk-container-id-2 div.sk-toggleable__content pre {margin: 0.2em;color: black;border-radius: 0.25em;background-color: #f0f8ff;}#sk-container-id-2 input.sk-toggleable__control:checked~div.sk-toggleable__content {max-height: 200px;max-width: 100%;overflow: auto;}#sk-container-id-2 input.sk-toggleable__control:checked~label.sk-toggleable__label-arrow:before {content: \"▾\";}#sk-container-id-2 div.sk-estimator input.sk-toggleable__control:checked~label.sk-toggleable__label {background-color: #d4ebff;}#sk-container-id-2 div.sk-label input.sk-toggleable__control:checked~label.sk-toggleable__label {background-color: #d4ebff;}#sk-container-id-2 input.sk-hidden--visually {border: 0;clip: rect(1px 1px 1px 1px);clip: rect(1px, 1px, 1px, 1px);height: 1px;margin: -1px;overflow: hidden;padding: 0;position: absolute;width: 1px;}#sk-container-id-2 div.sk-estimator {font-family: monospace;background-color: #f0f8ff;border: 1px dotted black;border-radius: 0.25em;box-sizing: border-box;margin-bottom: 0.5em;}#sk-container-id-2 div.sk-estimator:hover {background-color: #d4ebff;}#sk-container-id-2 div.sk-parallel-item::after {content: \"\";width: 100%;border-bottom: 1px solid gray;flex-grow: 1;}#sk-container-id-2 div.sk-label:hover label.sk-toggleable__label {background-color: #d4ebff;}#sk-container-id-2 div.sk-serial::before {content: \"\";position: absolute;border-left: 1px solid gray;box-sizing: border-box;top: 0;bottom: 0;left: 50%;z-index: 0;}#sk-container-id-2 div.sk-serial {display: flex;flex-direction: column;align-items: center;background-color: white;padding-right: 0.2em;padding-left: 0.2em;position: relative;}#sk-container-id-2 div.sk-item {position: relative;z-index: 1;}#sk-container-id-2 div.sk-parallel {display: flex;align-items: stretch;justify-content: center;background-color: white;position: relative;}#sk-container-id-2 div.sk-item::before, #sk-container-id-2 div.sk-parallel-item::before {content: \"\";position: absolute;border-left: 1px solid gray;box-sizing: border-box;top: 0;bottom: 0;left: 50%;z-index: -1;}#sk-container-id-2 div.sk-parallel-item {display: flex;flex-direction: column;z-index: 1;position: relative;background-color: white;}#sk-container-id-2 div.sk-parallel-item:first-child::after {align-self: flex-end;width: 50%;}#sk-container-id-2 div.sk-parallel-item:last-child::after {align-self: flex-start;width: 50%;}#sk-container-id-2 div.sk-parallel-item:only-child::after {width: 0;}#sk-container-id-2 div.sk-dashed-wrapped {border: 1px dashed gray;margin: 0 0.4em 0.5em 0.4em;box-sizing: border-box;padding-bottom: 0.4em;background-color: white;}#sk-container-id-2 div.sk-label label {font-family: monospace;font-weight: bold;display: inline-block;line-height: 1.2em;}#sk-container-id-2 div.sk-label-container {text-align: center;}#sk-container-id-2 div.sk-container {/* jupyter's `normalize.less` sets `[hidden] { display: none; }` but bootstrap.min.css set `[hidden] { display: none !important; }` so we also need the `!important` here to be able to override the default hidden behavior on the sphinx rendered scikit-learn.org. See: https://github.com/scikit-learn/scikit-learn/issues/21755 */display: inline-block !important;position: relative;}#sk-container-id-2 div.sk-text-repr-fallback {display: none;}</style><div id=\"sk-container-id-2\" class=\"sk-top-container\"><div class=\"sk-text-repr-fallback\"><pre>MinMaxScaler()</pre><b>In a Jupyter environment, please rerun this cell to show the HTML representation or trust the notebook. <br />On GitHub, the HTML representation is unable to render, please try loading this page with nbviewer.org.</b></div><div class=\"sk-container\" hidden><div class=\"sk-item\"><div class=\"sk-estimator sk-toggleable\"><input class=\"sk-toggleable__control sk-hidden--visually\" id=\"sk-estimator-id-2\" type=\"checkbox\" checked><label for=\"sk-estimator-id-2\" class=\"sk-toggleable__label sk-toggleable__label-arrow\">MinMaxScaler</label><div class=\"sk-toggleable__content\"><pre>MinMaxScaler()</pre></div></div></div></div></div>"
      ],
      "text/plain": [
       "MinMaxScaler()"
      ]
     },
     "execution_count": 23,
     "metadata": {},
     "output_type": "execute_result"
    }
   ],
   "source": [
    "scaler.fit(data)"
   ]
  },
  {
   "cell_type": "code",
   "execution_count": 31,
   "id": "1a5ea31c",
   "metadata": {},
   "outputs": [],
   "source": [
    "scale_data=scaler.fit_transform(data)"
   ]
  },
  {
   "cell_type": "code",
   "execution_count": 27,
   "id": "dbbc0017",
   "metadata": {},
   "outputs": [
    {
     "name": "stdout",
     "output_type": "stream",
     "text": [
      "Collecting mlxtend\n",
      "  Downloading mlxtend-0.20.0-py2.py3-none-any.whl (1.3 MB)\n",
      "     ---------------------------------------- 1.3/1.3 MB 554.0 kB/s eta 0:00:00\n",
      "Requirement already satisfied: scikit-learn>=1.0.2 in c:\\users\\sa\\anaconda3\\lib\\site-packages (from mlxtend) (1.1.1)\n",
      "Requirement already satisfied: matplotlib>=3.0.0 in c:\\users\\sa\\anaconda3\\lib\\site-packages (from mlxtend) (3.3.4)\n",
      "Requirement already satisfied: pandas>=0.24.2 in c:\\users\\sa\\anaconda3\\lib\\site-packages (from mlxtend) (1.2.4)\n",
      "Requirement already satisfied: joblib>=0.13.2 in c:\\users\\sa\\anaconda3\\lib\\site-packages (from mlxtend) (1.0.1)\n",
      "Requirement already satisfied: scipy>=1.2.1 in c:\\users\\sa\\anaconda3\\lib\\site-packages (from mlxtend) (1.6.2)\n",
      "Requirement already satisfied: setuptools in c:\\users\\sa\\anaconda3\\lib\\site-packages (from mlxtend) (52.0.0.post20210125)\n",
      "Requirement already satisfied: numpy>=1.16.2 in c:\\users\\sa\\anaconda3\\lib\\site-packages (from mlxtend) (1.20.1)\n",
      "Requirement already satisfied: pillow>=6.2.0 in c:\\users\\sa\\anaconda3\\lib\\site-packages (from matplotlib>=3.0.0->mlxtend) (8.2.0)\n",
      "Requirement already satisfied: pyparsing!=2.0.4,!=2.1.2,!=2.1.6,>=2.0.3 in c:\\users\\sa\\anaconda3\\lib\\site-packages (from matplotlib>=3.0.0->mlxtend) (2.4.7)\n",
      "Requirement already satisfied: cycler>=0.10 in c:\\users\\sa\\anaconda3\\lib\\site-packages (from matplotlib>=3.0.0->mlxtend) (0.10.0)\n",
      "Requirement already satisfied: python-dateutil>=2.1 in c:\\users\\sa\\anaconda3\\lib\\site-packages (from matplotlib>=3.0.0->mlxtend) (2.8.1)\n",
      "Requirement already satisfied: kiwisolver>=1.0.1 in c:\\users\\sa\\anaconda3\\lib\\site-packages (from matplotlib>=3.0.0->mlxtend) (1.3.1)\n",
      "Requirement already satisfied: pytz>=2017.3 in c:\\users\\sa\\anaconda3\\lib\\site-packages (from pandas>=0.24.2->mlxtend) (2021.1)\n",
      "Requirement already satisfied: threadpoolctl>=2.0.0 in c:\\users\\sa\\anaconda3\\lib\\site-packages (from scikit-learn>=1.0.2->mlxtend) (2.1.0)\n",
      "Requirement already satisfied: six in c:\\users\\sa\\anaconda3\\lib\\site-packages (from cycler>=0.10->matplotlib>=3.0.0->mlxtend) (1.15.0)\n",
      "Installing collected packages: mlxtend\n",
      "Successfully installed mlxtend-0.20.0\n",
      "\n",
      "[notice] A new release of pip available: 22.2 -> 22.2.2\n",
      "[notice] To update, run: python.exe -m pip install --upgrade pip\n"
     ]
    }
   ],
   "source": [
    "!pip install mlxtend"
   ]
  },
  {
   "cell_type": "code",
   "execution_count": 29,
   "id": "546c0e76",
   "metadata": {},
   "outputs": [],
   "source": [
    "# for min_max scaling\n",
    "from mlxtend.preprocessing import minmax_scaling"
   ]
  },
  {
   "cell_type": "code",
   "execution_count": 30,
   "id": "3488f4f3",
   "metadata": {},
   "outputs": [],
   "source": [
    "np.random.seed(0)"
   ]
  },
  {
   "cell_type": "markdown",
   "id": "9aaaf2e7",
   "metadata": {},
   "source": [
    "# visualization original data and after scaling"
   ]
  },
  {
   "cell_type": "code",
   "execution_count": 36,
   "id": "132a2675",
   "metadata": {},
   "outputs": [
    {
     "data": {
      "image/png": "[encoded data removed]",
      "text/plain": [
       "<Figure size 936x360 with 2 Axes>"
      ]
     },
     "metadata": {
      "needs_background": "light"
     },
     "output_type": "display_data"
    }
   ],
   "source": [
    "fig,ax=plt.subplots(1,2,figsize=(13,5))\n",
    "\n",
    "sns.histplot(data,ax=ax[0],kde=True,legend=False)\n",
    "ax[0].set_title(\"original data\")\n",
    "\n",
    "sns.histplot(scale_data,ax=ax[1],kde=True,legend=False)\n",
    "ax[1].set_title('scaled data')\n",
    "plt.show()\n"
   ]
  },
  {
   "cell_type": "markdown",
   "id": "ac3baf05",
   "metadata": {},
   "source": [
    "# here we can see that the shape of both the data does not change except the range \n",
    "# so,in order to change the shape of the data we will do normalization"
   ]
  },
  {
   "cell_type": "markdown",
   "id": "7e5b7e51",
   "metadata": {},
   "source": [
    "# ----------------------------------------------------------------------------"
   ]
  },
  {
   "cell_type": "markdown",
   "id": "e7f567ed",
   "metadata": {},
   "source": [
    "# normalization"
   ]
  },
  {
   "cell_type": "code",
   "execution_count": 37,
   "id": "9bae2d9b",
   "metadata": {},
   "outputs": [],
   "source": [
    "from scipy import stats"
   ]
  },
  {
   "cell_type": "code",
   "execution_count": 39,
   "id": "9a77ecab",
   "metadata": {},
   "outputs": [
    {
     "data": {
      "text/plain": [
       "(200, 1)"
      ]
     },
     "execution_count": 39,
     "metadata": {},
     "output_type": "execute_result"
    }
   ],
   "source": [
    "data.shape"
   ]
  },
  {
   "cell_type": "code",
   "execution_count": 40,
   "id": "e99c88ff",
   "metadata": {},
   "outputs": [
    {
     "data": {
      "text/plain": [
       "2"
      ]
     },
     "execution_count": 40,
     "metadata": {},
     "output_type": "execute_result"
    }
   ],
   "source": [
    "data.ndim"
   ]
  },
  {
   "cell_type": "markdown",
   "id": "e8229f70",
   "metadata": {},
   "source": [
    "# for normaliztion data must be in one dimension form"
   ]
  },
  {
   "cell_type": "code",
   "execution_count": 45,
   "id": "92c9cdc7",
   "metadata": {},
   "outputs": [],
   "source": [
    "conv_to_oneDimen=data.reshape(-1)"
   ]
  },
  {
   "cell_type": "code",
   "execution_count": 46,
   "id": "7fa6775f",
   "metadata": {},
   "outputs": [
    {
     "data": {
      "text/plain": [
       "(200,)"
      ]
     },
     "execution_count": 46,
     "metadata": {},
     "output_type": "execute_result"
    }
   ],
   "source": [
    "conv_to_oneDimen.shape"
   ]
  },
  {
   "cell_type": "code",
   "execution_count": 47,
   "id": "b6c02821",
   "metadata": {},
   "outputs": [],
   "source": [
    "normalized_data=stats.boxcox(conv_to_oneDimen)"
   ]
  },
  {
   "cell_type": "markdown",
   "id": "20824aff",
   "metadata": {},
   "source": [
    "# visualization"
   ]
  },
  {
   "cell_type": "code",
   "execution_count": 48,
   "id": "0ec5b79b",
   "metadata": {},
   "outputs": [
    {
     "name": "stderr",
     "output_type": "stream",
     "text": [
      "C:\\Users\\SA\\anaconda3\\lib\\site-packages\\seaborn\\distributions.py:306: UserWarning: Dataset has 0 variance; skipping density estimate.\n",
      "  warnings.warn(msg, UserWarning)\n"
     ]
    },
    {
     "data": {
      "image/png": "[encoded data removed]",
      "text/plain": [
       "<Figure size 1080x360 with 2 Axes>"
      ]
     },
     "metadata": {
      "needs_background": "light"
     },
     "output_type": "display_data"
    }
   ],
   "source": [
    "fig,ax=plt.subplots(1,2,figsize=(15,5))\n",
    "sns.histplot(normalized_data,kde=True,legend=False,ax=ax[0])\n",
    "ax[0].set_title('normlized data')\n",
    "\n",
    "sns.histplot(data,kde=True,legend=False,ax=ax[1])\n",
    "ax[1].set_title('original data')\n",
    "plt.show()\n"
   ]
  },
  {
   "cell_type": "code",
   "execution_count": null,
   "id": "1fbe2524",
   "metadata": {},
   "outputs": [],
   "source": []
  }
 ],
 "metadata": {
  "kernelspec": {
   "display_name": "Python 3",
   "language": "python",
   "name": "python3"
  },
  "language_info": {
   "codemirror_mode": {
    "name": "ipython",
    "version": 3
   },
   "file_extension": ".py",
   "mimetype": "text/x-python",
   "name": "python",
   "nbconvert_exporter": "python",
   "pygments_lexer": "ipython3",
   "version": "3.8.8"
  }
 },
 "nbformat": 4,
 "nbformat_minor": 5
}
