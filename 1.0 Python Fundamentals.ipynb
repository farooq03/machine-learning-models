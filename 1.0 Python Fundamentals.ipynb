{
 "cells": [
  {
   "cell_type": "code",
   "execution_count": 3,
   "id": "d1910a4c",
   "metadata": {},
   "outputs": [
    {
     "name": "stdout",
     "output_type": "stream",
     "text": [
      "Bye\n"
     ]
    }
   ],
   "source": [
    "print ('Bye')"
   ]
  },
  {
   "cell_type": "code",
   "execution_count": 4,
   "id": "5a6dd501",
   "metadata": {},
   "outputs": [
    {
     "name": "stdout",
     "output_type": "stream",
     "text": [
      "Hello\n",
      "Bye\n",
      "I love blue\n"
     ]
    }
   ],
   "source": [
    "print ('Hello')\n",
    "print ('Bye')\n",
    "print ('I love blue')"
   ]
  },
  {
   "cell_type": "code",
   "execution_count": 5,
   "id": "1736dcb2",
   "metadata": {},
   "outputs": [
    {
     "name": "stdout",
     "output_type": "stream",
     "text": [
      "Today is a good day\n",
      "Today the sun is up\n",
      "To execute a cell press SHIFT+ENTER\n"
     ]
    }
   ],
   "source": [
    "print ('Today is a good day')\n",
    "print ('Today the sun is up')\n",
    "print ('To execute a cell press SHIFT+ENTER')"
   ]
  },
  {
   "cell_type": "code",
   "execution_count": 9,
   "id": "a5e1e9e1",
   "metadata": {},
   "outputs": [
    {
     "name": "stdout",
     "output_type": "stream",
     "text": [
      "My name is Suhail\n",
      "I work as a Data Scientist\n",
      "I love the color blue\n"
     ]
    }
   ],
   "source": [
    "print ('My name is Suhail')\n",
    "print ('I work as a Data Scientist')\n",
    "print ('I love the color blue')"
   ]
  },
  {
   "cell_type": "code",
   "execution_count": 14,
   "id": "3f9bd75a",
   "metadata": {},
   "outputs": [
    {
     "name": "stdout",
     "output_type": "stream",
     "text": [
      "I'm Arpit\n"
     ]
    }
   ],
   "source": [
    "print (\"I'm Arpit\")"
   ]
  },
  {
   "cell_type": "code",
   "execution_count": 13,
   "id": "967976ea",
   "metadata": {},
   "outputs": [
    {
     "name": "stdout",
     "output_type": "stream",
     "text": [
      "I forgot my notebook\n",
      "I forgot my notebook\n"
     ]
    }
   ],
   "source": [
    "print (\"I forgot my notebook\")\n",
    "print ('I forgot my notebook')"
   ]
  },
  {
   "cell_type": "code",
   "execution_count": 17,
   "id": "a021e843",
   "metadata": {},
   "outputs": [
    {
     "name": "stdout",
     "output_type": "stream",
     "text": [
      "Hello. We'd love a cup of tea\n",
      "She said \"hello\" and left\n"
     ]
    }
   ],
   "source": [
    "print (\"Hello. We'd love a cup of tea\")\n",
    "print ('She said \"hello\" and left')"
   ]
  },
  {
   "cell_type": "code",
   "execution_count": 18,
   "id": "6f860420",
   "metadata": {},
   "outputs": [
    {
     "name": "stdout",
     "output_type": "stream",
     "text": [
      "I'm Arpit\n"
     ]
    }
   ],
   "source": [
    "print ('I\\'m Arpit')"
   ]
  },
  {
   "cell_type": "code",
   "execution_count": 19,
   "id": "212a7225",
   "metadata": {},
   "outputs": [
    {
     "name": "stdout",
     "output_type": "stream",
     "text": [
      "She said \"hello\" and left\n"
     ]
    }
   ],
   "source": [
    "print (\"She said \\\"hello\\\" and left\")"
   ]
  },
  {
   "cell_type": "code",
   "execution_count": 20,
   "id": "8928fe71",
   "metadata": {},
   "outputs": [
    {
     "name": "stdout",
     "output_type": "stream",
     "text": [
      "100\n"
     ]
    }
   ],
   "source": [
    "print (100)"
   ]
  },
  {
   "cell_type": "code",
   "execution_count": 21,
   "id": "83276d9e",
   "metadata": {},
   "outputs": [
    {
     "name": "stdout",
     "output_type": "stream",
     "text": [
      "3.14\n"
     ]
    }
   ],
   "source": [
    "print (3.14)"
   ]
  },
  {
   "cell_type": "code",
   "execution_count": 23,
   "id": "497514dc",
   "metadata": {},
   "outputs": [
    {
     "name": "stdout",
     "output_type": "stream",
     "text": [
      "suhail\n"
     ]
    }
   ],
   "source": [
    "print ('suhail')"
   ]
  },
  {
   "cell_type": "code",
   "execution_count": 26,
   "id": "c4fcd41b",
   "metadata": {},
   "outputs": [
    {
     "name": "stdout",
     "output_type": "stream",
     "text": [
      "my name is 100\n"
     ]
    }
   ],
   "source": [
    "print ('my','name','is',100)"
   ]
  },
  {
   "cell_type": "code",
   "execution_count": 27,
   "id": "de89428b",
   "metadata": {},
   "outputs": [
    {
     "name": "stdout",
     "output_type": "stream",
     "text": [
      "my name is 100\n"
     ]
    }
   ],
   "source": [
    "print ('my name is 100')"
   ]
  },
  {
   "cell_type": "code",
   "execution_count": 28,
   "id": "2a353adf",
   "metadata": {},
   "outputs": [
    {
     "name": "stdout",
     "output_type": "stream",
     "text": [
      "100\n"
     ]
    }
   ],
   "source": [
    "print (100)"
   ]
  },
  {
   "cell_type": "code",
   "execution_count": 29,
   "id": "e193e091",
   "metadata": {},
   "outputs": [],
   "source": [
    "name = 'Suhail'"
   ]
  },
  {
   "cell_type": "code",
   "execution_count": 30,
   "id": "4c80c977",
   "metadata": {},
   "outputs": [
    {
     "data": {
      "text/plain": [
       "'Suhail'"
      ]
     },
     "execution_count": 30,
     "metadata": {},
     "output_type": "execute_result"
    }
   ],
   "source": [
    "name"
   ]
  },
  {
   "cell_type": "code",
   "execution_count": 31,
   "id": "71c533e8",
   "metadata": {},
   "outputs": [],
   "source": [
    "my_fav_color = 'black'"
   ]
  },
  {
   "cell_type": "code",
   "execution_count": 32,
   "id": "9bd44c25",
   "metadata": {},
   "outputs": [
    {
     "data": {
      "text/plain": [
       "'black'"
      ]
     },
     "execution_count": 32,
     "metadata": {},
     "output_type": "execute_result"
    }
   ],
   "source": [
    "my_fav_color"
   ]
  },
  {
   "cell_type": "code",
   "execution_count": 33,
   "id": "a32fa4ba",
   "metadata": {},
   "outputs": [],
   "source": [
    "val_of_pi = 3.14"
   ]
  },
  {
   "cell_type": "code",
   "execution_count": 34,
   "id": "9582b7cf",
   "metadata": {},
   "outputs": [
    {
     "data": {
      "text/plain": [
       "3.14"
      ]
     },
     "execution_count": 34,
     "metadata": {},
     "output_type": "execute_result"
    }
   ],
   "source": [
    "val_of_pi"
   ]
  },
  {
   "cell_type": "code",
   "execution_count": 40,
   "id": "ea3b265e",
   "metadata": {},
   "outputs": [
    {
     "name": "stdout",
     "output_type": "stream",
     "text": [
      "My name is Kaish and my favourite color is orange\n"
     ]
    }
   ],
   "source": [
    "name = 'Kaish'\n",
    "my_fav_color = 'orange'\n",
    "print ('My name is', name, 'and my favourite color is', my_fav_color)"
   ]
  },
  {
   "cell_type": "code",
   "execution_count": 41,
   "id": "4c2026a6",
   "metadata": {},
   "outputs": [
    {
     "name": "stdout",
     "output_type": "stream",
     "text": [
      "My favourite subject is Mathematics and my fav sports is Football\n"
     ]
    }
   ],
   "source": [
    "my_fav_subject = 'Mathematics'\n",
    "my_fav_sports = 'Football'\n",
    "\n",
    "print('My favourite subject is',my_fav_subject,'and my fav sports is', my_fav_sports)"
   ]
  },
  {
   "cell_type": "code",
   "execution_count": 45,
   "id": "2526b5ec",
   "metadata": {},
   "outputs": [
    {
     "data": {
      "text/plain": [
       "str"
      ]
     },
     "execution_count": 45,
     "metadata": {},
     "output_type": "execute_result"
    }
   ],
   "source": [
    "type ('Suhail')"
   ]
  },
  {
   "cell_type": "code",
   "execution_count": 48,
   "id": "44ea4095",
   "metadata": {},
   "outputs": [
    {
     "data": {
      "text/plain": [
       "int"
      ]
     },
     "execution_count": 48,
     "metadata": {},
     "output_type": "execute_result"
    }
   ],
   "source": [
    "type (-13)"
   ]
  },
  {
   "cell_type": "code",
   "execution_count": 49,
   "id": "3fa2f090",
   "metadata": {},
   "outputs": [
    {
     "data": {
      "text/plain": [
       "float"
      ]
     },
     "execution_count": 49,
     "metadata": {},
     "output_type": "execute_result"
    }
   ],
   "source": [
    "type (3.14)"
   ]
  },
  {
   "cell_type": "code",
   "execution_count": 50,
   "id": "5c21f01a",
   "metadata": {},
   "outputs": [
    {
     "data": {
      "text/plain": [
       "int"
      ]
     },
     "execution_count": 50,
     "metadata": {},
     "output_type": "execute_result"
    }
   ],
   "source": [
    "type (10)"
   ]
  },
  {
   "cell_type": "code",
   "execution_count": 51,
   "id": "c81da6a7",
   "metadata": {},
   "outputs": [
    {
     "data": {
      "text/plain": [
       "float"
      ]
     },
     "execution_count": 51,
     "metadata": {},
     "output_type": "execute_result"
    }
   ],
   "source": [
    "type (10.0)"
   ]
  },
  {
   "cell_type": "code",
   "execution_count": 52,
   "id": "b7448fbf",
   "metadata": {},
   "outputs": [
    {
     "data": {
      "text/plain": [
       "str"
      ]
     },
     "execution_count": 52,
     "metadata": {},
     "output_type": "execute_result"
    }
   ],
   "source": [
    "type ('Anick')"
   ]
  },
  {
   "cell_type": "code",
   "execution_count": 53,
   "id": "8ad191a8",
   "metadata": {},
   "outputs": [
    {
     "data": {
      "text/plain": [
       "int"
      ]
     },
     "execution_count": 53,
     "metadata": {},
     "output_type": "execute_result"
    }
   ],
   "source": [
    "type (100000000)"
   ]
  },
  {
   "cell_type": "code",
   "execution_count": 54,
   "id": "31830eb1",
   "metadata": {},
   "outputs": [
    {
     "data": {
      "text/plain": [
       "float"
      ]
     },
     "execution_count": 54,
     "metadata": {},
     "output_type": "execute_result"
    }
   ],
   "source": [
    "type (130.01)"
   ]
  },
  {
   "cell_type": "code",
   "execution_count": 55,
   "id": "8592cf02",
   "metadata": {},
   "outputs": [
    {
     "data": {
      "text/plain": [
       "float"
      ]
     },
     "execution_count": 55,
     "metadata": {},
     "output_type": "execute_result"
    }
   ],
   "source": [
    "type (0.01)"
   ]
  },
  {
   "cell_type": "code",
   "execution_count": 56,
   "id": "27757242",
   "metadata": {},
   "outputs": [
    {
     "data": {
      "text/plain": [
       "str"
      ]
     },
     "execution_count": 56,
     "metadata": {},
     "output_type": "execute_result"
    }
   ],
   "source": [
    "my_name = 'suhail'\n",
    "type (my_name)"
   ]
  },
  {
   "cell_type": "code",
   "execution_count": 57,
   "id": "a45dc22b",
   "metadata": {},
   "outputs": [
    {
     "data": {
      "text/plain": [
       "bool"
      ]
     },
     "execution_count": 57,
     "metadata": {},
     "output_type": "execute_result"
    }
   ],
   "source": [
    "is_it_raining = True\n",
    "type (is_it_raining)"
   ]
  },
  {
   "cell_type": "code",
   "execution_count": 58,
   "id": "b4590a37",
   "metadata": {},
   "outputs": [
    {
     "data": {
      "text/plain": [
       "bool"
      ]
     },
     "execution_count": 58,
     "metadata": {},
     "output_type": "execute_result"
    }
   ],
   "source": [
    "is_it_raining = False\n",
    "type (is_it_raining)"
   ]
  },
  {
   "cell_type": "code",
   "execution_count": 59,
   "id": "a6c23607",
   "metadata": {},
   "outputs": [
    {
     "data": {
      "text/plain": [
       "str"
      ]
     },
     "execution_count": 59,
     "metadata": {},
     "output_type": "execute_result"
    }
   ],
   "source": [
    "place = 'London'\n",
    "type (place)"
   ]
  },
  {
   "cell_type": "code",
   "execution_count": 60,
   "id": "438fcec3",
   "metadata": {},
   "outputs": [
    {
     "data": {
      "text/plain": [
       "20"
      ]
     },
     "execution_count": 60,
     "metadata": {},
     "output_type": "execute_result"
    }
   ],
   "source": [
    "10 + 10"
   ]
  },
  {
   "cell_type": "code",
   "execution_count": 61,
   "id": "0426dfc6",
   "metadata": {},
   "outputs": [
    {
     "data": {
      "text/plain": [
       "100.0"
      ]
     },
     "execution_count": 61,
     "metadata": {},
     "output_type": "execute_result"
    }
   ],
   "source": [
    "1000 / 10"
   ]
  },
  {
   "cell_type": "code",
   "execution_count": 63,
   "id": "6031315f",
   "metadata": {},
   "outputs": [
    {
     "data": {
      "text/plain": [
       "43.14"
      ]
     },
     "execution_count": 63,
     "metadata": {},
     "output_type": "execute_result"
    }
   ],
   "source": [
    "10 + 10 + 20 + 3.14"
   ]
  },
  {
   "cell_type": "code",
   "execution_count": 64,
   "id": "d9a65571",
   "metadata": {},
   "outputs": [
    {
     "data": {
      "text/plain": [
       "30.0"
      ]
     },
     "execution_count": 64,
     "metadata": {},
     "output_type": "execute_result"
    }
   ],
   "source": [
    "10 + 10 + 10 + 0.0"
   ]
  },
  {
   "cell_type": "code",
   "execution_count": 68,
   "id": "c1b80cae",
   "metadata": {},
   "outputs": [
    {
     "data": {
      "text/plain": [
       "15.14"
      ]
     },
     "execution_count": 68,
     "metadata": {},
     "output_type": "execute_result"
    }
   ],
   "source": [
    "True + 10 + True + 3.14"
   ]
  },
  {
   "cell_type": "code",
   "execution_count": 70,
   "id": "7f42a7ea",
   "metadata": {},
   "outputs": [
    {
     "data": {
      "text/plain": [
       "2.0"
      ]
     },
     "execution_count": 70,
     "metadata": {},
     "output_type": "execute_result"
    }
   ],
   "source": [
    "# automatic type casting\n",
    "True + False + 1 + 0.0"
   ]
  },
  {
   "cell_type": "code",
   "execution_count": 71,
   "id": "5a7313e8",
   "metadata": {},
   "outputs": [
    {
     "data": {
      "text/plain": [
       "'applebanana'"
      ]
     },
     "execution_count": 71,
     "metadata": {},
     "output_type": "execute_result"
    }
   ],
   "source": [
    "'apple' + 'banana'"
   ]
  },
  {
   "cell_type": "code",
   "execution_count": 73,
   "id": "1aa85b61",
   "metadata": {},
   "outputs": [
    {
     "name": "stdout",
     "output_type": "stream",
     "text": [
      "307\n"
     ]
    }
   ],
   "source": [
    "s1 = 99\n",
    "s2 = 98\n",
    "s3 = 70\n",
    "s4 = 40\n",
    "\n",
    "total = s1 + s2 + s3 + s4\n",
    "print (total)"
   ]
  },
  {
   "cell_type": "code",
   "execution_count": 75,
   "id": "50b119d3",
   "metadata": {},
   "outputs": [
    {
     "name": "stdout",
     "output_type": "stream",
     "text": [
      "The total bill amount is 175 thousand Rupees\n"
     ]
    }
   ],
   "source": [
    "fridge = 15\n",
    "microwave = 7\n",
    "tv = 45\n",
    "laptop = 50\n",
    "\n",
    "# 2 fridges, 1 tv and 2 laptops\n",
    "total = fridge + fridge + tv + laptop + laptop\n",
    "print ('The total bill amount is', total,'thousand Rupees')"
   ]
  },
  {
   "cell_type": "code",
   "execution_count": 78,
   "id": "94a70376",
   "metadata": {},
   "outputs": [
    {
     "ename": "SyntaxError",
     "evalue": "invalid syntax (<ipython-input-78-558dd3c5421a>, line 1)",
     "output_type": "error",
     "traceback": [
      "\u001b[1;36m  File \u001b[1;32m\"<ipython-input-78-558dd3c5421a>\"\u001b[1;36m, line \u001b[1;32m1\u001b[0m\n\u001b[1;33m    2000total_percentage = 80.7\u001b[0m\n\u001b[1;37m        ^\u001b[0m\n\u001b[1;31mSyntaxError\u001b[0m\u001b[1;31m:\u001b[0m invalid syntax\n"
     ]
    }
   ],
   "source": [
    "2000total_percentage = 80.7"
   ]
  },
  {
   "cell_type": "code",
   "execution_count": 77,
   "id": "e43f3edd",
   "metadata": {},
   "outputs": [],
   "source": [
    "t2otal_pe2rcent2age2 = 80.7"
   ]
  },
  {
   "cell_type": "code",
   "execution_count": 83,
   "id": "45ed6879",
   "metadata": {},
   "outputs": [
    {
     "ename": "SyntaxError",
     "evalue": "invalid syntax (<ipython-input-83-93ad3f6b4e25>, line 1)",
     "output_type": "error",
     "traceback": [
      "\u001b[1;36m  File \u001b[1;32m\"<ipython-input-83-93ad3f6b4e25>\"\u001b[1;36m, line \u001b[1;32m1\u001b[0m\n\u001b[1;33m    my name = 'Suhail'\u001b[0m\n\u001b[1;37m       ^\u001b[0m\n\u001b[1;31mSyntaxError\u001b[0m\u001b[1;31m:\u001b[0m invalid syntax\n"
     ]
    }
   ],
   "source": [
    "my name = 'Suhail'"
   ]
  },
  {
   "cell_type": "code",
   "execution_count": 88,
   "id": "6be54708",
   "metadata": {},
   "outputs": [
    {
     "ename": "SyntaxError",
     "evalue": "cannot assign to operator (<ipython-input-88-74b97ca44bc9>, line 1)",
     "output_type": "error",
     "traceback": [
      "\u001b[1;36m  File \u001b[1;32m\"<ipython-input-88-74b97ca44bc9>\"\u001b[1;36m, line \u001b[1;32m1\u001b[0m\n\u001b[1;33m    myna^me = 'suhail'\u001b[0m\n\u001b[1;37m    ^\u001b[0m\n\u001b[1;31mSyntaxError\u001b[0m\u001b[1;31m:\u001b[0m cannot assign to operator\n"
     ]
    }
   ],
   "source": [
    "my_name = 'suhail'"
   ]
  },
  {
   "cell_type": "code",
   "execution_count": 89,
   "id": "084097c3",
   "metadata": {},
   "outputs": [
    {
     "name": "stdout",
     "output_type": "stream",
     "text": [
      "hello\n"
     ]
    }
   ],
   "source": [
    "print ('hello')"
   ]
  },
  {
   "cell_type": "code",
   "execution_count": 1,
   "id": "98972203",
   "metadata": {},
   "outputs": [
    {
     "name": "stdout",
     "output_type": "stream",
     "text": [
      "hello\n"
     ]
    }
   ],
   "source": [
    "print ('hello')"
   ]
  },
  {
   "cell_type": "code",
   "execution_count": 2,
   "id": "e9d91a0a",
   "metadata": {},
   "outputs": [],
   "source": [
    "sum1 = 100"
   ]
  },
  {
   "cell_type": "code",
   "execution_count": 3,
   "id": "027145e3",
   "metadata": {},
   "outputs": [
    {
     "data": {
      "text/plain": [
       "0"
      ]
     },
     "execution_count": 3,
     "metadata": {},
     "output_type": "execute_result"
    }
   ],
   "source": [
    "100 - 100"
   ]
  },
  {
   "cell_type": "code",
   "execution_count": 4,
   "id": "aeba74b9",
   "metadata": {},
   "outputs": [
    {
     "data": {
      "text/plain": [
       "40"
      ]
     },
     "execution_count": 4,
     "metadata": {},
     "output_type": "execute_result"
    }
   ],
   "source": [
    "50  - 10"
   ]
  },
  {
   "cell_type": "code",
   "execution_count": 5,
   "id": "0f879ae4",
   "metadata": {},
   "outputs": [
    {
     "name": "stdout",
     "output_type": "stream",
     "text": [
      "30\n"
     ]
    }
   ],
   "source": [
    "a = 50\n",
    "b = 10\n",
    "c = 10\n",
    "res = a - b - c\n",
    "print (res)"
   ]
  },
  {
   "cell_type": "code",
   "execution_count": 6,
   "id": "46b7faa2",
   "metadata": {},
   "outputs": [
    {
     "data": {
      "text/plain": [
       "80"
      ]
     },
     "execution_count": 6,
     "metadata": {},
     "output_type": "execute_result"
    }
   ],
   "source": [
    "# multiplication operator\n",
    "10 * 8"
   ]
  },
  {
   "cell_type": "code",
   "execution_count": 7,
   "id": "19798834",
   "metadata": {},
   "outputs": [
    {
     "data": {
      "text/plain": [
       "10000"
      ]
     },
     "execution_count": 7,
     "metadata": {},
     "output_type": "execute_result"
    }
   ],
   "source": [
    "100 * 100"
   ]
  },
  {
   "cell_type": "code",
   "execution_count": 8,
   "id": "a71b8342",
   "metadata": {},
   "outputs": [
    {
     "name": "stdout",
     "output_type": "stream",
     "text": [
      "The total bill amount is 175 thousand Rupees\n"
     ]
    }
   ],
   "source": [
    "fridge = 15\n",
    "microwave = 7\n",
    "tv = 45\n",
    "laptop = 50\n",
    "\n",
    "# 2 fridges, 1 tv and 2 laptops\n",
    "total = 2 * fridge + tv + 2 * laptop\n",
    "print ('The total bill amount is', total,'thousand Rupees')"
   ]
  },
  {
   "cell_type": "code",
   "execution_count": 9,
   "id": "f2313787",
   "metadata": {},
   "outputs": [
    {
     "data": {
      "text/plain": [
       "10.0"
      ]
     },
     "execution_count": 9,
     "metadata": {},
     "output_type": "execute_result"
    }
   ],
   "source": [
    "100 / 10"
   ]
  },
  {
   "cell_type": "code",
   "execution_count": 10,
   "id": "018145ad",
   "metadata": {},
   "outputs": [
    {
     "name": "stdout",
     "output_type": "stream",
     "text": [
      "20.0\n"
     ]
    }
   ],
   "source": [
    "num1 = 10000\n",
    "num2 = 500\n",
    "res = num1 / num2\n",
    "print (res)"
   ]
  },
  {
   "cell_type": "code",
   "execution_count": 12,
   "id": "fc1a3c90",
   "metadata": {},
   "outputs": [
    {
     "name": "stdout",
     "output_type": "stream",
     "text": [
      "Total marks secured are 385\n",
      "The percentage is 77.0\n"
     ]
    }
   ],
   "source": [
    "eng = 70\n",
    "phy = 60\n",
    "chem = 80\n",
    "bio = 95\n",
    "math = 80\n",
    "\n",
    "total_marks = eng + phy + chem + bio + math\n",
    "percentage = (total_marks / 500) * 100\n",
    "\n",
    "print ('Total marks secured are', total_marks)\n",
    "print ('The percentage is', percentage)"
   ]
  },
  {
   "cell_type": "code",
   "execution_count": null,
   "id": "fafda10f",
   "metadata": {},
   "outputs": [],
   "source": []
  }
 ],
 "metadata": {
  "kernelspec": {
   "display_name": "Python 3",
   "language": "python",
   "name": "python3"
  },
  "language_info": {
   "codemirror_mode": {
    "name": "ipython",
    "version": 3
   },
   "file_extension": ".py",
   "mimetype": "text/x-python",
   "name": "python",
   "nbconvert_exporter": "python",
   "pygments_lexer": "ipython3",
   "version": "3.8.8"
  }
 },
 "nbformat": 4,
 "nbformat_minor": 5
}
