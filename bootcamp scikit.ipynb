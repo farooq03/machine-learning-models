{
 "cells": [
  {
   "cell_type": "code",
   "execution_count": 235,
   "id": "fb5a6ea0",
   "metadata": {},
   "outputs": [],
   "source": [
    "import pandas as pd\n",
    "import numpy as np\n",
    "import matplotlib.pyplot as plt\n",
    "import seaborn as sns\n",
    "from matplotlib import rcParams\n",
    "from scipy import stats"
   ]
  },
  {
   "cell_type": "code",
   "execution_count": 236,
   "id": "273beb4b",
   "metadata": {},
   "outputs": [],
   "source": [
    "df=pd.read_csv('Datasets/iris.csv')"
   ]
  },
  {
   "cell_type": "code",
   "execution_count": 237,
   "id": "8f6b6a74",
   "metadata": {},
   "outputs": [
    {
     "data": {
      "text/html": [
       "<div>\n",
       "<style scoped>\n",
       "    .dataframe tbody tr th:only-of-type {\n",
       "        vertical-align: middle;\n",
       "    }\n",
       "\n",
       "    .dataframe tbody tr th {\n",
       "        vertical-align: top;\n",
       "    }\n",
       "\n",
       "    .dataframe thead th {\n",
       "        text-align: right;\n",
       "    }\n",
       "</style>\n",
       "<table border=\"1\" class=\"dataframe\">\n",
       "  <thead>\n",
       "    <tr style=\"text-align: right;\">\n",
       "      <th></th>\n",
       "      <th>Id</th>\n",
       "      <th>SepalLengthCm</th>\n",
       "      <th>SepalWidthCm</th>\n",
       "      <th>PetalLengthCm</th>\n",
       "      <th>PetalWidthCm</th>\n",
       "      <th>Species</th>\n",
       "    </tr>\n",
       "  </thead>\n",
       "  <tbody>\n",
       "    <tr>\n",
       "      <th>0</th>\n",
       "      <td>1</td>\n",
       "      <td>5.1</td>\n",
       "      <td>3.5</td>\n",
       "      <td>1.4</td>\n",
       "      <td>0.2</td>\n",
       "      <td>0</td>\n",
       "    </tr>\n",
       "    <tr>\n",
       "      <th>1</th>\n",
       "      <td>2</td>\n",
       "      <td>4.9</td>\n",
       "      <td>3.0</td>\n",
       "      <td>1.4</td>\n",
       "      <td>0.2</td>\n",
       "      <td>0</td>\n",
       "    </tr>\n",
       "    <tr>\n",
       "      <th>2</th>\n",
       "      <td>3</td>\n",
       "      <td>4.7</td>\n",
       "      <td>3.2</td>\n",
       "      <td>1.3</td>\n",
       "      <td>0.2</td>\n",
       "      <td>0</td>\n",
       "    </tr>\n",
       "    <tr>\n",
       "      <th>3</th>\n",
       "      <td>4</td>\n",
       "      <td>4.6</td>\n",
       "      <td>3.1</td>\n",
       "      <td>1.5</td>\n",
       "      <td>0.2</td>\n",
       "      <td>0</td>\n",
       "    </tr>\n",
       "    <tr>\n",
       "      <th>4</th>\n",
       "      <td>5</td>\n",
       "      <td>5.0</td>\n",
       "      <td>3.6</td>\n",
       "      <td>1.4</td>\n",
       "      <td>0.2</td>\n",
       "      <td>0</td>\n",
       "    </tr>\n",
       "  </tbody>\n",
       "</table>\n",
       "</div>"
      ],
      "text/plain": [
       "   Id  SepalLengthCm  SepalWidthCm  PetalLengthCm  PetalWidthCm  Species\n",
       "0   1            5.1           3.5            1.4           0.2        0\n",
       "1   2            4.9           3.0            1.4           0.2        0\n",
       "2   3            4.7           3.2            1.3           0.2        0\n",
       "3   4            4.6           3.1            1.5           0.2        0\n",
       "4   5            5.0           3.6            1.4           0.2        0"
      ]
     },
     "execution_count": 237,
     "metadata": {},
     "output_type": "execute_result"
    }
   ],
   "source": [
    "df.head()"
   ]
  },
  {
   "cell_type": "code",
   "execution_count": 238,
   "id": "aa7287e6",
   "metadata": {},
   "outputs": [
    {
     "data": {
      "text/plain": [
       "(150, 6)"
      ]
     },
     "execution_count": 238,
     "metadata": {},
     "output_type": "execute_result"
    }
   ],
   "source": [
    "df.shape"
   ]
  },
  {
   "cell_type": "code",
   "execution_count": 239,
   "id": "f3fbd1a2",
   "metadata": {},
   "outputs": [
    {
     "data": {
      "text/plain": [
       "Id               0\n",
       "SepalLengthCm    0\n",
       "SepalWidthCm     0\n",
       "PetalLengthCm    0\n",
       "PetalWidthCm     0\n",
       "Species          0\n",
       "dtype: int64"
      ]
     },
     "execution_count": 239,
     "metadata": {},
     "output_type": "execute_result"
    }
   ],
   "source": [
    "df.isnull().sum()"
   ]
  },
  {
   "cell_type": "code",
   "execution_count": 240,
   "id": "5e8a5891",
   "metadata": {},
   "outputs": [
    {
     "data": {
      "text/plain": [
       "float64    4\n",
       "int64      2\n",
       "dtype: int64"
      ]
     },
     "execution_count": 240,
     "metadata": {},
     "output_type": "execute_result"
    }
   ],
   "source": [
    "\n",
    "pd.value_counts(df.dtypes)"
   ]
  },
  {
   "cell_type": "code",
   "execution_count": 241,
   "id": "88907b34",
   "metadata": {},
   "outputs": [],
   "source": [
    "from sklearn import datasets"
   ]
  },
  {
   "cell_type": "code",
   "execution_count": 242,
   "id": "71702856",
   "metadata": {},
   "outputs": [],
   "source": [
    "iris=datasets.load_iris()"
   ]
  },
  {
   "cell_type": "code",
   "execution_count": 243,
   "id": "28ef7a93",
   "metadata": {},
   "outputs": [
    {
     "data": {
      "text/plain": [
       "<module 'sklearn.datasets' from 'C:\\\\Users\\\\SA\\\\anaconda3\\\\lib\\\\site-packages\\\\sklearn\\\\datasets\\\\__init__.py'>"
      ]
     },
     "execution_count": 243,
     "metadata": {},
     "output_type": "execute_result"
    }
   ],
   "source": [
    "datasets"
   ]
  },
  {
   "cell_type": "code",
   "execution_count": 244,
   "id": "94154005",
   "metadata": {},
   "outputs": [
    {
     "data": {
      "text/plain": [
       "sklearn.utils.Bunch"
      ]
     },
     "execution_count": 244,
     "metadata": {},
     "output_type": "execute_result"
    }
   ],
   "source": [
    "type(iris)"
   ]
  },
  {
   "cell_type": "code",
   "execution_count": 245,
   "id": "f06ffd93",
   "metadata": {},
   "outputs": [
    {
     "data": {
      "text/plain": [
       "dict_keys(['data', 'target', 'frame', 'target_names', 'DESCR', 'feature_names', 'filename'])"
      ]
     },
     "execution_count": 245,
     "metadata": {},
     "output_type": "execute_result"
    }
   ],
   "source": [
    "iris.keys()"
   ]
  },
  {
   "cell_type": "code",
   "execution_count": 246,
   "id": "32411792",
   "metadata": {},
   "outputs": [
    {
     "data": {
      "text/plain": [
       "['sepal length (cm)',\n",
       " 'sepal width (cm)',\n",
       " 'petal length (cm)',\n",
       " 'petal width (cm)']"
      ]
     },
     "execution_count": 246,
     "metadata": {},
     "output_type": "execute_result"
    }
   ],
   "source": [
    "iris.feature_names"
   ]
  },
  {
   "cell_type": "code",
   "execution_count": 247,
   "id": "5ad9b9fe",
   "metadata": {},
   "outputs": [
    {
     "data": {
      "text/plain": [
       "'C:\\\\Users\\\\SA\\\\anaconda3\\\\lib\\\\site-packages\\\\sklearn\\\\datasets\\\\data\\\\iris.csv'"
      ]
     },
     "execution_count": 247,
     "metadata": {},
     "output_type": "execute_result"
    }
   ],
   "source": [
    "iris.filename"
   ]
  },
  {
   "cell_type": "code",
   "execution_count": 248,
   "id": "6d6f702a",
   "metadata": {},
   "outputs": [],
   "source": [
    "x=iris.data\n",
    "y=iris.target"
   ]
  },
  {
   "cell_type": "code",
   "execution_count": 249,
   "id": "ed9bc579",
   "metadata": {},
   "outputs": [],
   "source": [
    "iris_data=pd.DataFrame(x,columns=iris.feature_names)"
   ]
  },
  {
   "cell_type": "code",
   "execution_count": 250,
   "id": "182577a7",
   "metadata": {},
   "outputs": [
    {
     "data": {
      "text/html": [
       "<div>\n",
       "<style scoped>\n",
       "    .dataframe tbody tr th:only-of-type {\n",
       "        vertical-align: middle;\n",
       "    }\n",
       "\n",
       "    .dataframe tbody tr th {\n",
       "        vertical-align: top;\n",
       "    }\n",
       "\n",
       "    .dataframe thead th {\n",
       "        text-align: right;\n",
       "    }\n",
       "</style>\n",
       "<table border=\"1\" class=\"dataframe\">\n",
       "  <thead>\n",
       "    <tr style=\"text-align: right;\">\n",
       "      <th></th>\n",
       "      <th>sepal length (cm)</th>\n",
       "      <th>sepal width (cm)</th>\n",
       "      <th>petal length (cm)</th>\n",
       "      <th>petal width (cm)</th>\n",
       "    </tr>\n",
       "  </thead>\n",
       "  <tbody>\n",
       "    <tr>\n",
       "      <th>0</th>\n",
       "      <td>5.1</td>\n",
       "      <td>3.5</td>\n",
       "      <td>1.4</td>\n",
       "      <td>0.2</td>\n",
       "    </tr>\n",
       "    <tr>\n",
       "      <th>1</th>\n",
       "      <td>4.9</td>\n",
       "      <td>3.0</td>\n",
       "      <td>1.4</td>\n",
       "      <td>0.2</td>\n",
       "    </tr>\n",
       "    <tr>\n",
       "      <th>2</th>\n",
       "      <td>4.7</td>\n",
       "      <td>3.2</td>\n",
       "      <td>1.3</td>\n",
       "      <td>0.2</td>\n",
       "    </tr>\n",
       "    <tr>\n",
       "      <th>3</th>\n",
       "      <td>4.6</td>\n",
       "      <td>3.1</td>\n",
       "      <td>1.5</td>\n",
       "      <td>0.2</td>\n",
       "    </tr>\n",
       "    <tr>\n",
       "      <th>4</th>\n",
       "      <td>5.0</td>\n",
       "      <td>3.6</td>\n",
       "      <td>1.4</td>\n",
       "      <td>0.2</td>\n",
       "    </tr>\n",
       "    <tr>\n",
       "      <th>...</th>\n",
       "      <td>...</td>\n",
       "      <td>...</td>\n",
       "      <td>...</td>\n",
       "      <td>...</td>\n",
       "    </tr>\n",
       "    <tr>\n",
       "      <th>145</th>\n",
       "      <td>6.7</td>\n",
       "      <td>3.0</td>\n",
       "      <td>5.2</td>\n",
       "      <td>2.3</td>\n",
       "    </tr>\n",
       "    <tr>\n",
       "      <th>146</th>\n",
       "      <td>6.3</td>\n",
       "      <td>2.5</td>\n",
       "      <td>5.0</td>\n",
       "      <td>1.9</td>\n",
       "    </tr>\n",
       "    <tr>\n",
       "      <th>147</th>\n",
       "      <td>6.5</td>\n",
       "      <td>3.0</td>\n",
       "      <td>5.2</td>\n",
       "      <td>2.0</td>\n",
       "    </tr>\n",
       "    <tr>\n",
       "      <th>148</th>\n",
       "      <td>6.2</td>\n",
       "      <td>3.4</td>\n",
       "      <td>5.4</td>\n",
       "      <td>2.3</td>\n",
       "    </tr>\n",
       "    <tr>\n",
       "      <th>149</th>\n",
       "      <td>5.9</td>\n",
       "      <td>3.0</td>\n",
       "      <td>5.1</td>\n",
       "      <td>1.8</td>\n",
       "    </tr>\n",
       "  </tbody>\n",
       "</table>\n",
       "<p>150 rows × 4 columns</p>\n",
       "</div>"
      ],
      "text/plain": [
       "     sepal length (cm)  sepal width (cm)  petal length (cm)  petal width (cm)\n",
       "0                  5.1               3.5                1.4               0.2\n",
       "1                  4.9               3.0                1.4               0.2\n",
       "2                  4.7               3.2                1.3               0.2\n",
       "3                  4.6               3.1                1.5               0.2\n",
       "4                  5.0               3.6                1.4               0.2\n",
       "..                 ...               ...                ...               ...\n",
       "145                6.7               3.0                5.2               2.3\n",
       "146                6.3               2.5                5.0               1.9\n",
       "147                6.5               3.0                5.2               2.0\n",
       "148                6.2               3.4                5.4               2.3\n",
       "149                5.9               3.0                5.1               1.8\n",
       "\n",
       "[150 rows x 4 columns]"
      ]
     },
     "execution_count": 250,
     "metadata": {},
     "output_type": "execute_result"
    }
   ],
   "source": [
    "iris_data"
   ]
  },
  {
   "cell_type": "code",
   "execution_count": 251,
   "id": "2770093e",
   "metadata": {},
   "outputs": [
    {
     "data": {
      "image/png": "[encoded data removed]",
      "text/plain": [
       "<Figure size 720x648 with 36 Axes>"
      ]
     },
     "metadata": {
      "needs_background": "light"
     },
     "output_type": "display_data"
    }
   ],
   "source": [
    "\n",
    "pd.plotting.scatter_matrix(df,c=y,figsize=[10,9],marker='s',s=150)\n",
    "plt.show()"
   ]
  },
  {
   "cell_type": "code",
   "execution_count": 252,
   "id": "80e59ade",
   "metadata": {},
   "outputs": [
    {
     "data": {
      "text/html": [
       "<div>\n",
       "<style scoped>\n",
       "    .dataframe tbody tr th:only-of-type {\n",
       "        vertical-align: middle;\n",
       "    }\n",
       "\n",
       "    .dataframe tbody tr th {\n",
       "        vertical-align: top;\n",
       "    }\n",
       "\n",
       "    .dataframe thead th {\n",
       "        text-align: right;\n",
       "    }\n",
       "</style>\n",
       "<table border=\"1\" class=\"dataframe\">\n",
       "  <thead>\n",
       "    <tr style=\"text-align: right;\">\n",
       "      <th></th>\n",
       "      <th>Id</th>\n",
       "      <th>SepalLengthCm</th>\n",
       "      <th>SepalWidthCm</th>\n",
       "      <th>PetalLengthCm</th>\n",
       "      <th>PetalWidthCm</th>\n",
       "      <th>Species</th>\n",
       "    </tr>\n",
       "  </thead>\n",
       "  <tbody>\n",
       "    <tr>\n",
       "      <th>0</th>\n",
       "      <td>1</td>\n",
       "      <td>5.1</td>\n",
       "      <td>3.5</td>\n",
       "      <td>1.4</td>\n",
       "      <td>0.2</td>\n",
       "      <td>0</td>\n",
       "    </tr>\n",
       "    <tr>\n",
       "      <th>1</th>\n",
       "      <td>2</td>\n",
       "      <td>4.9</td>\n",
       "      <td>3.0</td>\n",
       "      <td>1.4</td>\n",
       "      <td>0.2</td>\n",
       "      <td>0</td>\n",
       "    </tr>\n",
       "    <tr>\n",
       "      <th>2</th>\n",
       "      <td>3</td>\n",
       "      <td>4.7</td>\n",
       "      <td>3.2</td>\n",
       "      <td>1.3</td>\n",
       "      <td>0.2</td>\n",
       "      <td>0</td>\n",
       "    </tr>\n",
       "    <tr>\n",
       "      <th>3</th>\n",
       "      <td>4</td>\n",
       "      <td>4.6</td>\n",
       "      <td>3.1</td>\n",
       "      <td>1.5</td>\n",
       "      <td>0.2</td>\n",
       "      <td>0</td>\n",
       "    </tr>\n",
       "    <tr>\n",
       "      <th>4</th>\n",
       "      <td>5</td>\n",
       "      <td>5.0</td>\n",
       "      <td>3.6</td>\n",
       "      <td>1.4</td>\n",
       "      <td>0.2</td>\n",
       "      <td>0</td>\n",
       "    </tr>\n",
       "  </tbody>\n",
       "</table>\n",
       "</div>"
      ],
      "text/plain": [
       "   Id  SepalLengthCm  SepalWidthCm  PetalLengthCm  PetalWidthCm  Species\n",
       "0   1            5.1           3.5            1.4           0.2        0\n",
       "1   2            4.9           3.0            1.4           0.2        0\n",
       "2   3            4.7           3.2            1.3           0.2        0\n",
       "3   4            4.6           3.1            1.5           0.2        0\n",
       "4   5            5.0           3.6            1.4           0.2        0"
      ]
     },
     "execution_count": 252,
     "metadata": {},
     "output_type": "execute_result"
    }
   ],
   "source": [
    "df.head()"
   ]
  },
  {
   "cell_type": "code",
   "execution_count": 253,
   "id": "18184cb5",
   "metadata": {},
   "outputs": [
    {
     "data": {
      "image/png": "[encoded data removed]",
      "text/plain": [
       "<Figure size 432x288 with 1 Axes>"
      ]
     },
     "metadata": {
      "needs_background": "light"
     },
     "output_type": "display_data"
    }
   ],
   "source": [
    "plt.figure()\n",
    "sns.countplot(x='SepalLengthCm',hue='Species',data=df)\n",
    "plt.show()"
   ]
  },
  {
   "cell_type": "code",
   "execution_count": 254,
   "id": "c3203c4b",
   "metadata": {},
   "outputs": [
    {
     "data": {
      "text/plain": [
       "<Figure size 432x288 with 0 Axes>"
      ]
     },
     "metadata": {},
     "output_type": "display_data"
    },
    {
     "data": {
      "image/png": "[encoded data removed]",
      "text/plain": [
       "<Figure size 432x288 with 16 Axes>"
      ]
     },
     "metadata": {
      "needs_background": "light"
     },
     "output_type": "display_data"
    }
   ],
   "source": [
    "plt.figure()\n",
    "pd.plotting.scatter_matrix(iris_data,c=y)\n",
    "plt.show()"
   ]
  },
  {
   "cell_type": "code",
   "execution_count": 255,
   "id": "56ea8d20",
   "metadata": {},
   "outputs": [
    {
     "data": {
      "text/html": [
       "<div>\n",
       "<style scoped>\n",
       "    .dataframe tbody tr th:only-of-type {\n",
       "        vertical-align: middle;\n",
       "    }\n",
       "\n",
       "    .dataframe tbody tr th {\n",
       "        vertical-align: top;\n",
       "    }\n",
       "\n",
       "    .dataframe thead th {\n",
       "        text-align: right;\n",
       "    }\n",
       "</style>\n",
       "<table border=\"1\" class=\"dataframe\">\n",
       "  <thead>\n",
       "    <tr style=\"text-align: right;\">\n",
       "      <th></th>\n",
       "      <th>sepal length (cm)</th>\n",
       "      <th>sepal width (cm)</th>\n",
       "      <th>petal length (cm)</th>\n",
       "      <th>petal width (cm)</th>\n",
       "    </tr>\n",
       "  </thead>\n",
       "  <tbody>\n",
       "    <tr>\n",
       "      <th>0</th>\n",
       "      <td>5.1</td>\n",
       "      <td>3.5</td>\n",
       "      <td>1.4</td>\n",
       "      <td>0.2</td>\n",
       "    </tr>\n",
       "    <tr>\n",
       "      <th>1</th>\n",
       "      <td>4.9</td>\n",
       "      <td>3.0</td>\n",
       "      <td>1.4</td>\n",
       "      <td>0.2</td>\n",
       "    </tr>\n",
       "    <tr>\n",
       "      <th>2</th>\n",
       "      <td>4.7</td>\n",
       "      <td>3.2</td>\n",
       "      <td>1.3</td>\n",
       "      <td>0.2</td>\n",
       "    </tr>\n",
       "    <tr>\n",
       "      <th>3</th>\n",
       "      <td>4.6</td>\n",
       "      <td>3.1</td>\n",
       "      <td>1.5</td>\n",
       "      <td>0.2</td>\n",
       "    </tr>\n",
       "    <tr>\n",
       "      <th>4</th>\n",
       "      <td>5.0</td>\n",
       "      <td>3.6</td>\n",
       "      <td>1.4</td>\n",
       "      <td>0.2</td>\n",
       "    </tr>\n",
       "    <tr>\n",
       "      <th>...</th>\n",
       "      <td>...</td>\n",
       "      <td>...</td>\n",
       "      <td>...</td>\n",
       "      <td>...</td>\n",
       "    </tr>\n",
       "    <tr>\n",
       "      <th>145</th>\n",
       "      <td>6.7</td>\n",
       "      <td>3.0</td>\n",
       "      <td>5.2</td>\n",
       "      <td>2.3</td>\n",
       "    </tr>\n",
       "    <tr>\n",
       "      <th>146</th>\n",
       "      <td>6.3</td>\n",
       "      <td>2.5</td>\n",
       "      <td>5.0</td>\n",
       "      <td>1.9</td>\n",
       "    </tr>\n",
       "    <tr>\n",
       "      <th>147</th>\n",
       "      <td>6.5</td>\n",
       "      <td>3.0</td>\n",
       "      <td>5.2</td>\n",
       "      <td>2.0</td>\n",
       "    </tr>\n",
       "    <tr>\n",
       "      <th>148</th>\n",
       "      <td>6.2</td>\n",
       "      <td>3.4</td>\n",
       "      <td>5.4</td>\n",
       "      <td>2.3</td>\n",
       "    </tr>\n",
       "    <tr>\n",
       "      <th>149</th>\n",
       "      <td>5.9</td>\n",
       "      <td>3.0</td>\n",
       "      <td>5.1</td>\n",
       "      <td>1.8</td>\n",
       "    </tr>\n",
       "  </tbody>\n",
       "</table>\n",
       "<p>150 rows × 4 columns</p>\n",
       "</div>"
      ],
      "text/plain": [
       "     sepal length (cm)  sepal width (cm)  petal length (cm)  petal width (cm)\n",
       "0                  5.1               3.5                1.4               0.2\n",
       "1                  4.9               3.0                1.4               0.2\n",
       "2                  4.7               3.2                1.3               0.2\n",
       "3                  4.6               3.1                1.5               0.2\n",
       "4                  5.0               3.6                1.4               0.2\n",
       "..                 ...               ...                ...               ...\n",
       "145                6.7               3.0                5.2               2.3\n",
       "146                6.3               2.5                5.0               1.9\n",
       "147                6.5               3.0                5.2               2.0\n",
       "148                6.2               3.4                5.4               2.3\n",
       "149                5.9               3.0                5.1               1.8\n",
       "\n",
       "[150 rows x 4 columns]"
      ]
     },
     "execution_count": 255,
     "metadata": {},
     "output_type": "execute_result"
    }
   ],
   "source": [
    "iris_data"
   ]
  },
  {
   "cell_type": "code",
   "execution_count": 256,
   "id": "5529fb41",
   "metadata": {},
   "outputs": [
    {
     "data": {
      "text/plain": [
       "array([0, 0, 0, 0, 0, 0, 0, 0, 0, 0, 0, 0, 0, 0, 0, 0, 0, 0, 0, 0, 0, 0,\n",
       "       0, 0, 0, 0, 0, 0, 0, 0, 0, 0, 0, 0, 0, 0, 0, 0, 0, 0, 0, 0, 0, 0,\n",
       "       0, 0, 0, 0, 0, 0, 1, 1, 1, 1, 1, 1, 1, 1, 1, 1, 1, 1, 1, 1, 1, 1,\n",
       "       1, 1, 1, 1, 1, 1, 1, 1, 1, 1, 1, 1, 1, 1, 1, 1, 1, 1, 1, 1, 1, 1,\n",
       "       1, 1, 1, 1, 1, 1, 1, 1, 1, 1, 1, 1, 2, 2, 2, 2, 2, 2, 2, 2, 2, 2,\n",
       "       2, 2, 2, 2, 2, 2, 2, 2, 2, 2, 2, 2, 2, 2, 2, 2, 2, 2, 2, 2, 2, 2,\n",
       "       2, 2, 2, 2, 2, 2, 2, 2, 2, 2, 2, 2, 2, 2, 2, 2, 2, 2])"
      ]
     },
     "execution_count": 256,
     "metadata": {},
     "output_type": "execute_result"
    }
   ],
   "source": [
    "\n",
    "y\n"
   ]
  },
  {
   "cell_type": "code",
   "execution_count": 257,
   "id": "22ffa3bf",
   "metadata": {},
   "outputs": [],
   "source": [
    "from sklearn.neighbors import KNeighborsClassifier\n"
   ]
  },
  {
   "cell_type": "code",
   "execution_count": 258,
   "id": "f7219a46",
   "metadata": {},
   "outputs": [
    {
     "data": {
      "text/plain": [
       "KNeighborsClassifier(n_neighbors=6)"
      ]
     },
     "execution_count": 258,
     "metadata": {},
     "output_type": "execute_result"
    }
   ],
   "source": [
    "knn=KNeighborsClassifier(n_neighbors=6)\n",
    "knn.fit(iris_data,y)"
   ]
  },
  {
   "cell_type": "code",
   "execution_count": 259,
   "id": "a8f7f952",
   "metadata": {},
   "outputs": [],
   "source": [
    "x_new=np.array([[3.4,2.3,5.6,3.2],[1.3,3.4,2.3,3.6]])"
   ]
  },
  {
   "cell_type": "code",
   "execution_count": 260,
   "id": "fa415a52",
   "metadata": {},
   "outputs": [
    {
     "data": {
      "text/plain": [
       "array([[3.4, 2.3, 5.6, 3.2],\n",
       "       [1.3, 3.4, 2.3, 3.6]])"
      ]
     },
     "execution_count": 260,
     "metadata": {},
     "output_type": "execute_result"
    }
   ],
   "source": [
    "x_new"
   ]
  },
  {
   "cell_type": "code",
   "execution_count": 261,
   "id": "e5ffac0d",
   "metadata": {},
   "outputs": [
    {
     "data": {
      "text/plain": [
       "(2, 4)"
      ]
     },
     "execution_count": 261,
     "metadata": {},
     "output_type": "execute_result"
    }
   ],
   "source": [
    "x_new.shape"
   ]
  },
  {
   "cell_type": "code",
   "execution_count": 262,
   "id": "6ebd05e9",
   "metadata": {},
   "outputs": [],
   "source": [
    "pred=knn.predict(x_new)"
   ]
  },
  {
   "cell_type": "code",
   "execution_count": 263,
   "id": "08f8bc72",
   "metadata": {},
   "outputs": [
    {
     "data": {
      "text/plain": [
       "array([2, 0])"
      ]
     },
     "execution_count": 263,
     "metadata": {},
     "output_type": "execute_result"
    }
   ],
   "source": [
    "pred"
   ]
  },
  {
   "cell_type": "code",
   "execution_count": 264,
   "id": "dbd97ded",
   "metadata": {},
   "outputs": [
    {
     "name": "stdout",
     "output_type": "stream",
     "text": [
      "preiction:[2 0]\n"
     ]
    }
   ],
   "source": [
    "print('preiction:{}'.format(pred))"
   ]
  },
  {
   "cell_type": "code",
   "execution_count": 265,
   "id": "4e07593b",
   "metadata": {},
   "outputs": [
    {
     "data": {
      "text/html": [
       "<div>\n",
       "<style scoped>\n",
       "    .dataframe tbody tr th:only-of-type {\n",
       "        vertical-align: middle;\n",
       "    }\n",
       "\n",
       "    .dataframe tbody tr th {\n",
       "        vertical-align: top;\n",
       "    }\n",
       "\n",
       "    .dataframe thead th {\n",
       "        text-align: right;\n",
       "    }\n",
       "</style>\n",
       "<table border=\"1\" class=\"dataframe\">\n",
       "  <thead>\n",
       "    <tr style=\"text-align: right;\">\n",
       "      <th></th>\n",
       "      <th>Id</th>\n",
       "      <th>SepalLengthCm</th>\n",
       "      <th>SepalWidthCm</th>\n",
       "      <th>PetalLengthCm</th>\n",
       "      <th>PetalWidthCm</th>\n",
       "      <th>Species</th>\n",
       "    </tr>\n",
       "  </thead>\n",
       "  <tbody>\n",
       "    <tr>\n",
       "      <th>0</th>\n",
       "      <td>1</td>\n",
       "      <td>5.1</td>\n",
       "      <td>3.5</td>\n",
       "      <td>1.4</td>\n",
       "      <td>0.2</td>\n",
       "      <td>0</td>\n",
       "    </tr>\n",
       "    <tr>\n",
       "      <th>1</th>\n",
       "      <td>2</td>\n",
       "      <td>4.9</td>\n",
       "      <td>3.0</td>\n",
       "      <td>1.4</td>\n",
       "      <td>0.2</td>\n",
       "      <td>0</td>\n",
       "    </tr>\n",
       "    <tr>\n",
       "      <th>2</th>\n",
       "      <td>3</td>\n",
       "      <td>4.7</td>\n",
       "      <td>3.2</td>\n",
       "      <td>1.3</td>\n",
       "      <td>0.2</td>\n",
       "      <td>0</td>\n",
       "    </tr>\n",
       "    <tr>\n",
       "      <th>3</th>\n",
       "      <td>4</td>\n",
       "      <td>4.6</td>\n",
       "      <td>3.1</td>\n",
       "      <td>1.5</td>\n",
       "      <td>0.2</td>\n",
       "      <td>0</td>\n",
       "    </tr>\n",
       "    <tr>\n",
       "      <th>4</th>\n",
       "      <td>5</td>\n",
       "      <td>5.0</td>\n",
       "      <td>3.6</td>\n",
       "      <td>1.4</td>\n",
       "      <td>0.2</td>\n",
       "      <td>0</td>\n",
       "    </tr>\n",
       "  </tbody>\n",
       "</table>\n",
       "</div>"
      ],
      "text/plain": [
       "   Id  SepalLengthCm  SepalWidthCm  PetalLengthCm  PetalWidthCm  Species\n",
       "0   1            5.1           3.5            1.4           0.2        0\n",
       "1   2            4.9           3.0            1.4           0.2        0\n",
       "2   3            4.7           3.2            1.3           0.2        0\n",
       "3   4            4.6           3.1            1.5           0.2        0\n",
       "4   5            5.0           3.6            1.4           0.2        0"
      ]
     },
     "execution_count": 265,
     "metadata": {},
     "output_type": "execute_result"
    }
   ],
   "source": [
    "df.head()"
   ]
  },
  {
   "cell_type": "code",
   "execution_count": 266,
   "id": "80d3ccbc",
   "metadata": {},
   "outputs": [],
   "source": [
    "\n",
    "x=df.iloc[:,:-1]\n",
    "y=df.Species"
   ]
  },
  {
   "cell_type": "code",
   "execution_count": 267,
   "id": "dd571d72",
   "metadata": {},
   "outputs": [
    {
     "data": {
      "text/plain": [
       "((150, 5), (150,))"
      ]
     },
     "execution_count": 267,
     "metadata": {},
     "output_type": "execute_result"
    }
   ],
   "source": [
    "x.shape,y.shape"
   ]
  },
  {
   "cell_type": "code",
   "execution_count": 268,
   "id": "953eafa9",
   "metadata": {},
   "outputs": [],
   "source": [
    "from sklearn.model_selection import train_test_split\n",
    "x_train,x_test,y_train,y_test=train_test_split(x,y)\n"
   ]
  },
  {
   "cell_type": "code",
   "execution_count": 269,
   "id": "019c7802",
   "metadata": {},
   "outputs": [
    {
     "data": {
      "text/plain": [
       "KNeighborsClassifier(n_neighbors=3)"
      ]
     },
     "execution_count": 269,
     "metadata": {},
     "output_type": "execute_result"
    }
   ],
   "source": [
    "from sklearn.neighbors import KNeighborsClassifier\n",
    "model=KNeighborsClassifier(n_neighbors=3)\n",
    "model.fit(x_train,y_train)\n"
   ]
  },
  {
   "cell_type": "code",
   "execution_count": 270,
   "id": "a12b696f",
   "metadata": {},
   "outputs": [],
   "source": [
    "predict=model.predict(x_test)"
   ]
  },
  {
   "cell_type": "code",
   "execution_count": null,
   "id": "be129207",
   "metadata": {},
   "outputs": [],
   "source": []
  },
  {
   "cell_type": "code",
   "execution_count": 37,
   "id": "bb489c67",
   "metadata": {},
   "outputs": [
    {
     "data": {
      "text/plain": [
       "((112, 5), (112,))"
      ]
     },
     "execution_count": 37,
     "metadata": {},
     "output_type": "execute_result"
    }
   ],
   "source": [
    "x_train.shape,y_train.shape"
   ]
  },
  {
   "cell_type": "code",
   "execution_count": 38,
   "id": "498cc504",
   "metadata": {},
   "outputs": [
    {
     "data": {
      "text/plain": [
       "((38, 5), (38,))"
      ]
     },
     "execution_count": 38,
     "metadata": {},
     "output_type": "execute_result"
    }
   ],
   "source": [
    "\n",
    "x_test.shape,y_test.shape"
   ]
  },
  {
   "cell_type": "code",
   "execution_count": 39,
   "id": "7e0a6dc9",
   "metadata": {},
   "outputs": [],
   "source": [
    "from sklearn.metrics import accuracy_score,confusion_matrix"
   ]
  },
  {
   "cell_type": "code",
   "execution_count": 40,
   "id": "953bf6f0",
   "metadata": {},
   "outputs": [
    {
     "data": {
      "text/plain": [
       "1.0"
      ]
     },
     "execution_count": 40,
     "metadata": {},
     "output_type": "execute_result"
    }
   ],
   "source": [
    "accuracy_score(y_test,predict)"
   ]
  },
  {
   "cell_type": "code",
   "execution_count": 41,
   "id": "6e73cd82",
   "metadata": {},
   "outputs": [
    {
     "data": {
      "text/plain": [
       "array([[18,  0,  0],\n",
       "       [ 0,  9,  0],\n",
       "       [ 0,  0, 11]], dtype=int64)"
      ]
     },
     "execution_count": 41,
     "metadata": {},
     "output_type": "execute_result"
    }
   ],
   "source": [
    "confusion_matrix(y_test,predict)"
   ]
  },
  {
   "cell_type": "code",
   "execution_count": 42,
   "id": "73c90f65",
   "metadata": {},
   "outputs": [
    {
     "data": {
      "text/html": [
       "<div>\n",
       "<style scoped>\n",
       "    .dataframe tbody tr th:only-of-type {\n",
       "        vertical-align: middle;\n",
       "    }\n",
       "\n",
       "    .dataframe tbody tr th {\n",
       "        vertical-align: top;\n",
       "    }\n",
       "\n",
       "    .dataframe thead th {\n",
       "        text-align: right;\n",
       "    }\n",
       "</style>\n",
       "<table border=\"1\" class=\"dataframe\">\n",
       "  <thead>\n",
       "    <tr style=\"text-align: right;\">\n",
       "      <th>col_0</th>\n",
       "      <th>0</th>\n",
       "      <th>1</th>\n",
       "      <th>2</th>\n",
       "    </tr>\n",
       "    <tr>\n",
       "      <th>Species</th>\n",
       "      <th></th>\n",
       "      <th></th>\n",
       "      <th></th>\n",
       "    </tr>\n",
       "  </thead>\n",
       "  <tbody>\n",
       "    <tr>\n",
       "      <th>0</th>\n",
       "      <td>18</td>\n",
       "      <td>0</td>\n",
       "      <td>0</td>\n",
       "    </tr>\n",
       "    <tr>\n",
       "      <th>1</th>\n",
       "      <td>0</td>\n",
       "      <td>9</td>\n",
       "      <td>0</td>\n",
       "    </tr>\n",
       "    <tr>\n",
       "      <th>2</th>\n",
       "      <td>0</td>\n",
       "      <td>0</td>\n",
       "      <td>11</td>\n",
       "    </tr>\n",
       "  </tbody>\n",
       "</table>\n",
       "</div>"
      ],
      "text/plain": [
       "col_0     0  1   2\n",
       "Species           \n",
       "0        18  0   0\n",
       "1         0  9   0\n",
       "2         0  0  11"
      ]
     },
     "execution_count": 42,
     "metadata": {},
     "output_type": "execute_result"
    }
   ],
   "source": [
    "pd.crosstab(y_test,predict)"
   ]
  },
  {
   "cell_type": "code",
   "execution_count": 43,
   "id": "19686258",
   "metadata": {},
   "outputs": [],
   "source": [
    "from sklearn import datasets"
   ]
  },
  {
   "cell_type": "code",
   "execution_count": 44,
   "id": "cea6f91b",
   "metadata": {},
   "outputs": [],
   "source": [
    "mn=datasets.load_digits()"
   ]
  },
  {
   "cell_type": "code",
   "execution_count": 45,
   "id": "a687b56c",
   "metadata": {},
   "outputs": [
    {
     "data": {
      "text/plain": [
       "sklearn.utils.Bunch"
      ]
     },
     "execution_count": 45,
     "metadata": {},
     "output_type": "execute_result"
    }
   ],
   "source": [
    "type(mn)"
   ]
  },
  {
   "cell_type": "code",
   "execution_count": 46,
   "id": "53750647",
   "metadata": {},
   "outputs": [
    {
     "data": {
      "text/plain": [
       "dict_keys(['data', 'target', 'frame', 'feature_names', 'target_names', 'images', 'DESCR'])"
      ]
     },
     "execution_count": 46,
     "metadata": {},
     "output_type": "execute_result"
    }
   ],
   "source": [
    "\n",
    "mn.keys()"
   ]
  },
  {
   "cell_type": "code",
   "execution_count": 47,
   "id": "48ffcf47",
   "metadata": {},
   "outputs": [
    {
     "data": {
      "text/plain": [
       "(1797, 8, 8)"
      ]
     },
     "execution_count": 47,
     "metadata": {},
     "output_type": "execute_result"
    }
   ],
   "source": [
    "mn.images.shape"
   ]
  },
  {
   "cell_type": "code",
   "execution_count": 48,
   "id": "a1976a66",
   "metadata": {},
   "outputs": [],
   "source": [
    "x=mn.data\n",
    "y=mn.target"
   ]
  },
  {
   "cell_type": "code",
   "execution_count": 49,
   "id": "70a1d9e6",
   "metadata": {},
   "outputs": [],
   "source": [
    "mn_data=pd.DataFrame(x,columns=mn.feature_names)"
   ]
  },
  {
   "cell_type": "code",
   "execution_count": 50,
   "id": "5c97ef00",
   "metadata": {},
   "outputs": [
    {
     "data": {
      "text/html": [
       "<div>\n",
       "<style scoped>\n",
       "    .dataframe tbody tr th:only-of-type {\n",
       "        vertical-align: middle;\n",
       "    }\n",
       "\n",
       "    .dataframe tbody tr th {\n",
       "        vertical-align: top;\n",
       "    }\n",
       "\n",
       "    .dataframe thead th {\n",
       "        text-align: right;\n",
       "    }\n",
       "</style>\n",
       "<table border=\"1\" class=\"dataframe\">\n",
       "  <thead>\n",
       "    <tr style=\"text-align: right;\">\n",
       "      <th></th>\n",
       "      <th>pixel_0_0</th>\n",
       "      <th>pixel_0_1</th>\n",
       "      <th>pixel_0_2</th>\n",
       "      <th>pixel_0_3</th>\n",
       "      <th>pixel_0_4</th>\n",
       "      <th>pixel_0_5</th>\n",
       "      <th>pixel_0_6</th>\n",
       "      <th>pixel_0_7</th>\n",
       "      <th>pixel_1_0</th>\n",
       "      <th>pixel_1_1</th>\n",
       "      <th>...</th>\n",
       "      <th>pixel_6_6</th>\n",
       "      <th>pixel_6_7</th>\n",
       "      <th>pixel_7_0</th>\n",
       "      <th>pixel_7_1</th>\n",
       "      <th>pixel_7_2</th>\n",
       "      <th>pixel_7_3</th>\n",
       "      <th>pixel_7_4</th>\n",
       "      <th>pixel_7_5</th>\n",
       "      <th>pixel_7_6</th>\n",
       "      <th>pixel_7_7</th>\n",
       "    </tr>\n",
       "  </thead>\n",
       "  <tbody>\n",
       "    <tr>\n",
       "      <th>0</th>\n",
       "      <td>0.0</td>\n",
       "      <td>0.0</td>\n",
       "      <td>5.0</td>\n",
       "      <td>13.0</td>\n",
       "      <td>9.0</td>\n",
       "      <td>1.0</td>\n",
       "      <td>0.0</td>\n",
       "      <td>0.0</td>\n",
       "      <td>0.0</td>\n",
       "      <td>0.0</td>\n",
       "      <td>...</td>\n",
       "      <td>0.0</td>\n",
       "      <td>0.0</td>\n",
       "      <td>0.0</td>\n",
       "      <td>0.0</td>\n",
       "      <td>6.0</td>\n",
       "      <td>13.0</td>\n",
       "      <td>10.0</td>\n",
       "      <td>0.0</td>\n",
       "      <td>0.0</td>\n",
       "      <td>0.0</td>\n",
       "    </tr>\n",
       "    <tr>\n",
       "      <th>1</th>\n",
       "      <td>0.0</td>\n",
       "      <td>0.0</td>\n",
       "      <td>0.0</td>\n",
       "      <td>12.0</td>\n",
       "      <td>13.0</td>\n",
       "      <td>5.0</td>\n",
       "      <td>0.0</td>\n",
       "      <td>0.0</td>\n",
       "      <td>0.0</td>\n",
       "      <td>0.0</td>\n",
       "      <td>...</td>\n",
       "      <td>0.0</td>\n",
       "      <td>0.0</td>\n",
       "      <td>0.0</td>\n",
       "      <td>0.0</td>\n",
       "      <td>0.0</td>\n",
       "      <td>11.0</td>\n",
       "      <td>16.0</td>\n",
       "      <td>10.0</td>\n",
       "      <td>0.0</td>\n",
       "      <td>0.0</td>\n",
       "    </tr>\n",
       "    <tr>\n",
       "      <th>2</th>\n",
       "      <td>0.0</td>\n",
       "      <td>0.0</td>\n",
       "      <td>0.0</td>\n",
       "      <td>4.0</td>\n",
       "      <td>15.0</td>\n",
       "      <td>12.0</td>\n",
       "      <td>0.0</td>\n",
       "      <td>0.0</td>\n",
       "      <td>0.0</td>\n",
       "      <td>0.0</td>\n",
       "      <td>...</td>\n",
       "      <td>5.0</td>\n",
       "      <td>0.0</td>\n",
       "      <td>0.0</td>\n",
       "      <td>0.0</td>\n",
       "      <td>0.0</td>\n",
       "      <td>3.0</td>\n",
       "      <td>11.0</td>\n",
       "      <td>16.0</td>\n",
       "      <td>9.0</td>\n",
       "      <td>0.0</td>\n",
       "    </tr>\n",
       "    <tr>\n",
       "      <th>3</th>\n",
       "      <td>0.0</td>\n",
       "      <td>0.0</td>\n",
       "      <td>7.0</td>\n",
       "      <td>15.0</td>\n",
       "      <td>13.0</td>\n",
       "      <td>1.0</td>\n",
       "      <td>0.0</td>\n",
       "      <td>0.0</td>\n",
       "      <td>0.0</td>\n",
       "      <td>8.0</td>\n",
       "      <td>...</td>\n",
       "      <td>9.0</td>\n",
       "      <td>0.0</td>\n",
       "      <td>0.0</td>\n",
       "      <td>0.0</td>\n",
       "      <td>7.0</td>\n",
       "      <td>13.0</td>\n",
       "      <td>13.0</td>\n",
       "      <td>9.0</td>\n",
       "      <td>0.0</td>\n",
       "      <td>0.0</td>\n",
       "    </tr>\n",
       "    <tr>\n",
       "      <th>4</th>\n",
       "      <td>0.0</td>\n",
       "      <td>0.0</td>\n",
       "      <td>0.0</td>\n",
       "      <td>1.0</td>\n",
       "      <td>11.0</td>\n",
       "      <td>0.0</td>\n",
       "      <td>0.0</td>\n",
       "      <td>0.0</td>\n",
       "      <td>0.0</td>\n",
       "      <td>0.0</td>\n",
       "      <td>...</td>\n",
       "      <td>0.0</td>\n",
       "      <td>0.0</td>\n",
       "      <td>0.0</td>\n",
       "      <td>0.0</td>\n",
       "      <td>0.0</td>\n",
       "      <td>2.0</td>\n",
       "      <td>16.0</td>\n",
       "      <td>4.0</td>\n",
       "      <td>0.0</td>\n",
       "      <td>0.0</td>\n",
       "    </tr>\n",
       "  </tbody>\n",
       "</table>\n",
       "<p>5 rows × 64 columns</p>\n",
       "</div>"
      ],
      "text/plain": [
       "   pixel_0_0  pixel_0_1  pixel_0_2  pixel_0_3  pixel_0_4  pixel_0_5  \\\n",
       "0        0.0        0.0        5.0       13.0        9.0        1.0   \n",
       "1        0.0        0.0        0.0       12.0       13.0        5.0   \n",
       "2        0.0        0.0        0.0        4.0       15.0       12.0   \n",
       "3        0.0        0.0        7.0       15.0       13.0        1.0   \n",
       "4        0.0        0.0        0.0        1.0       11.0        0.0   \n",
       "\n",
       "   pixel_0_6  pixel_0_7  pixel_1_0  pixel_1_1  ...  pixel_6_6  pixel_6_7  \\\n",
       "0        0.0        0.0        0.0        0.0  ...        0.0        0.0   \n",
       "1        0.0        0.0        0.0        0.0  ...        0.0        0.0   \n",
       "2        0.0        0.0        0.0        0.0  ...        5.0        0.0   \n",
       "3        0.0        0.0        0.0        8.0  ...        9.0        0.0   \n",
       "4        0.0        0.0        0.0        0.0  ...        0.0        0.0   \n",
       "\n",
       "   pixel_7_0  pixel_7_1  pixel_7_2  pixel_7_3  pixel_7_4  pixel_7_5  \\\n",
       "0        0.0        0.0        6.0       13.0       10.0        0.0   \n",
       "1        0.0        0.0        0.0       11.0       16.0       10.0   \n",
       "2        0.0        0.0        0.0        3.0       11.0       16.0   \n",
       "3        0.0        0.0        7.0       13.0       13.0        9.0   \n",
       "4        0.0        0.0        0.0        2.0       16.0        4.0   \n",
       "\n",
       "   pixel_7_6  pixel_7_7  \n",
       "0        0.0        0.0  \n",
       "1        0.0        0.0  \n",
       "2        9.0        0.0  \n",
       "3        0.0        0.0  \n",
       "4        0.0        0.0  \n",
       "\n",
       "[5 rows x 64 columns]"
      ]
     },
     "execution_count": 50,
     "metadata": {},
     "output_type": "execute_result"
    }
   ],
   "source": [
    "mn_data.head()"
   ]
  },
  {
   "cell_type": "code",
   "execution_count": 51,
   "id": "2f23fcd3",
   "metadata": {},
   "outputs": [
    {
     "data": {
      "text/plain": [
       "array([0, 1, 2, ..., 8, 9, 8])"
      ]
     },
     "execution_count": 51,
     "metadata": {},
     "output_type": "execute_result"
    }
   ],
   "source": [
    "y"
   ]
  },
  {
   "cell_type": "code",
   "execution_count": 52,
   "id": "627003d3",
   "metadata": {},
   "outputs": [
    {
     "data": {
      "text/plain": [
       "(1797,)"
      ]
     },
     "execution_count": 52,
     "metadata": {},
     "output_type": "execute_result"
    }
   ],
   "source": [
    "y.shape"
   ]
  },
  {
   "cell_type": "code",
   "execution_count": 53,
   "id": "03890870",
   "metadata": {},
   "outputs": [
    {
     "data": {
      "text/plain": [
       "(1797, 64)"
      ]
     },
     "execution_count": 53,
     "metadata": {},
     "output_type": "execute_result"
    }
   ],
   "source": [
    "mn_data.shape"
   ]
  },
  {
   "cell_type": "code",
   "execution_count": 54,
   "id": "4c1e1a05",
   "metadata": {},
   "outputs": [],
   "source": [
    "from sklearn.model_selection import train_test_split\n",
    "x_train,x_test,y_train,y_test=train_test_split(mn_data,y,test_size=0.3)"
   ]
  },
  {
   "cell_type": "code",
   "execution_count": 55,
   "id": "733c175a",
   "metadata": {},
   "outputs": [
    {
     "name": "stdout",
     "output_type": "stream",
     "text": [
      "dict_keys(['data', 'target', 'frame', 'feature_names', 'target_names', 'images', 'DESCR'])\n"
     ]
    }
   ],
   "source": [
    "print(mn.keys())"
   ]
  },
  {
   "cell_type": "code",
   "execution_count": 56,
   "id": "c19dd43f",
   "metadata": {},
   "outputs": [
    {
     "data": {
      "image/png": "[encoded data removed]",
      "text/plain": [
       "<Figure size 432x288 with 1 Axes>"
      ]
     },
     "metadata": {
      "needs_background": "light"
     },
     "output_type": "display_data"
    }
   ],
   "source": [
    "plt.imshow(mn.images[1010], cmap=plt.cm.gray_r, interpolation='nearest')\n",
    "plt.show()"
   ]
  },
  {
   "cell_type": "code",
   "execution_count": 57,
   "id": "a8c5e1ba",
   "metadata": {},
   "outputs": [
    {
     "data": {
      "image/png": "[encoded data removed]",
      "text/plain": [
       "<Figure size 432x288 with 1 Axes>"
      ]
     },
     "metadata": {
      "needs_background": "light"
     },
     "output_type": "display_data"
    }
   ],
   "source": [
    "plt.imshow(mn.images[5],cmap=plt.cm.gray_r,interpolation='nearest')\n",
    "plt.show()"
   ]
  },
  {
   "cell_type": "code",
   "execution_count": 58,
   "id": "6d805039",
   "metadata": {},
   "outputs": [
    {
     "data": {
      "text/plain": [
       "array([[ 0.,  0.,  0., 12., 13.,  5.,  0.,  0.],\n",
       "       [ 0.,  0.,  0., 11., 16.,  9.,  0.,  0.],\n",
       "       [ 0.,  0.,  3., 15., 16.,  6.,  0.,  0.],\n",
       "       [ 0.,  7., 15., 16., 16.,  2.,  0.,  0.],\n",
       "       [ 0.,  0.,  1., 16., 16.,  3.,  0.,  0.],\n",
       "       [ 0.,  0.,  1., 16., 16.,  6.,  0.,  0.],\n",
       "       [ 0.,  0.,  1., 16., 16.,  6.,  0.,  0.],\n",
       "       [ 0.,  0.,  0., 11., 16., 10.,  0.,  0.]])"
      ]
     },
     "execution_count": 58,
     "metadata": {},
     "output_type": "execute_result"
    }
   ],
   "source": [
    "mn.images[1\n",
    "         ]"
   ]
  },
  {
   "cell_type": "code",
   "execution_count": 59,
   "id": "936e6b03",
   "metadata": {},
   "outputs": [
    {
     "data": {
      "text/plain": [
       "(1797, 8, 8)"
      ]
     },
     "execution_count": 59,
     "metadata": {},
     "output_type": "execute_result"
    }
   ],
   "source": [
    "mn.images.shape"
   ]
  },
  {
   "cell_type": "code",
   "execution_count": 60,
   "id": "cf20cef0",
   "metadata": {},
   "outputs": [
    {
     "data": {
      "text/plain": [
       "array([1, 2, 3, 4, 5, 6, 7, 8])"
      ]
     },
     "execution_count": 60,
     "metadata": {},
     "output_type": "execute_result"
    }
   ],
   "source": [
    "np.arange(1,9)"
   ]
  },
  {
   "cell_type": "code",
   "execution_count": 61,
   "id": "948ed913",
   "metadata": {},
   "outputs": [],
   "source": [
    "neighbors = np.arange(1, 9)\n",
    "train_accuracy = np.empty(len(neighbors))\n",
    "test_accuracy = np.empty(len(neighbors))"
   ]
  },
  {
   "cell_type": "code",
   "execution_count": 62,
   "id": "c227cc36",
   "metadata": {},
   "outputs": [
    {
     "data": {
      "text/plain": [
       "array([1, 2, 3, 4, 5, 6, 7, 8])"
      ]
     },
     "execution_count": 62,
     "metadata": {},
     "output_type": "execute_result"
    }
   ],
   "source": [
    "neighbors"
   ]
  },
  {
   "cell_type": "code",
   "execution_count": 63,
   "id": "477caa37",
   "metadata": {},
   "outputs": [
    {
     "data": {
      "text/plain": [
       "array([5.45361207e-312, 5.45361207e-312, 5.45361240e-312, 5.45361240e-312,\n",
       "       5.45361240e-312, 5.45361240e-312, 5.45361240e-312, 5.45361207e-312])"
      ]
     },
     "execution_count": 63,
     "metadata": {},
     "output_type": "execute_result"
    }
   ],
   "source": [
    "train_accuracy"
   ]
  },
  {
   "cell_type": "code",
   "execution_count": 64,
   "id": "9dd72a8f",
   "metadata": {},
   "outputs": [
    {
     "data": {
      "text/plain": [
       "array([0., 1., 2., 3., 4., 5., 6., 7.])"
      ]
     },
     "execution_count": 64,
     "metadata": {},
     "output_type": "execute_result"
    }
   ],
   "source": [
    "test_accuracy"
   ]
  },
  {
   "cell_type": "code",
   "execution_count": 65,
   "id": "bc5ffd16",
   "metadata": {},
   "outputs": [
    {
     "data": {
      "text/plain": [
       "array([4.24399158e-314, 4.94065646e-324, 2.12199579e-314, 4.24399158e-314,\n",
       "       2.12199579e-314, 2.12199579e-314, 4.94065646e-324, 0.00000000e+000,\n",
       "       0.00000000e+000, 4.24399158e-314, 9.88131292e-324, 4.94065646e-324,\n",
       "       4.24399158e-314, 9.88131292e-324, 9.88131292e-324, 4.24399158e-314,\n",
       "       4.24399158e-314, 0.00000000e+000, 4.24399158e-314])"
      ]
     },
     "execution_count": 65,
     "metadata": {},
     "output_type": "execute_result"
    }
   ],
   "source": [
    "np.empty(19)"
   ]
  },
  {
   "cell_type": "code",
   "execution_count": 66,
   "id": "e4f17899",
   "metadata": {},
   "outputs": [
    {
     "data": {
      "image/png": "[encoded data removed]",
      "text/plain": [
       "<Figure size 432x288 with 1 Axes>"
      ]
     },
     "metadata": {
      "needs_background": "light"
     },
     "output_type": "display_data"
    }
   ],
   "source": [
    "# Setup arrays to store train and test accuracies\n",
    "neighbors = np.arange(1, 9)\n",
    "train_accuracy = np.empty(len(neighbors))\n",
    "test_accuracy = np.empty(len(neighbors))\n",
    "\n",
    "# Loop over different values of k\n",
    "for i, k in enumerate(neighbors):\n",
    "    # Setup a k-NN Classifier with k neighbors: knn\n",
    "    knn = neighbors\n",
    "\n",
    "    # Fit the classifier to the training data\n",
    "    knn=KNeighborsClassifier(n_neighbors=k)\n",
    "    knn.fit(x_train,y_train)\n",
    "    #Compute accuracy on the training set\n",
    "    train_accuracy[i] = knn.score(x_train,y_train)\n",
    "\n",
    "    #Compute accuracy on the testing set\n",
    "    test_accuracy[i] = knn.score(x_test,y_test)\n",
    "\n",
    "# Generate plot\n",
    "plt.title('k-NN: Varying Number of Neighbors')\n",
    "plt.plot(neighbors, test_accuracy, label = 'Testing Accuracy')\n",
    "plt.plot(neighbors, train_accuracy, label = 'Training Accuracy')\n",
    "plt.legend()\n",
    "plt.xlabel('Number of Neighbors')\n",
    "plt.ylabel('Accuracy')\n",
    "plt.show()\n"
   ]
  },
  {
   "cell_type": "code",
   "execution_count": 151,
   "id": "63ae4f62",
   "metadata": {},
   "outputs": [],
   "source": [
    "data1=pd.read_csv('diabetes.csv')"
   ]
  },
  {
   "cell_type": "code",
   "execution_count": 152,
   "id": "6cd13555",
   "metadata": {},
   "outputs": [
    {
     "data": {
      "text/html": [
       "<div>\n",
       "<style scoped>\n",
       "    .dataframe tbody tr th:only-of-type {\n",
       "        vertical-align: middle;\n",
       "    }\n",
       "\n",
       "    .dataframe tbody tr th {\n",
       "        vertical-align: top;\n",
       "    }\n",
       "\n",
       "    .dataframe thead th {\n",
       "        text-align: right;\n",
       "    }\n",
       "</style>\n",
       "<table border=\"1\" class=\"dataframe\">\n",
       "  <thead>\n",
       "    <tr style=\"text-align: right;\">\n",
       "      <th></th>\n",
       "      <th>Pregnancies</th>\n",
       "      <th>Glucose</th>\n",
       "      <th>BloodPressure</th>\n",
       "      <th>SkinThickness</th>\n",
       "      <th>Insulin</th>\n",
       "      <th>BMI</th>\n",
       "      <th>DiabetesPedigreeFunction</th>\n",
       "      <th>Age</th>\n",
       "      <th>Outcome</th>\n",
       "    </tr>\n",
       "  </thead>\n",
       "  <tbody>\n",
       "    <tr>\n",
       "      <th>0</th>\n",
       "      <td>6</td>\n",
       "      <td>148</td>\n",
       "      <td>72</td>\n",
       "      <td>35</td>\n",
       "      <td>0</td>\n",
       "      <td>33.6</td>\n",
       "      <td>0.627</td>\n",
       "      <td>50</td>\n",
       "      <td>1</td>\n",
       "    </tr>\n",
       "    <tr>\n",
       "      <th>1</th>\n",
       "      <td>1</td>\n",
       "      <td>85</td>\n",
       "      <td>66</td>\n",
       "      <td>29</td>\n",
       "      <td>0</td>\n",
       "      <td>26.6</td>\n",
       "      <td>0.351</td>\n",
       "      <td>31</td>\n",
       "      <td>0</td>\n",
       "    </tr>\n",
       "    <tr>\n",
       "      <th>2</th>\n",
       "      <td>8</td>\n",
       "      <td>183</td>\n",
       "      <td>64</td>\n",
       "      <td>0</td>\n",
       "      <td>0</td>\n",
       "      <td>23.3</td>\n",
       "      <td>0.672</td>\n",
       "      <td>32</td>\n",
       "      <td>1</td>\n",
       "    </tr>\n",
       "    <tr>\n",
       "      <th>3</th>\n",
       "      <td>1</td>\n",
       "      <td>89</td>\n",
       "      <td>66</td>\n",
       "      <td>23</td>\n",
       "      <td>94</td>\n",
       "      <td>28.1</td>\n",
       "      <td>0.167</td>\n",
       "      <td>21</td>\n",
       "      <td>0</td>\n",
       "    </tr>\n",
       "    <tr>\n",
       "      <th>4</th>\n",
       "      <td>0</td>\n",
       "      <td>137</td>\n",
       "      <td>40</td>\n",
       "      <td>35</td>\n",
       "      <td>168</td>\n",
       "      <td>43.1</td>\n",
       "      <td>2.288</td>\n",
       "      <td>33</td>\n",
       "      <td>1</td>\n",
       "    </tr>\n",
       "  </tbody>\n",
       "</table>\n",
       "</div>"
      ],
      "text/plain": [
       "   Pregnancies  Glucose  BloodPressure  SkinThickness  Insulin   BMI  \\\n",
       "0            6      148             72             35        0  33.6   \n",
       "1            1       85             66             29        0  26.6   \n",
       "2            8      183             64              0        0  23.3   \n",
       "3            1       89             66             23       94  28.1   \n",
       "4            0      137             40             35      168  43.1   \n",
       "\n",
       "   DiabetesPedigreeFunction  Age  Outcome  \n",
       "0                     0.627   50        1  \n",
       "1                     0.351   31        0  \n",
       "2                     0.672   32        1  \n",
       "3                     0.167   21        0  \n",
       "4                     2.288   33        1  "
      ]
     },
     "execution_count": 152,
     "metadata": {},
     "output_type": "execute_result"
    }
   ],
   "source": [
    "data1.head()"
   ]
  },
  {
   "cell_type": "markdown",
   "id": "2c43a087",
   "metadata": {},
   "source": [
    "### For this question, consider “Blood Pressure” as dependent variable and Age as independent \n",
    "variable. Fit a linear regression model to predict “Blood Pressure” from Age. Repeat the "
   ]
  },
  {
   "cell_type": "code",
   "execution_count": 193,
   "id": "a2db0ca2",
   "metadata": {},
   "outputs": [],
   "source": [
    "age=data1.Age.values\n",
    "blood=data1.BloodPressure.values"
   ]
  },
  {
   "cell_type": "code",
   "execution_count": 194,
   "id": "744c34b8",
   "metadata": {},
   "outputs": [
    {
     "name": "stdout",
     "output_type": "stream",
     "text": [
      "[50 31 32 21 33 30 26 29 53 54 30 34 57 59 51 32 31 31 33 32 27 50 41 29\n",
      " 51 41 43 22 57 38 60 28 22 28 45 33 35 46 27 56 26 37 48 54 40 25 29 22\n",
      " 31 24 22 26 30 58 42 21 41 31 44 22 21 39 36 24 42 32 38 54 25 27 28 26\n",
      " 42 23 22 22 41 27 26 24 22 22 36 22 37 27 45 26 43 24 21 34 42 60 21 40\n",
      " 24 22 23 31 33 22 21 24 27 21 27 37 25 24 24 46 23 25 39 61 38 25 22 21\n",
      " 25 24 23 69 23 26 30 23 40 62 33 33 30 39 26 31 21 22 29 28 55 38 22 42\n",
      " 23 21 41 34 65 22 24 37 42 23 43 36 21 23 22 47 36 45 27 21 32 41 22 34\n",
      " 29 29 36 29 25 23 33 36 42 26 47 37 32 23 21 27 40 41 60 33 31 25 21 40\n",
      " 36 40 42 29 21 23 26 29 21 28 32 27 55 27 57 52 21 41 25 24 60 24 36 38\n",
      " 25 32 32 41 21 66 37 61 26 22 26 24 31 24 22 46 22 29 23 26 51 23 32 27\n",
      " 21 22 22 33 29 49 41 23 34 23 42 27 24 25 44 21 30 25 24 51 34 27 24 63\n",
      " 35 43 25 24 21 28 38 21 40 21 52 25 29 23 57 22 28 39 37 47 52 51 34 29\n",
      " 26 33 21 25 31 24 65 28 29 24 46 58 30 25 35 28 37 29 47 21 25 30 41 22\n",
      " 27 25 43 26 30 29 28 59 31 25 36 43 21 24 30 37 23 37 46 25 41 44 22 26\n",
      " 44 44 33 41 22 36 22 33 57 49 22 23 26 37 29 30 46 24 21 49 28 44 48 29\n",
      " 29 63 65 67 30 30 29 21 22 45 25 21 21 25 28 58 22 22 32 35 24 22 21 25\n",
      " 25 24 35 45 58 28 42 27 21 37 31 25 39 22 25 25 31 55 35 38 41 26 46 25\n",
      " 39 28 28 25 22 21 21 22 22 37 27 28 26 21 21 21 36 31 25 38 26 43 23 38\n",
      " 22 29 36 29 41 28 21 31 41 22 24 33 30 25 28 26 22 26 23 23 25 72 24 38\n",
      " 62 24 51 81 48 26 39 37 34 21 22 25 38 27 28 22 22 50 24 59 29 31 39 63\n",
      " 35 29 28 23 31 24 21 58 28 67 24 42 33 45 22 66 30 25 55 39 21 28 41 41\n",
      " 40 38 35 21 21 64 46 21 58 22 24 28 53 51 41 60 25 26 26 45 24 21 21 24\n",
      " 22 31 22 24 29 31 24 23 46 67 23 32 43 27 56 25 29 37 53 28 50 37 21 25\n",
      " 66 23 28 37 30 58 42 35 54 28 24 32 27 22 21 46 37 33 39 21 22 22 23 25\n",
      " 35 21 36 62 21 27 62 42 52 22 41 29 52 25 45 24 44 25 34 22 46 21 38 26\n",
      " 24 28 30 54 36 21 22 25 27 23 24 36 40 26 50 27 30 23 50 24 28 28 45 21\n",
      " 21 29 21 21 45 21 34 24 23 22 31 38 48 23 32 28 27 24 50 31 27 30 33 22\n",
      " 42 23 23 27 28 27 22 25 22 41 51 27 54 22 43 40 40 24 70 40 43 45 49 21\n",
      " 47 22 68 31 53 25 25 23 22 26 22 27 69 25 22 29 23 46 34 44 23 43 25 43\n",
      " 31 22 28 26 26 49 52 41 27 28 30 22 45 23 24 40 38 21 32 34 31 56 24 52\n",
      " 34 21 42 42 45 38 25 22 22 22 34 22 24 22 53 28 21 42 21 42 48 26 22 45\n",
      " 39 46 27 32 36 50 22 28 25 26 45 37 39 52 26 66 22 43 33 63 27 30 47 23]\n"
     ]
    }
   ],
   "source": [
    "\n",
    "age.shape,blood.shape\n",
    "print(age)\n"
   ]
  },
  {
   "cell_type": "code",
   "execution_count": 195,
   "id": "875d8282",
   "metadata": {},
   "outputs": [
    {
     "name": "stdout",
     "output_type": "stream",
     "text": [
      "1\n"
     ]
    }
   ],
   "source": [
    "print(age.ndim)"
   ]
  },
  {
   "cell_type": "code",
   "execution_count": 196,
   "id": "dc1fea01",
   "metadata": {},
   "outputs": [
    {
     "name": "stdout",
     "output_type": "stream",
     "text": [
      "[[50]\n",
      " [31]\n",
      " [32]\n",
      " [21]\n",
      " [33]\n",
      " [30]\n",
      " [26]\n",
      " [29]\n",
      " [53]\n",
      " [54]\n",
      " [30]\n",
      " [34]\n",
      " [57]\n",
      " [59]\n",
      " [51]\n",
      " [32]\n",
      " [31]\n",
      " [31]\n",
      " [33]\n",
      " [32]\n",
      " [27]\n",
      " [50]\n",
      " [41]\n",
      " [29]\n",
      " [51]\n",
      " [41]\n",
      " [43]\n",
      " [22]\n",
      " [57]\n",
      " [38]\n",
      " [60]\n",
      " [28]\n",
      " [22]\n",
      " [28]\n",
      " [45]\n",
      " [33]\n",
      " [35]\n",
      " [46]\n",
      " [27]\n",
      " [56]\n",
      " [26]\n",
      " [37]\n",
      " [48]\n",
      " [54]\n",
      " [40]\n",
      " [25]\n",
      " [29]\n",
      " [22]\n",
      " [31]\n",
      " [24]\n",
      " [22]\n",
      " [26]\n",
      " [30]\n",
      " [58]\n",
      " [42]\n",
      " [21]\n",
      " [41]\n",
      " [31]\n",
      " [44]\n",
      " [22]\n",
      " [21]\n",
      " [39]\n",
      " [36]\n",
      " [24]\n",
      " [42]\n",
      " [32]\n",
      " [38]\n",
      " [54]\n",
      " [25]\n",
      " [27]\n",
      " [28]\n",
      " [26]\n",
      " [42]\n",
      " [23]\n",
      " [22]\n",
      " [22]\n",
      " [41]\n",
      " [27]\n",
      " [26]\n",
      " [24]\n",
      " [22]\n",
      " [22]\n",
      " [36]\n",
      " [22]\n",
      " [37]\n",
      " [27]\n",
      " [45]\n",
      " [26]\n",
      " [43]\n",
      " [24]\n",
      " [21]\n",
      " [34]\n",
      " [42]\n",
      " [60]\n",
      " [21]\n",
      " [40]\n",
      " [24]\n",
      " [22]\n",
      " [23]\n",
      " [31]\n",
      " [33]\n",
      " [22]\n",
      " [21]\n",
      " [24]\n",
      " [27]\n",
      " [21]\n",
      " [27]\n",
      " [37]\n",
      " [25]\n",
      " [24]\n",
      " [24]\n",
      " [46]\n",
      " [23]\n",
      " [25]\n",
      " [39]\n",
      " [61]\n",
      " [38]\n",
      " [25]\n",
      " [22]\n",
      " [21]\n",
      " [25]\n",
      " [24]\n",
      " [23]\n",
      " [69]\n",
      " [23]\n",
      " [26]\n",
      " [30]\n",
      " [23]\n",
      " [40]\n",
      " [62]\n",
      " [33]\n",
      " [33]\n",
      " [30]\n",
      " [39]\n",
      " [26]\n",
      " [31]\n",
      " [21]\n",
      " [22]\n",
      " [29]\n",
      " [28]\n",
      " [55]\n",
      " [38]\n",
      " [22]\n",
      " [42]\n",
      " [23]\n",
      " [21]\n",
      " [41]\n",
      " [34]\n",
      " [65]\n",
      " [22]\n",
      " [24]\n",
      " [37]\n",
      " [42]\n",
      " [23]\n",
      " [43]\n",
      " [36]\n",
      " [21]\n",
      " [23]\n",
      " [22]\n",
      " [47]\n",
      " [36]\n",
      " [45]\n",
      " [27]\n",
      " [21]\n",
      " [32]\n",
      " [41]\n",
      " [22]\n",
      " [34]\n",
      " [29]\n",
      " [29]\n",
      " [36]\n",
      " [29]\n",
      " [25]\n",
      " [23]\n",
      " [33]\n",
      " [36]\n",
      " [42]\n",
      " [26]\n",
      " [47]\n",
      " [37]\n",
      " [32]\n",
      " [23]\n",
      " [21]\n",
      " [27]\n",
      " [40]\n",
      " [41]\n",
      " [60]\n",
      " [33]\n",
      " [31]\n",
      " [25]\n",
      " [21]\n",
      " [40]\n",
      " [36]\n",
      " [40]\n",
      " [42]\n",
      " [29]\n",
      " [21]\n",
      " [23]\n",
      " [26]\n",
      " [29]\n",
      " [21]\n",
      " [28]\n",
      " [32]\n",
      " [27]\n",
      " [55]\n",
      " [27]\n",
      " [57]\n",
      " [52]\n",
      " [21]\n",
      " [41]\n",
      " [25]\n",
      " [24]\n",
      " [60]\n",
      " [24]\n",
      " [36]\n",
      " [38]\n",
      " [25]\n",
      " [32]\n",
      " [32]\n",
      " [41]\n",
      " [21]\n",
      " [66]\n",
      " [37]\n",
      " [61]\n",
      " [26]\n",
      " [22]\n",
      " [26]\n",
      " [24]\n",
      " [31]\n",
      " [24]\n",
      " [22]\n",
      " [46]\n",
      " [22]\n",
      " [29]\n",
      " [23]\n",
      " [26]\n",
      " [51]\n",
      " [23]\n",
      " [32]\n",
      " [27]\n",
      " [21]\n",
      " [22]\n",
      " [22]\n",
      " [33]\n",
      " [29]\n",
      " [49]\n",
      " [41]\n",
      " [23]\n",
      " [34]\n",
      " [23]\n",
      " [42]\n",
      " [27]\n",
      " [24]\n",
      " [25]\n",
      " [44]\n",
      " [21]\n",
      " [30]\n",
      " [25]\n",
      " [24]\n",
      " [51]\n",
      " [34]\n",
      " [27]\n",
      " [24]\n",
      " [63]\n",
      " [35]\n",
      " [43]\n",
      " [25]\n",
      " [24]\n",
      " [21]\n",
      " [28]\n",
      " [38]\n",
      " [21]\n",
      " [40]\n",
      " [21]\n",
      " [52]\n",
      " [25]\n",
      " [29]\n",
      " [23]\n",
      " [57]\n",
      " [22]\n",
      " [28]\n",
      " [39]\n",
      " [37]\n",
      " [47]\n",
      " [52]\n",
      " [51]\n",
      " [34]\n",
      " [29]\n",
      " [26]\n",
      " [33]\n",
      " [21]\n",
      " [25]\n",
      " [31]\n",
      " [24]\n",
      " [65]\n",
      " [28]\n",
      " [29]\n",
      " [24]\n",
      " [46]\n",
      " [58]\n",
      " [30]\n",
      " [25]\n",
      " [35]\n",
      " [28]\n",
      " [37]\n",
      " [29]\n",
      " [47]\n",
      " [21]\n",
      " [25]\n",
      " [30]\n",
      " [41]\n",
      " [22]\n",
      " [27]\n",
      " [25]\n",
      " [43]\n",
      " [26]\n",
      " [30]\n",
      " [29]\n",
      " [28]\n",
      " [59]\n",
      " [31]\n",
      " [25]\n",
      " [36]\n",
      " [43]\n",
      " [21]\n",
      " [24]\n",
      " [30]\n",
      " [37]\n",
      " [23]\n",
      " [37]\n",
      " [46]\n",
      " [25]\n",
      " [41]\n",
      " [44]\n",
      " [22]\n",
      " [26]\n",
      " [44]\n",
      " [44]\n",
      " [33]\n",
      " [41]\n",
      " [22]\n",
      " [36]\n",
      " [22]\n",
      " [33]\n",
      " [57]\n",
      " [49]\n",
      " [22]\n",
      " [23]\n",
      " [26]\n",
      " [37]\n",
      " [29]\n",
      " [30]\n",
      " [46]\n",
      " [24]\n",
      " [21]\n",
      " [49]\n",
      " [28]\n",
      " [44]\n",
      " [48]\n",
      " [29]\n",
      " [29]\n",
      " [63]\n",
      " [65]\n",
      " [67]\n",
      " [30]\n",
      " [30]\n",
      " [29]\n",
      " [21]\n",
      " [22]\n",
      " [45]\n",
      " [25]\n",
      " [21]\n",
      " [21]\n",
      " [25]\n",
      " [28]\n",
      " [58]\n",
      " [22]\n",
      " [22]\n",
      " [32]\n",
      " [35]\n",
      " [24]\n",
      " [22]\n",
      " [21]\n",
      " [25]\n",
      " [25]\n",
      " [24]\n",
      " [35]\n",
      " [45]\n",
      " [58]\n",
      " [28]\n",
      " [42]\n",
      " [27]\n",
      " [21]\n",
      " [37]\n",
      " [31]\n",
      " [25]\n",
      " [39]\n",
      " [22]\n",
      " [25]\n",
      " [25]\n",
      " [31]\n",
      " [55]\n",
      " [35]\n",
      " [38]\n",
      " [41]\n",
      " [26]\n",
      " [46]\n",
      " [25]\n",
      " [39]\n",
      " [28]\n",
      " [28]\n",
      " [25]\n",
      " [22]\n",
      " [21]\n",
      " [21]\n",
      " [22]\n",
      " [22]\n",
      " [37]\n",
      " [27]\n",
      " [28]\n",
      " [26]\n",
      " [21]\n",
      " [21]\n",
      " [21]\n",
      " [36]\n",
      " [31]\n",
      " [25]\n",
      " [38]\n",
      " [26]\n",
      " [43]\n",
      " [23]\n",
      " [38]\n",
      " [22]\n",
      " [29]\n",
      " [36]\n",
      " [29]\n",
      " [41]\n",
      " [28]\n",
      " [21]\n",
      " [31]\n",
      " [41]\n",
      " [22]\n",
      " [24]\n",
      " [33]\n",
      " [30]\n",
      " [25]\n",
      " [28]\n",
      " [26]\n",
      " [22]\n",
      " [26]\n",
      " [23]\n",
      " [23]\n",
      " [25]\n",
      " [72]\n",
      " [24]\n",
      " [38]\n",
      " [62]\n",
      " [24]\n",
      " [51]\n",
      " [81]\n",
      " [48]\n",
      " [26]\n",
      " [39]\n",
      " [37]\n",
      " [34]\n",
      " [21]\n",
      " [22]\n",
      " [25]\n",
      " [38]\n",
      " [27]\n",
      " [28]\n",
      " [22]\n",
      " [22]\n",
      " [50]\n",
      " [24]\n",
      " [59]\n",
      " [29]\n",
      " [31]\n",
      " [39]\n",
      " [63]\n",
      " [35]\n",
      " [29]\n",
      " [28]\n",
      " [23]\n",
      " [31]\n",
      " [24]\n",
      " [21]\n",
      " [58]\n",
      " [28]\n",
      " [67]\n",
      " [24]\n",
      " [42]\n",
      " [33]\n",
      " [45]\n",
      " [22]\n",
      " [66]\n",
      " [30]\n",
      " [25]\n",
      " [55]\n",
      " [39]\n",
      " [21]\n",
      " [28]\n",
      " [41]\n",
      " [41]\n",
      " [40]\n",
      " [38]\n",
      " [35]\n",
      " [21]\n",
      " [21]\n",
      " [64]\n",
      " [46]\n",
      " [21]\n",
      " [58]\n",
      " [22]\n",
      " [24]\n",
      " [28]\n",
      " [53]\n",
      " [51]\n",
      " [41]\n",
      " [60]\n",
      " [25]\n",
      " [26]\n",
      " [26]\n",
      " [45]\n",
      " [24]\n",
      " [21]\n",
      " [21]\n",
      " [24]\n",
      " [22]\n",
      " [31]\n",
      " [22]\n",
      " [24]\n",
      " [29]\n",
      " [31]\n",
      " [24]\n",
      " [23]\n",
      " [46]\n",
      " [67]\n",
      " [23]\n",
      " [32]\n",
      " [43]\n",
      " [27]\n",
      " [56]\n",
      " [25]\n",
      " [29]\n",
      " [37]\n",
      " [53]\n",
      " [28]\n",
      " [50]\n",
      " [37]\n",
      " [21]\n",
      " [25]\n",
      " [66]\n",
      " [23]\n",
      " [28]\n",
      " [37]\n",
      " [30]\n",
      " [58]\n",
      " [42]\n",
      " [35]\n",
      " [54]\n",
      " [28]\n",
      " [24]\n",
      " [32]\n",
      " [27]\n",
      " [22]\n",
      " [21]\n",
      " [46]\n",
      " [37]\n",
      " [33]\n",
      " [39]\n",
      " [21]\n",
      " [22]\n",
      " [22]\n",
      " [23]\n",
      " [25]\n",
      " [35]\n",
      " [21]\n",
      " [36]\n",
      " [62]\n",
      " [21]\n",
      " [27]\n",
      " [62]\n",
      " [42]\n",
      " [52]\n",
      " [22]\n",
      " [41]\n",
      " [29]\n",
      " [52]\n",
      " [25]\n",
      " [45]\n",
      " [24]\n",
      " [44]\n",
      " [25]\n",
      " [34]\n",
      " [22]\n",
      " [46]\n",
      " [21]\n",
      " [38]\n",
      " [26]\n",
      " [24]\n",
      " [28]\n",
      " [30]\n",
      " [54]\n",
      " [36]\n",
      " [21]\n",
      " [22]\n",
      " [25]\n",
      " [27]\n",
      " [23]\n",
      " [24]\n",
      " [36]\n",
      " [40]\n",
      " [26]\n",
      " [50]\n",
      " [27]\n",
      " [30]\n",
      " [23]\n",
      " [50]\n",
      " [24]\n",
      " [28]\n",
      " [28]\n",
      " [45]\n",
      " [21]\n",
      " [21]\n",
      " [29]\n",
      " [21]\n",
      " [21]\n",
      " [45]\n",
      " [21]\n",
      " [34]\n",
      " [24]\n",
      " [23]\n",
      " [22]\n",
      " [31]\n",
      " [38]\n",
      " [48]\n",
      " [23]\n",
      " [32]\n",
      " [28]\n",
      " [27]\n",
      " [24]\n",
      " [50]\n",
      " [31]\n",
      " [27]\n",
      " [30]\n",
      " [33]\n",
      " [22]\n",
      " [42]\n",
      " [23]\n",
      " [23]\n",
      " [27]\n",
      " [28]\n",
      " [27]\n",
      " [22]\n",
      " [25]\n",
      " [22]\n",
      " [41]\n",
      " [51]\n",
      " [27]\n",
      " [54]\n",
      " [22]\n",
      " [43]\n",
      " [40]\n",
      " [40]\n",
      " [24]\n",
      " [70]\n",
      " [40]\n",
      " [43]\n",
      " [45]\n",
      " [49]\n",
      " [21]\n",
      " [47]\n",
      " [22]\n",
      " [68]\n",
      " [31]\n",
      " [53]\n",
      " [25]\n",
      " [25]\n",
      " [23]\n",
      " [22]\n",
      " [26]\n",
      " [22]\n",
      " [27]\n",
      " [69]\n",
      " [25]\n",
      " [22]\n",
      " [29]\n",
      " [23]\n",
      " [46]\n",
      " [34]\n",
      " [44]\n",
      " [23]\n",
      " [43]\n",
      " [25]\n",
      " [43]\n",
      " [31]\n",
      " [22]\n",
      " [28]\n",
      " [26]\n",
      " [26]\n",
      " [49]\n",
      " [52]\n",
      " [41]\n",
      " [27]\n",
      " [28]\n",
      " [30]\n",
      " [22]\n",
      " [45]\n",
      " [23]\n",
      " [24]\n",
      " [40]\n",
      " [38]\n",
      " [21]\n",
      " [32]\n",
      " [34]\n",
      " [31]\n",
      " [56]\n",
      " [24]\n",
      " [52]\n",
      " [34]\n",
      " [21]\n",
      " [42]\n",
      " [42]\n",
      " [45]\n",
      " [38]\n",
      " [25]\n",
      " [22]\n",
      " [22]\n",
      " [22]\n",
      " [34]\n",
      " [22]\n",
      " [24]\n",
      " [22]\n",
      " [53]\n",
      " [28]\n",
      " [21]\n",
      " [42]\n",
      " [21]\n",
      " [42]\n",
      " [48]\n",
      " [26]\n",
      " [22]\n",
      " [45]\n",
      " [39]\n",
      " [46]\n",
      " [27]\n",
      " [32]\n",
      " [36]\n",
      " [50]\n",
      " [22]\n",
      " [28]\n",
      " [25]\n",
      " [26]\n",
      " [45]\n",
      " [37]\n",
      " [39]\n",
      " [52]\n",
      " [26]\n",
      " [66]\n",
      " [22]\n",
      " [43]\n",
      " [33]\n",
      " [63]\n",
      " [27]\n",
      " [30]\n",
      " [47]\n",
      " [23]]\n"
     ]
    }
   ],
   "source": [
    "age=age.reshape(-1,1)\n",
    "blood=blood.reshape(-1,1)\n",
    "print(age)"
   ]
  },
  {
   "cell_type": "code",
   "execution_count": 197,
   "id": "f97dc697",
   "metadata": {},
   "outputs": [
    {
     "name": "stdout",
     "output_type": "stream",
     "text": [
      "2\n"
     ]
    }
   ],
   "source": [
    "print(age.ndim)"
   ]
  },
  {
   "cell_type": "code",
   "execution_count": 198,
   "id": "993a6e40",
   "metadata": {},
   "outputs": [
    {
     "data": {
      "text/plain": [
       "((768, 1), (768, 1))"
      ]
     },
     "execution_count": 198,
     "metadata": {},
     "output_type": "execute_result"
    }
   ],
   "source": [
    "age.shape,blood.shape"
   ]
  },
  {
   "cell_type": "code",
   "execution_count": 199,
   "id": "72105b43",
   "metadata": {},
   "outputs": [
    {
     "data": {
      "image/png": "[encoded data removed]",
      "text/plain": [
       "<Figure size 432x288 with 1 Axes>"
      ]
     },
     "metadata": {
      "needs_background": "light"
     },
     "output_type": "display_data"
    }
   ],
   "source": [
    "plt.scatter(age,blood)\n",
    "plt.xlabel('age')\n",
    "plt.ylabel('bloodpressure')\n",
    "plt.show()"
   ]
  },
  {
   "cell_type": "code",
   "execution_count": 200,
   "id": "55219cc1",
   "metadata": {},
   "outputs": [
    {
     "data": {
      "text/plain": [
       "LinearRegression()"
      ]
     },
     "execution_count": 200,
     "metadata": {},
     "output_type": "execute_result"
    }
   ],
   "source": [
    "from sklearn.linear_model import LinearRegression\n",
    "reg=LinearRegression()\n",
    "reg.fit(age,blood)"
   ]
  },
  {
   "cell_type": "code",
   "execution_count": 224,
   "id": "7a14533f",
   "metadata": {},
   "outputs": [],
   "source": [
    "prediction_space=np.linspace(min(age),max(age)).reshape(-1,1)"
   ]
  },
  {
   "cell_type": "code",
   "execution_count": 225,
   "id": "c05ad6c7",
   "metadata": {},
   "outputs": [
    {
     "data": {
      "text/plain": [
       "array([[21.        ],\n",
       "       [22.2244898 ],\n",
       "       [23.44897959],\n",
       "       [24.67346939],\n",
       "       [25.89795918],\n",
       "       [27.12244898],\n",
       "       [28.34693878],\n",
       "       [29.57142857],\n",
       "       [30.79591837],\n",
       "       [32.02040816],\n",
       "       [33.24489796],\n",
       "       [34.46938776],\n",
       "       [35.69387755],\n",
       "       [36.91836735],\n",
       "       [38.14285714],\n",
       "       [39.36734694],\n",
       "       [40.59183673],\n",
       "       [41.81632653],\n",
       "       [43.04081633],\n",
       "       [44.26530612],\n",
       "       [45.48979592],\n",
       "       [46.71428571],\n",
       "       [47.93877551],\n",
       "       [49.16326531],\n",
       "       [50.3877551 ],\n",
       "       [51.6122449 ],\n",
       "       [52.83673469],\n",
       "       [54.06122449],\n",
       "       [55.28571429],\n",
       "       [56.51020408],\n",
       "       [57.73469388],\n",
       "       [58.95918367],\n",
       "       [60.18367347],\n",
       "       [61.40816327],\n",
       "       [62.63265306],\n",
       "       [63.85714286],\n",
       "       [65.08163265],\n",
       "       [66.30612245],\n",
       "       [67.53061224],\n",
       "       [68.75510204],\n",
       "       [69.97959184],\n",
       "       [71.20408163],\n",
       "       [72.42857143],\n",
       "       [73.65306122],\n",
       "       [74.87755102],\n",
       "       [76.10204082],\n",
       "       [77.32653061],\n",
       "       [78.55102041],\n",
       "       [79.7755102 ],\n",
       "       [81.        ]])"
      ]
     },
     "execution_count": 225,
     "metadata": {},
     "output_type": "execute_result"
    }
   ],
   "source": [
    "prediction_space"
   ]
  },
  {
   "cell_type": "code",
   "execution_count": 226,
   "id": "4671d110",
   "metadata": {},
   "outputs": [
    {
     "data": {
      "image/png": "[encoded data removed]",
      "text/plain": [
       "<Figure size 432x288 with 1 Axes>"
      ]
     },
     "metadata": {
      "needs_background": "light"
     },
     "output_type": "display_data"
    }
   ],
   "source": [
    "plt.scatter(age,blood,color='blue')\n",
    "plt.plot(prediction_space,reg.predict(prediction_space),color='red',linewidth=3)\n",
    "\n",
    "plt.show()"
   ]
  },
  {
   "cell_type": "code",
   "execution_count": 215,
   "id": "41f087fc",
   "metadata": {},
   "outputs": [
    {
     "data": {
      "text/html": [
       "<div>\n",
       "<style scoped>\n",
       "    .dataframe tbody tr th:only-of-type {\n",
       "        vertical-align: middle;\n",
       "    }\n",
       "\n",
       "    .dataframe tbody tr th {\n",
       "        vertical-align: top;\n",
       "    }\n",
       "\n",
       "    .dataframe thead th {\n",
       "        text-align: right;\n",
       "    }\n",
       "</style>\n",
       "<table border=\"1\" class=\"dataframe\">\n",
       "  <thead>\n",
       "    <tr style=\"text-align: right;\">\n",
       "      <th></th>\n",
       "      <th>Pregnancies</th>\n",
       "      <th>Glucose</th>\n",
       "      <th>BloodPressure</th>\n",
       "      <th>SkinThickness</th>\n",
       "      <th>Insulin</th>\n",
       "      <th>BMI</th>\n",
       "      <th>DiabetesPedigreeFunction</th>\n",
       "      <th>Age</th>\n",
       "      <th>Outcome</th>\n",
       "    </tr>\n",
       "  </thead>\n",
       "  <tbody>\n",
       "    <tr>\n",
       "      <th>0</th>\n",
       "      <td>6</td>\n",
       "      <td>148</td>\n",
       "      <td>72</td>\n",
       "      <td>35</td>\n",
       "      <td>0</td>\n",
       "      <td>33.6</td>\n",
       "      <td>0.627</td>\n",
       "      <td>50</td>\n",
       "      <td>1</td>\n",
       "    </tr>\n",
       "    <tr>\n",
       "      <th>1</th>\n",
       "      <td>1</td>\n",
       "      <td>85</td>\n",
       "      <td>66</td>\n",
       "      <td>29</td>\n",
       "      <td>0</td>\n",
       "      <td>26.6</td>\n",
       "      <td>0.351</td>\n",
       "      <td>31</td>\n",
       "      <td>0</td>\n",
       "    </tr>\n",
       "    <tr>\n",
       "      <th>2</th>\n",
       "      <td>8</td>\n",
       "      <td>183</td>\n",
       "      <td>64</td>\n",
       "      <td>0</td>\n",
       "      <td>0</td>\n",
       "      <td>23.3</td>\n",
       "      <td>0.672</td>\n",
       "      <td>32</td>\n",
       "      <td>1</td>\n",
       "    </tr>\n",
       "    <tr>\n",
       "      <th>3</th>\n",
       "      <td>1</td>\n",
       "      <td>89</td>\n",
       "      <td>66</td>\n",
       "      <td>23</td>\n",
       "      <td>94</td>\n",
       "      <td>28.1</td>\n",
       "      <td>0.167</td>\n",
       "      <td>21</td>\n",
       "      <td>0</td>\n",
       "    </tr>\n",
       "    <tr>\n",
       "      <th>4</th>\n",
       "      <td>0</td>\n",
       "      <td>137</td>\n",
       "      <td>40</td>\n",
       "      <td>35</td>\n",
       "      <td>168</td>\n",
       "      <td>43.1</td>\n",
       "      <td>2.288</td>\n",
       "      <td>33</td>\n",
       "      <td>1</td>\n",
       "    </tr>\n",
       "  </tbody>\n",
       "</table>\n",
       "</div>"
      ],
      "text/plain": [
       "   Pregnancies  Glucose  BloodPressure  SkinThickness  Insulin   BMI  \\\n",
       "0            6      148             72             35        0  33.6   \n",
       "1            1       85             66             29        0  26.6   \n",
       "2            8      183             64              0        0  23.3   \n",
       "3            1       89             66             23       94  28.1   \n",
       "4            0      137             40             35      168  43.1   \n",
       "\n",
       "   DiabetesPedigreeFunction  Age  Outcome  \n",
       "0                     0.627   50        1  \n",
       "1                     0.351   31        0  \n",
       "2                     0.672   32        1  \n",
       "3                     0.167   21        0  \n",
       "4                     2.288   33        1  "
      ]
     },
     "execution_count": 215,
     "metadata": {},
     "output_type": "execute_result"
    }
   ],
   "source": [
    "data1.head()"
   ]
  },
  {
   "cell_type": "code",
   "execution_count": 216,
   "id": "9119a854",
   "metadata": {},
   "outputs": [
    {
     "data": {
      "text/plain": [
       "<AxesSubplot:>"
      ]
     },
     "execution_count": 216,
     "metadata": {},
     "output_type": "execute_result"
    },
    {
     "data": {
      "image/png": "[encoded data removed]",
      "text/plain": [
       "<Figure size 432x288 with 2 Axes>"
      ]
     },
     "metadata": {
      "needs_background": "light"
     },
     "output_type": "display_data"
    }
   ],
   "source": [
    "sns.heatmap(data1.corr(),annot=True,square=True)"
   ]
  },
  {
   "cell_type": "markdown",
   "id": "b8a4c3a7",
   "metadata": {},
   "source": [
    "# cross validation"
   ]
  },
  {
   "cell_type": "code",
   "execution_count": 227,
   "id": "6a34628a",
   "metadata": {},
   "outputs": [],
   "source": [
    "from sklearn.model_selection import cross_val_score\n",
    "from sklearn.linear_model import LinearRegression\n",
    "reg=LinearRegression()"
   ]
  },
  {
   "cell_type": "code",
   "execution_count": 228,
   "id": "8c90536d",
   "metadata": {},
   "outputs": [],
   "source": [
    "folds=cross_val_score(reg,age,blood,cv=5)"
   ]
  },
  {
   "cell_type": "code",
   "execution_count": 229,
   "id": "8c6f72c3",
   "metadata": {},
   "outputs": [
    {
     "data": {
      "text/plain": [
       "array([ 0.10060164,  0.01920275, -0.0261824 ,  0.06445822,  0.06902447])"
      ]
     },
     "execution_count": 229,
     "metadata": {},
     "output_type": "execute_result"
    }
   ],
   "source": [
    "folds"
   ]
  },
  {
   "cell_type": "code",
   "execution_count": 230,
   "id": "1ae5be4f",
   "metadata": {},
   "outputs": [
    {
     "data": {
      "text/plain": [
       "0.04542093579296225"
      ]
     },
     "execution_count": 230,
     "metadata": {},
     "output_type": "execute_result"
    }
   ],
   "source": [
    "folds.mean()"
   ]
  },
  {
   "cell_type": "code",
   "execution_count": 231,
   "id": "3d531b05",
   "metadata": {},
   "outputs": [
    {
     "data": {
      "text/plain": [
       "0.04542093579296225"
      ]
     },
     "execution_count": 231,
     "metadata": {},
     "output_type": "execute_result"
    }
   ],
   "source": [
    "np.mean(folds)"
   ]
  },
  {
   "cell_type": "code",
   "execution_count": 271,
   "id": "bab79d14",
   "metadata": {},
   "outputs": [],
   "source": [
    "from sklearn.linear_model import Ridge"
   ]
  },
  {
   "cell_type": "code",
   "execution_count": 272,
   "id": "1ba118ff",
   "metadata": {},
   "outputs": [],
   "source": [
    "Ridge=Ridge(alpha=0.3,normalize=True)"
   ]
  },
  {
   "cell_type": "code",
   "execution_count": 274,
   "id": "44ffcfb3",
   "metadata": {},
   "outputs": [
    {
     "data": {
      "text/plain": [
       "Ridge(alpha=0.3, normalize=True)"
      ]
     },
     "execution_count": 274,
     "metadata": {},
     "output_type": "execute_result"
    }
   ],
   "source": [
    "Ridge.fit(x_train,y_train)"
   ]
  },
  {
   "cell_type": "code",
   "execution_count": 276,
   "id": "88d5df58",
   "metadata": {},
   "outputs": [],
   "source": [
    "ridge_pred=Ridge.predict(x_test)"
   ]
  },
  {
   "cell_type": "code",
   "execution_count": 277,
   "id": "813e72bd",
   "metadata": {},
   "outputs": [
    {
     "data": {
      "text/plain": [
       "array([ 1.3497991 ,  1.41329716,  1.16230914,  1.32114462, -0.03247043,\n",
       "        1.06947373,  1.2248358 ,  1.1612972 ,  1.72496624, -0.05335357,\n",
       "        1.53318885,  0.0791376 , -0.04437211,  1.95000356,  1.86312597,\n",
       "        1.89180817,  1.35317169,  1.64451713,  0.11670931,  1.7989948 ,\n",
       "        1.11349144,  0.24832412,  0.13691704, -0.10449584,  1.83818201,\n",
       "        1.24183206,  2.20435885,  1.06967713,  1.9647124 ,  0.10680295,\n",
       "        1.63388948,  1.80820895,  0.99573912,  1.21919783,  1.96723403,\n",
       "       -0.11021612,  0.25343516,  1.16260992])"
      ]
     },
     "execution_count": 277,
     "metadata": {},
     "output_type": "execute_result"
    }
   ],
   "source": [
    "ridge_pred"
   ]
  },
  {
   "cell_type": "code",
   "execution_count": 279,
   "id": "f58ed319",
   "metadata": {},
   "outputs": [
    {
     "data": {
      "text/plain": [
       "0.9184624769446366"
      ]
     },
     "execution_count": 279,
     "metadata": {},
     "output_type": "execute_result"
    }
   ],
   "source": [
    "Ridge.score(x_test,y_test)"
   ]
  },
  {
   "cell_type": "code",
   "execution_count": 280,
   "id": "1d557eb3",
   "metadata": {},
   "outputs": [],
   "source": [
    "from sklearn.linear_model import Lasso"
   ]
  },
  {
   "cell_type": "code",
   "execution_count": 281,
   "id": "80d8ffc5",
   "metadata": {},
   "outputs": [],
   "source": [
    "lasso=Lasso(alpha=0.3,normalize=True)"
   ]
  },
  {
   "cell_type": "code",
   "execution_count": 282,
   "id": "0e585c54",
   "metadata": {},
   "outputs": [
    {
     "data": {
      "text/plain": [
       "Lasso(alpha=0.3, normalize=True)"
      ]
     },
     "execution_count": 282,
     "metadata": {},
     "output_type": "execute_result"
    }
   ],
   "source": [
    "lasso.fit(x_train,y_train)"
   ]
  },
  {
   "cell_type": "code",
   "execution_count": 283,
   "id": "8c10e86d",
   "metadata": {},
   "outputs": [],
   "source": [
    "lasso_pred=lasso.predict(x_test)"
   ]
  },
  {
   "cell_type": "code",
   "execution_count": 284,
   "id": "28588a41",
   "metadata": {},
   "outputs": [
    {
     "data": {
      "text/plain": [
       "array([0.97321429, 0.97321429, 0.97321429, 0.97321429, 0.97321429,\n",
       "       0.97321429, 0.97321429, 0.97321429, 0.97321429, 0.97321429,\n",
       "       0.97321429, 0.97321429, 0.97321429, 0.97321429, 0.97321429,\n",
       "       0.97321429, 0.97321429, 0.97321429, 0.97321429, 0.97321429,\n",
       "       0.97321429, 0.97321429, 0.97321429, 0.97321429, 0.97321429,\n",
       "       0.97321429, 0.97321429, 0.97321429, 0.97321429, 0.97321429,\n",
       "       0.97321429, 0.97321429, 0.97321429, 0.97321429, 0.97321429,\n",
       "       0.97321429, 0.97321429, 0.97321429])"
      ]
     },
     "execution_count": 284,
     "metadata": {},
     "output_type": "execute_result"
    }
   ],
   "source": [
    "lasso_pred"
   ]
  },
  {
   "cell_type": "code",
   "execution_count": 287,
   "id": "50e28df4",
   "metadata": {},
   "outputs": [
    {
     "data": {
      "text/plain": [
       "-0.017155341148148873"
      ]
     },
     "execution_count": 287,
     "metadata": {},
     "output_type": "execute_result"
    }
   ],
   "source": [
    "lasso.score(x_test,y_test)"
   ]
  },
  {
   "cell_type": "markdown",
   "id": "536068f8",
   "metadata": {},
   "source": [
    "# lasso and ridge "
   ]
  },
  {
   "cell_type": "raw",
   "id": "5bab0906",
   "metadata": {},
   "source": [
    "# Import Lasso\n",
    "from sklearn.linear_model import Lasso\n",
    "\n",
    "# Instantiate a lasso regressor: lasso\n",
    "lasso = Lasso(alpha=0.4,normalize=True)\n",
    "\n",
    "# Fit the regressor to the data\n",
    "lasso.fit(X,y)\n",
    "\n",
    "# Compute and print the coefficients\n",
    "lasso_coef = lasso.fit(X,y).coef_\n",
    "print(lasso_coef)\n",
    "\n",
    "# Plot the coefficients\n",
    "plt.plot(range(len(df_columns)), lasso_coef)\n",
    "plt.xticks(range(len(df_columns)), df_columns.values, rotation=60)\n",
    "plt.margins(0.02)\n",
    "plt.show()\n"
   ]
  },
  {
   "cell_type": "raw",
   "id": "390a4066",
   "metadata": {},
   "source": [
    "# Import necessary modules\n",
    "from sklearn.linear_model import Ridge\n",
    "from sklearn.model_selection import cross_val_score\n",
    "\n",
    "# Setup the array of alphas and lists to store scores\n",
    "alpha_space = np.logspace(-4, 0, 50)\n",
    "ridge_scores = []\n",
    "ridge_scores_std = []\n",
    "\n",
    "# Create a ridge regressor: ridge\n",
    "ridge = Ridge(normalize=True)\n",
    "\n",
    "# Compute scores over range of alphas\n",
    "for alpha in alpha_space:\n",
    "\n",
    "    # Specify the alpha value to use: ridge.alpha\n",
    "    ridge.alpha = alpha\n",
    "    # Perform 10-fold CV: ridge_cv_scores\n",
    "    ridge_cv_scores = cross_val_score(ridge,X,y,cv=10)\n",
    "    \n",
    "    # Append the mean of ridge_cv_scores to ridge_scores\n",
    "    ridge_scores.append(np.mean(ridge_cv_scores))\n",
    "    \n",
    "    # Append the std of ridge_cv_scores to ridge_scores_std\n",
    "    ridge_scores_std.append(np.std(ridge_cv_scores))\n",
    "\n",
    "# Display the plot\n",
    "display_plot(ridge_scores, ridge_scores_std)\n"
   ]
  },
  {
   "cell_type": "raw",
   "id": "a53750e9",
   "metadata": {},
   "source": [
    "# Import necessary modules\n",
    "from sklearn.metrics import roc_curve\n",
    "\n",
    "# Compute predicted probabilities: y_pred_prob\n",
    "y_pred_prob = logreg.predict_proba(X_test)[:,1]\n",
    "\n",
    "# Generate ROC curve values: fpr, tpr, thresholds\n",
    "fpr, tpr,thresholds = roc_curve(y_test,y_pred_prob)\n",
    "\n",
    "# Plot ROC curve\n",
    "plt.plot([0, 1], [0, 1], 'k--')\n",
    "plt.plot(fpr,tpr)\n",
    "plt.xlabel('False Positive Rate')\n",
    "plt.ylabel('True Positive Rate')\n",
    "plt.title('ROC Curve')\n",
    "plt.show()"
   ]
  },
  {
   "cell_type": "code",
   "execution_count": null,
   "id": "96cc24f7",
   "metadata": {},
   "outputs": [],
   "source": []
  }
 ],
 "metadata": {
  "kernelspec": {
   "display_name": "Python 3",
   "language": "python",
   "name": "python3"
  },
  "language_info": {
   "codemirror_mode": {
    "name": "ipython",
    "version": 3
   },
   "file_extension": ".py",
   "mimetype": "text/x-python",
   "name": "python",
   "nbconvert_exporter": "python",
   "pygments_lexer": "ipython3",
   "version": "3.8.8"
  }
 },
 "nbformat": 4,
 "nbformat_minor": 5
}
